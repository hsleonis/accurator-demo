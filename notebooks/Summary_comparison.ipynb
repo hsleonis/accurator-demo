{
  "nbformat": 4,
  "nbformat_minor": 0,
  "metadata": {
    "colab": {
      "name": "Summary comparison.ipynb",
      "provenance": []
    },
    "kernelspec": {
      "name": "python3",
      "display_name": "Python 3"
    },
    "language_info": {
      "name": "python"
    }
  },
  "cells": [
    {
      "cell_type": "code",
      "metadata": {
        "id": "a527l4NnmEMb"
      },
      "source": [
        "import pandas as pd\n",
        "import matplotlib.pyplot as plt\n",
        "%matplotlib inline"
      ],
      "execution_count": null,
      "outputs": []
    },
    {
      "cell_type": "markdown",
      "metadata": {
        "id": "ksrYR7YRpexH"
      },
      "source": [
        "**List containing all sections of an article:**"
      ]
    },
    {
      "cell_type": "code",
      "metadata": {
        "colab": {
          "base_uri": "https://localhost:8080/",
          "height": 206
        },
        "id": "Q239705FmkCN",
        "outputId": "aa133062-a726-49fe-b573-ba4ea7b9e221"
      },
      "source": [
        "df = pd.read_csv('key_report_1.csv')\n",
        "df.head()"
      ],
      "execution_count": null,
      "outputs": [
        {
          "output_type": "execute_result",
          "data": {
            "text/html": [
              "<div>\n",
              "<style scoped>\n",
              "    .dataframe tbody tr th:only-of-type {\n",
              "        vertical-align: middle;\n",
              "    }\n",
              "\n",
              "    .dataframe tbody tr th {\n",
              "        vertical-align: top;\n",
              "    }\n",
              "\n",
              "    .dataframe thead th {\n",
              "        text-align: right;\n",
              "    }\n",
              "</style>\n",
              "<table border=\"1\" class=\"dataframe\">\n",
              "  <thead>\n",
              "    <tr style=\"text-align: right;\">\n",
              "      <th></th>\n",
              "      <th>ItemID</th>\n",
              "      <th>Unnamed: 1</th>\n",
              "    </tr>\n",
              "  </thead>\n",
              "  <tbody>\n",
              "    <tr>\n",
              "      <th>0</th>\n",
              "      <td>7985785</td>\n",
              "      <td>title,abstract,background,methods,results,conc...</td>\n",
              "    </tr>\n",
              "    <tr>\n",
              "      <th>1</th>\n",
              "      <td>4837660</td>\n",
              "      <td>title,abstract,background,case_presentation,co...</td>\n",
              "    </tr>\n",
              "    <tr>\n",
              "      <th>2</th>\n",
              "      <td>4466444</td>\n",
              "      <td>title,abstract,background,methods,results,conc...</td>\n",
              "    </tr>\n",
              "    <tr>\n",
              "      <th>3</th>\n",
              "      <td>8620634</td>\n",
              "      <td>title,abstract,background,case_presentation,co...</td>\n",
              "    </tr>\n",
              "    <tr>\n",
              "      <th>4</th>\n",
              "      <td>8420016</td>\n",
              "      <td>title,abstract,background,methods,results,conc...</td>\n",
              "    </tr>\n",
              "  </tbody>\n",
              "</table>\n",
              "</div>"
            ],
            "text/plain": [
              "    ItemID                                         Unnamed: 1\n",
              "0  7985785  title,abstract,background,methods,results,conc...\n",
              "1  4837660  title,abstract,background,case_presentation,co...\n",
              "2  4466444  title,abstract,background,methods,results,conc...\n",
              "3  8620634  title,abstract,background,case_presentation,co...\n",
              "4  8420016  title,abstract,background,methods,results,conc..."
            ]
          },
          "metadata": {
            "tags": []
          },
          "execution_count": 5
        }
      ]
    },
    {
      "cell_type": "markdown",
      "metadata": {
        "id": "3rlj7RwIpWJj"
      },
      "source": [
        "**Find articles containing both 'abstract' and 'summary':**"
      ]
    },
    {
      "cell_type": "code",
      "metadata": {
        "id": "gG6k3LlQnCkV"
      },
      "source": [
        "def find_sections(data):\n",
        "  all_sec = data.split(',')\n",
        "  if ('abstract' and 'summary') in all_sec:\n",
        "    return 1\n",
        "\n",
        "  return 0"
      ],
      "execution_count": null,
      "outputs": []
    },
    {
      "cell_type": "code",
      "metadata": {
        "id": "31WTGuosoCCl"
      },
      "source": [
        "df['isPresent'] = df['Unnamed: 1'].apply(find_sections)"
      ],
      "execution_count": null,
      "outputs": []
    },
    {
      "cell_type": "code",
      "metadata": {
        "colab": {
          "base_uri": "https://localhost:8080/"
        },
        "id": "RZW1nKwpo86b",
        "outputId": "f2dad272-55f7-4ebc-bb51-01699712e26a"
      },
      "source": [
        "df['isPresent'].sum()"
      ],
      "execution_count": null,
      "outputs": [
        {
          "output_type": "execute_result",
          "data": {
            "text/plain": [
              "126"
            ]
          },
          "metadata": {
            "tags": []
          },
          "execution_count": 20
        }
      ]
    },
    {
      "cell_type": "code",
      "metadata": {
        "id": "kqH5YGKaqYQm"
      },
      "source": [
        "#df.to_csv('key_present.csv')"
      ],
      "execution_count": null,
      "outputs": []
    }
  ]
}