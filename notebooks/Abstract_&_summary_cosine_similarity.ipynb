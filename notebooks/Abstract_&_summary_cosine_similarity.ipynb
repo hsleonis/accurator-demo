{
  "nbformat": 4,
  "nbformat_minor": 0,
  "metadata": {
    "colab": {
      "name": "Abstract & summary cosine similarity.ipynb",
      "provenance": []
    },
    "kernelspec": {
      "name": "python3",
      "display_name": "Python 3"
    },
    "language_info": {
      "name": "python"
    }
  },
  "cells": [
    {
      "cell_type": "markdown",
      "metadata": {
        "id": "i_SY5c55XEm8"
      },
      "source": [
        "### **Imports**:"
      ]
    },
    {
      "cell_type": "code",
      "metadata": {
        "id": "Cckd0m7FAiXE"
      },
      "source": [
        "import pandas as pd\n",
        "import numpy as np\n",
        "import re\n",
        "import itertools\n",
        "import matplotlib.pyplot as plt\n",
        "%matplotlib inline"
      ],
      "execution_count": null,
      "outputs": []
    },
    {
      "cell_type": "code",
      "metadata": {
        "colab": {
          "base_uri": "https://localhost:8080/",
          "height": 143
        },
        "id": "6Cfix_nyBb8j",
        "outputId": "df90ce2a-9622-4430-8710-c07745f8e91e"
      },
      "source": [
        "df_new = pd.read_csv('compare_adsum.csv')\n",
        "df_new.head(3)"
      ],
      "execution_count": null,
      "outputs": [
        {
          "output_type": "execute_result",
          "data": {
            "text/html": [
              "<div>\n",
              "<style scoped>\n",
              "    .dataframe tbody tr th:only-of-type {\n",
              "        vertical-align: middle;\n",
              "    }\n",
              "\n",
              "    .dataframe tbody tr th {\n",
              "        vertical-align: top;\n",
              "    }\n",
              "\n",
              "    .dataframe thead th {\n",
              "        text-align: right;\n",
              "    }\n",
              "</style>\n",
              "<table border=\"1\" class=\"dataframe\">\n",
              "  <thead>\n",
              "    <tr style=\"text-align: right;\">\n",
              "      <th></th>\n",
              "      <th>ItemID</th>\n",
              "      <th>HasText</th>\n",
              "      <th>abstract</th>\n",
              "      <th>CsAbstract</th>\n",
              "      <th>summary</th>\n",
              "      <th>CsSummery</th>\n",
              "    </tr>\n",
              "  </thead>\n",
              "  <tbody>\n",
              "    <tr>\n",
              "      <th>0</th>\n",
              "      <td>8597014</td>\n",
              "      <td>1</td>\n",
              "      <td>1</td>\n",
              "      <td>0.895780</td>\n",
              "      <td>0</td>\n",
              "      <td>NaN</td>\n",
              "    </tr>\n",
              "    <tr>\n",
              "      <th>1</th>\n",
              "      <td>4649030</td>\n",
              "      <td>1</td>\n",
              "      <td>1</td>\n",
              "      <td>0.223573</td>\n",
              "      <td>0</td>\n",
              "      <td>NaN</td>\n",
              "    </tr>\n",
              "    <tr>\n",
              "      <th>2</th>\n",
              "      <td>5174074</td>\n",
              "      <td>1</td>\n",
              "      <td>0</td>\n",
              "      <td>NaN</td>\n",
              "      <td>0</td>\n",
              "      <td>NaN</td>\n",
              "    </tr>\n",
              "  </tbody>\n",
              "</table>\n",
              "</div>"
            ],
            "text/plain": [
              "    ItemID  HasText  abstract  CsAbstract  summary  CsSummery\n",
              "0  8597014        1         1    0.895780        0        NaN\n",
              "1  4649030        1         1    0.223573        0        NaN\n",
              "2  5174074        1         0         NaN        0        NaN"
            ]
          },
          "metadata": {},
          "execution_count": 12
        }
      ]
    },
    {
      "cell_type": "markdown",
      "metadata": {
        "id": "A90_3WIWZIiI"
      },
      "source": [
        "### **Filter out articles containing 'adverse text' (text filtered from search keywords):**"
      ]
    },
    {
      "cell_type": "code",
      "metadata": {
        "colab": {
          "base_uri": "https://localhost:8080/",
          "height": 143
        },
        "id": "uQNSCC5CCA_C",
        "outputId": "50cddb13-49c9-4398-b955-cc414925690c"
      },
      "source": [
        "df2 = df_new[df_new['HasText'] == 1]\n",
        "df2.head(3)"
      ],
      "execution_count": null,
      "outputs": [
        {
          "output_type": "execute_result",
          "data": {
            "text/html": [
              "<div>\n",
              "<style scoped>\n",
              "    .dataframe tbody tr th:only-of-type {\n",
              "        vertical-align: middle;\n",
              "    }\n",
              "\n",
              "    .dataframe tbody tr th {\n",
              "        vertical-align: top;\n",
              "    }\n",
              "\n",
              "    .dataframe thead th {\n",
              "        text-align: right;\n",
              "    }\n",
              "</style>\n",
              "<table border=\"1\" class=\"dataframe\">\n",
              "  <thead>\n",
              "    <tr style=\"text-align: right;\">\n",
              "      <th></th>\n",
              "      <th>ItemID</th>\n",
              "      <th>HasText</th>\n",
              "      <th>abstract</th>\n",
              "      <th>CsAbstract</th>\n",
              "      <th>summary</th>\n",
              "      <th>CsSummery</th>\n",
              "    </tr>\n",
              "  </thead>\n",
              "  <tbody>\n",
              "    <tr>\n",
              "      <th>0</th>\n",
              "      <td>8597014</td>\n",
              "      <td>1</td>\n",
              "      <td>1</td>\n",
              "      <td>0.895780</td>\n",
              "      <td>0</td>\n",
              "      <td>NaN</td>\n",
              "    </tr>\n",
              "    <tr>\n",
              "      <th>1</th>\n",
              "      <td>4649030</td>\n",
              "      <td>1</td>\n",
              "      <td>1</td>\n",
              "      <td>0.223573</td>\n",
              "      <td>0</td>\n",
              "      <td>NaN</td>\n",
              "    </tr>\n",
              "    <tr>\n",
              "      <th>2</th>\n",
              "      <td>5174074</td>\n",
              "      <td>1</td>\n",
              "      <td>0</td>\n",
              "      <td>NaN</td>\n",
              "      <td>0</td>\n",
              "      <td>NaN</td>\n",
              "    </tr>\n",
              "  </tbody>\n",
              "</table>\n",
              "</div>"
            ],
            "text/plain": [
              "    ItemID  HasText  abstract  CsAbstract  summary  CsSummery\n",
              "0  8597014        1         1    0.895780        0        NaN\n",
              "1  4649030        1         1    0.223573        0        NaN\n",
              "2  5174074        1         0         NaN        0        NaN"
            ]
          },
          "metadata": {},
          "execution_count": 13
        }
      ]
    },
    {
      "cell_type": "markdown",
      "metadata": {
        "id": "rYFIaN0ol0FK"
      },
      "source": [
        "Total articles containing 'adverse text':"
      ]
    },
    {
      "cell_type": "code",
      "metadata": {
        "colab": {
          "base_uri": "https://localhost:8080/"
        },
        "id": "D-nz2SHbkRWe",
        "outputId": "6b30b902-9379-414e-b741-987909ff5aca"
      },
      "source": [
        "len(df2)"
      ],
      "execution_count": null,
      "outputs": [
        {
          "output_type": "execute_result",
          "data": {
            "text/plain": [
              "5912"
            ]
          },
          "metadata": {},
          "execution_count": 14
        }
      ]
    },
    {
      "cell_type": "markdown",
      "metadata": {
        "id": "AwysI6F0ZyfO"
      },
      "source": [
        "### **Cosine similarity between 'adverse text' and 'abstract':**"
      ]
    },
    {
      "cell_type": "code",
      "metadata": {
        "colab": {
          "base_uri": "https://localhost:8080/",
          "height": 143
        },
        "id": "KoCKpaqQCUYa",
        "outputId": "65abbf9e-19f0-422c-a072-bbc82268ca31"
      },
      "source": [
        "df3 = df2[df2['abstract'] == 1].sort_values('CsAbstract')\n",
        "df3.head(3)"
      ],
      "execution_count": null,
      "outputs": [
        {
          "output_type": "execute_result",
          "data": {
            "text/html": [
              "<div>\n",
              "<style scoped>\n",
              "    .dataframe tbody tr th:only-of-type {\n",
              "        vertical-align: middle;\n",
              "    }\n",
              "\n",
              "    .dataframe tbody tr th {\n",
              "        vertical-align: top;\n",
              "    }\n",
              "\n",
              "    .dataframe thead th {\n",
              "        text-align: right;\n",
              "    }\n",
              "</style>\n",
              "<table border=\"1\" class=\"dataframe\">\n",
              "  <thead>\n",
              "    <tr style=\"text-align: right;\">\n",
              "      <th></th>\n",
              "      <th>ItemID</th>\n",
              "      <th>HasText</th>\n",
              "      <th>abstract</th>\n",
              "      <th>CsAbstract</th>\n",
              "      <th>summary</th>\n",
              "      <th>CsSummery</th>\n",
              "    </tr>\n",
              "  </thead>\n",
              "  <tbody>\n",
              "    <tr>\n",
              "      <th>5614</th>\n",
              "      <td>8349956</td>\n",
              "      <td>1</td>\n",
              "      <td>1</td>\n",
              "      <td>-0.207998</td>\n",
              "      <td>0</td>\n",
              "      <td>NaN</td>\n",
              "    </tr>\n",
              "    <tr>\n",
              "      <th>1180</th>\n",
              "      <td>7658834</td>\n",
              "      <td>1</td>\n",
              "      <td>1</td>\n",
              "      <td>-0.185002</td>\n",
              "      <td>0</td>\n",
              "      <td>NaN</td>\n",
              "    </tr>\n",
              "    <tr>\n",
              "      <th>3297</th>\n",
              "      <td>8299381</td>\n",
              "      <td>1</td>\n",
              "      <td>1</td>\n",
              "      <td>-0.147547</td>\n",
              "      <td>0</td>\n",
              "      <td>NaN</td>\n",
              "    </tr>\n",
              "  </tbody>\n",
              "</table>\n",
              "</div>"
            ],
            "text/plain": [
              "       ItemID  HasText  abstract  CsAbstract  summary  CsSummery\n",
              "5614  8349956        1         1   -0.207998        0        NaN\n",
              "1180  7658834        1         1   -0.185002        0        NaN\n",
              "3297  8299381        1         1   -0.147547        0        NaN"
            ]
          },
          "metadata": {},
          "execution_count": 15
        }
      ]
    },
    {
      "cell_type": "markdown",
      "metadata": {
        "id": "PF5Zzp41mIoB"
      },
      "source": [
        "Total articles containing 'abstract':"
      ]
    },
    {
      "cell_type": "code",
      "metadata": {
        "colab": {
          "base_uri": "https://localhost:8080/"
        },
        "id": "IXtTxMlpl8oM",
        "outputId": "59e65639-b36c-46d6-b87b-158818eb7dfa"
      },
      "source": [
        "len(df3)"
      ],
      "execution_count": null,
      "outputs": [
        {
          "output_type": "execute_result",
          "data": {
            "text/plain": [
              "5023"
            ]
          },
          "metadata": {},
          "execution_count": 19
        }
      ]
    },
    {
      "cell_type": "markdown",
      "metadata": {
        "id": "yeTHj7AKmP9J"
      },
      "source": [
        "Cosine similarity:"
      ]
    },
    {
      "cell_type": "code",
      "metadata": {
        "colab": {
          "base_uri": "https://localhost:8080/",
          "height": 375
        },
        "id": "OJKFthFxCqvz",
        "outputId": "9d128b9d-53ed-4823-cefc-b13d1168b2f5"
      },
      "source": [
        "plt.hist(df3['CsAbstract'])"
      ],
      "execution_count": null,
      "outputs": [
        {
          "output_type": "execute_result",
          "data": {
            "text/plain": [
              "(array([   5.,  107., 1114., 1833., 1063.,  335.,  153.,  121.,  108.,\n",
              "         184.]),\n",
              " array([-0.20799784, -0.08719806,  0.03360173,  0.15440151,  0.2752013 ,\n",
              "         0.39600108,  0.51680086,  0.63760065,  0.75840043,  0.87920022,\n",
              "         1.        ]),\n",
              " <a list of 10 Patch objects>)"
            ]
          },
          "metadata": {},
          "execution_count": 16
        },
        {
          "output_type": "display_data",
          "data": {
            "image/png": "[encoded data removed]",
            "text/plain": [
              "<Figure size 432x288 with 1 Axes>"
            ]
          },
          "metadata": {
            "needs_background": "light"
          }
        }
      ]
    },
    {
      "cell_type": "code",
      "metadata": {
        "id": "B8p2D3-6oYYk",
        "colab": {
          "base_uri": "https://localhost:8080/"
        },
        "outputId": "c7854043-0ffd-40c5-dc73-f7dfb71e19cb"
      },
      "source": [
        "len(df3[df3['CsAbstract'] >= 0.7])"
      ],
      "execution_count": null,
      "outputs": [
        {
          "output_type": "execute_result",
          "data": {
            "text/plain": [
              "355"
            ]
          },
          "metadata": {},
          "execution_count": 27
        }
      ]
    },
    {
      "cell_type": "code",
      "metadata": {
        "colab": {
          "base_uri": "https://localhost:8080/"
        },
        "id": "2I1no2KNnRxR",
        "outputId": "f5802697-b096-4f11-cbb6-32b101b867cc"
      },
      "source": [
        "len(df3[df3['CsAbstract'] >= 0.7])/len(df3['CsAbstract'])*100"
      ],
      "execution_count": null,
      "outputs": [
        {
          "output_type": "execute_result",
          "data": {
            "text/plain": [
              "7.067489548078837"
            ]
          },
          "metadata": {},
          "execution_count": 25
        }
      ]
    },
    {
      "cell_type": "markdown",
      "metadata": {
        "id": "ZjZV9Aepnb12"
      },
      "source": [
        "**Only 7.06% abstract texts has larger cosine similarity (at least 70%).**"
      ]
    },
    {
      "cell_type": "markdown",
      "metadata": {
        "id": "YmpHMXr9Z77C"
      },
      "source": [
        "### **Cosine similarity between 'adverse text' and 'summary':**\n"
      ]
    },
    {
      "cell_type": "code",
      "metadata": {
        "colab": {
          "base_uri": "https://localhost:8080/",
          "height": 143
        },
        "id": "FCkt97eIC4kU",
        "outputId": "59df56d3-f3c1-49ae-954e-b160f05d1bb4"
      },
      "source": [
        "df4 = df2[df2['summary'] == 1].sort_values('CsSummery')\n",
        "df4.head(3)"
      ],
      "execution_count": null,
      "outputs": [
        {
          "output_type": "execute_result",
          "data": {
            "text/html": [
              "<div>\n",
              "<style scoped>\n",
              "    .dataframe tbody tr th:only-of-type {\n",
              "        vertical-align: middle;\n",
              "    }\n",
              "\n",
              "    .dataframe tbody tr th {\n",
              "        vertical-align: top;\n",
              "    }\n",
              "\n",
              "    .dataframe thead th {\n",
              "        text-align: right;\n",
              "    }\n",
              "</style>\n",
              "<table border=\"1\" class=\"dataframe\">\n",
              "  <thead>\n",
              "    <tr style=\"text-align: right;\">\n",
              "      <th></th>\n",
              "      <th>ItemID</th>\n",
              "      <th>HasText</th>\n",
              "      <th>abstract</th>\n",
              "      <th>CsAbstract</th>\n",
              "      <th>summary</th>\n",
              "      <th>CsSummery</th>\n",
              "    </tr>\n",
              "  </thead>\n",
              "  <tbody>\n",
              "    <tr>\n",
              "      <th>446</th>\n",
              "      <td>6012874</td>\n",
              "      <td>1</td>\n",
              "      <td>0</td>\n",
              "      <td>NaN</td>\n",
              "      <td>1</td>\n",
              "      <td>-0.020916</td>\n",
              "    </tr>\n",
              "    <tr>\n",
              "      <th>6092</th>\n",
              "      <td>4706970</td>\n",
              "      <td>1</td>\n",
              "      <td>1</td>\n",
              "      <td>0.741284</td>\n",
              "      <td>1</td>\n",
              "      <td>0.004316</td>\n",
              "    </tr>\n",
              "    <tr>\n",
              "      <th>6041</th>\n",
              "      <td>5436753</td>\n",
              "      <td>1</td>\n",
              "      <td>0</td>\n",
              "      <td>NaN</td>\n",
              "      <td>1</td>\n",
              "      <td>0.032629</td>\n",
              "    </tr>\n",
              "  </tbody>\n",
              "</table>\n",
              "</div>"
            ],
            "text/plain": [
              "       ItemID  HasText  abstract  CsAbstract  summary  CsSummery\n",
              "446   6012874        1         0         NaN        1  -0.020916\n",
              "6092  4706970        1         1    0.741284        1   0.004316\n",
              "6041  5436753        1         0         NaN        1   0.032629"
            ]
          },
          "metadata": {},
          "execution_count": 17
        }
      ]
    },
    {
      "cell_type": "markdown",
      "metadata": {
        "id": "N9RfuOgbmX2F"
      },
      "source": [
        "Total articles containing 'summary':"
      ]
    },
    {
      "cell_type": "code",
      "metadata": {
        "colab": {
          "base_uri": "https://localhost:8080/"
        },
        "id": "ckx4-UNxmV2A",
        "outputId": "2a5bfb5b-f6e5-4923-8ce9-47a6abc1772b"
      },
      "source": [
        "len(df4)"
      ],
      "execution_count": null,
      "outputs": [
        {
          "output_type": "execute_result",
          "data": {
            "text/plain": [
              "120"
            ]
          },
          "metadata": {},
          "execution_count": 20
        }
      ]
    },
    {
      "cell_type": "markdown",
      "metadata": {
        "id": "WFPTjBCKmTtQ"
      },
      "source": [
        "Cosine similarity:"
      ]
    },
    {
      "cell_type": "code",
      "metadata": {
        "id": "fYYTRiyZDFJV",
        "colab": {
          "base_uri": "https://localhost:8080/",
          "height": 357
        },
        "outputId": "7192321a-eef9-4c21-810f-2387413421d2"
      },
      "source": [
        "plt.hist(df4['CsSummery'])"
      ],
      "execution_count": null,
      "outputs": [
        {
          "output_type": "execute_result",
          "data": {
            "text/plain": [
              "(array([12., 34., 38., 13., 17.,  0.,  2.,  1.,  1.,  2.]),\n",
              " array([-0.02091628,  0.07894017,  0.17879663,  0.27865308,  0.37850953,\n",
              "         0.47836599,  0.57822244,  0.6780789 ,  0.77793535,  0.87779181,\n",
              "         0.97764826]),\n",
              " <a list of 10 Patch objects>)"
            ]
          },
          "metadata": {},
          "execution_count": 18
        },
        {
          "output_type": "display_data",
          "data": {
            "image/png": "[encoded data removed]",
            "text/plain": [
              "<Figure size 432x288 with 1 Axes>"
            ]
          },
          "metadata": {
            "needs_background": "light"
          }
        }
      ]
    },
    {
      "cell_type": "code",
      "metadata": {
        "id": "xFJNZ4mYoUkc",
        "colab": {
          "base_uri": "https://localhost:8080/"
        },
        "outputId": "90648746-2480-49cd-894c-bcaf0cfc9f94"
      },
      "source": [
        "len(df4[df4['CsSummery'] >= 0.7])"
      ],
      "execution_count": null,
      "outputs": [
        {
          "output_type": "execute_result",
          "data": {
            "text/plain": [
              "4"
            ]
          },
          "metadata": {},
          "execution_count": 26
        }
      ]
    },
    {
      "cell_type": "code",
      "metadata": {
        "colab": {
          "base_uri": "https://localhost:8080/"
        },
        "id": "jYKdTKtuml6J",
        "outputId": "b8d88a62-701a-4a11-ab85-307176b9fdbf"
      },
      "source": [
        "len(df4[df4['CsSummery'] >= 0.7])/len(df4['CsSummery'])*100"
      ],
      "execution_count": null,
      "outputs": [
        {
          "output_type": "execute_result",
          "data": {
            "text/plain": [
              "3.3333333333333335"
            ]
          },
          "metadata": {},
          "execution_count": 24
        }
      ]
    },
    {
      "cell_type": "markdown",
      "metadata": {
        "id": "upzterq5m55s"
      },
      "source": [
        "**Only 3.33% summary texts has larger cosine similarity (at least 70%).**"
      ]
    }
  ]
}