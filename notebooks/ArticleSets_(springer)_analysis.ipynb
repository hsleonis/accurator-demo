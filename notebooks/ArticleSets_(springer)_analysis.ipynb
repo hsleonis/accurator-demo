{
  "nbformat": 4,
  "nbformat_minor": 0,
  "metadata": {
    "colab": {
      "name": "ArticleSets (springer) analysis.ipynb",
      "provenance": []
    },
    "kernelspec": {
      "name": "python3",
      "display_name": "Python 3"
    },
    "language_info": {
      "name": "python"
    }
  },
  "cells": [
    {
      "cell_type": "code",
      "metadata": {
        "id": "5qmejzBvcgqS"
      },
      "source": [
        "import pandas as pd\n",
        "import matplotlib.pyplot as plt\n",
        "import re\n",
        "%matplotlib inline"
      ],
      "execution_count": null,
      "outputs": []
    },
    {
      "cell_type": "code",
      "metadata": {
        "colab": {
          "base_uri": "https://localhost:8080/"
        },
        "id": "-UKSt41AeTwl",
        "outputId": "d3c0974f-c2b7-41a9-c85e-04f8dac9bc6f"
      },
      "source": [
        "%cd drive/MyDrive/Colab\\ Notebooks/data"
      ],
      "execution_count": null,
      "outputs": [
        {
          "output_type": "stream",
          "text": [
            "/content/drive/MyDrive/Colab Notebooks/data\n"
          ],
          "name": "stdout"
        }
      ]
    },
    {
      "cell_type": "code",
      "metadata": {
        "id": "leHAF3TzdZFx"
      },
      "source": [
        "dataset1 = pd.read_csv('dataset_1.csv')\n",
        "dataset2 = pd.read_csv('dataset_2.csv')"
      ],
      "execution_count": null,
      "outputs": []
    },
    {
      "cell_type": "markdown",
      "metadata": {
        "id": "fKRjczoqJ2uk"
      },
      "source": [
        "### **Check articles missing desired XML format:**"
      ]
    },
    {
      "cell_type": "code",
      "metadata": {
        "colab": {
          "base_uri": "https://localhost:8080/",
          "height": 206
        },
        "id": "7icoZF_ZJqYi",
        "outputId": "6326fa72-e9ff-4ead-b593-9eb0d030a32d"
      },
      "source": [
        "json_report = pd.read_csv('json_report_1.csv', names=['ItemID','ArticleSet','isJSON','DOI'])\n",
        "json_report.head()"
      ],
      "execution_count": null,
      "outputs": [
        {
          "output_type": "execute_result",
          "data": {
            "text/html": [
              "<div>\n",
              "<style scoped>\n",
              "    .dataframe tbody tr th:only-of-type {\n",
              "        vertical-align: middle;\n",
              "    }\n",
              "\n",
              "    .dataframe tbody tr th {\n",
              "        vertical-align: top;\n",
              "    }\n",
              "\n",
              "    .dataframe thead th {\n",
              "        text-align: right;\n",
              "    }\n",
              "</style>\n",
              "<table border=\"1\" class=\"dataframe\">\n",
              "  <thead>\n",
              "    <tr style=\"text-align: right;\">\n",
              "      <th></th>\n",
              "      <th>ItemID</th>\n",
              "      <th>ArticleSet</th>\n",
              "      <th>isJSON</th>\n",
              "      <th>DOI</th>\n",
              "    </tr>\n",
              "  </thead>\n",
              "  <tbody>\n",
              "    <tr>\n",
              "      <th>0</th>\n",
              "      <td>4288352</td>\n",
              "      <td>ArticleSet3</td>\n",
              "      <td>1</td>\n",
              "      <td>10.1186/s40425-016-0151-z</td>\n",
              "    </tr>\n",
              "    <tr>\n",
              "      <th>1</th>\n",
              "      <td>4288295</td>\n",
              "      <td>ArticleSet3</td>\n",
              "      <td>0</td>\n",
              "      <td>10.1007/s00280-016-3190-8</td>\n",
              "    </tr>\n",
              "    <tr>\n",
              "      <th>2</th>\n",
              "      <td>4288431</td>\n",
              "      <td>ArticleSet3</td>\n",
              "      <td>1</td>\n",
              "      <td>10.1186/s12887-016-0734-3</td>\n",
              "    </tr>\n",
              "    <tr>\n",
              "      <th>3</th>\n",
              "      <td>4288417</td>\n",
              "      <td>ArticleSet3</td>\n",
              "      <td>1</td>\n",
              "      <td>10.1186/s40425-016-0114-4</td>\n",
              "    </tr>\n",
              "    <tr>\n",
              "      <th>4</th>\n",
              "      <td>4288429</td>\n",
              "      <td>ArticleSet3</td>\n",
              "      <td>0</td>\n",
              "      <td>10.1007/s00380-016-0847-5</td>\n",
              "    </tr>\n",
              "  </tbody>\n",
              "</table>\n",
              "</div>"
            ],
            "text/plain": [
              "    ItemID   ArticleSet  isJSON                        DOI\n",
              "0  4288352  ArticleSet3       1  10.1186/s40425-016-0151-z\n",
              "1  4288295  ArticleSet3       0  10.1007/s00280-016-3190-8\n",
              "2  4288431  ArticleSet3       1  10.1186/s12887-016-0734-3\n",
              "3  4288417  ArticleSet3       1  10.1186/s40425-016-0114-4\n",
              "4  4288429  ArticleSet3       0  10.1007/s00380-016-0847-5"
            ]
          },
          "metadata": {
            "tags": []
          },
          "execution_count": 4
        }
      ]
    },
    {
      "cell_type": "code",
      "metadata": {
        "colab": {
          "base_uri": "https://localhost:8080/"
        },
        "id": "5M7J_q2rJzNl",
        "outputId": "6384fd7c-d8b2-426c-fdc9-07f6b8bb6014"
      },
      "source": [
        "json_report['isJSON'].sum()"
      ],
      "execution_count": null,
      "outputs": [
        {
          "output_type": "execute_result",
          "data": {
            "text/plain": [
              "2969"
            ]
          },
          "metadata": {
            "tags": []
          },
          "execution_count": 5
        }
      ]
    },
    {
      "cell_type": "code",
      "metadata": {
        "colab": {
          "base_uri": "https://localhost:8080/",
          "height": 248
        },
        "id": "zxANVYElOTyU",
        "outputId": "c2562677-d494-414f-dada-a260e1a5384f"
      },
      "source": [
        "labels = 'Without JSON (4666)', 'XML -> JSON (2969)'\n",
        "sizes = [len(json_report) - json_report['isJSON'].sum(), json_report['isJSON'].sum()]\n",
        "explode = (0, 0.1)\n",
        "\n",
        "fig1, ax1 = plt.subplots()\n",
        "ax1.pie(sizes, explode=explode, labels=labels, autopct='%1.1f%%',\n",
        "        shadow=True, startangle=90)\n",
        "ax1.axis('equal')\n",
        "\n",
        "plt.show()"
      ],
      "execution_count": null,
      "outputs": [
        {
          "output_type": "display_data",
          "data": {
            "image/png": "[encoded data removed]",
            "text/plain": [
              "<Figure size 432x288 with 1 Axes>"
            ]
          },
          "metadata": {
            "tags": []
          }
        }
      ]
    },
    {
      "cell_type": "markdown",
      "metadata": {
        "id": "UHg55QKvgwPD"
      },
      "source": [
        "### **Check for NULL in DOI (Digital Object Identifier):**"
      ]
    },
    {
      "cell_type": "code",
      "metadata": {
        "colab": {
          "base_uri": "https://localhost:8080/",
          "height": 196
        },
        "id": "NUlNym26ekLt",
        "outputId": "af696caa-2e2c-49fc-9106-43ce7bc316c1"
      },
      "source": [
        "nulldoi = dataset1[dataset1['DOI'].isnull()]\n",
        "nulldoi.head(3)"
      ],
      "execution_count": null,
      "outputs": [
        {
          "output_type": "execute_result",
          "data": {
            "text/html": [
              "<div>\n",
              "<style scoped>\n",
              "    .dataframe tbody tr th:only-of-type {\n",
              "        vertical-align: middle;\n",
              "    }\n",
              "\n",
              "    .dataframe tbody tr th {\n",
              "        vertical-align: top;\n",
              "    }\n",
              "\n",
              "    .dataframe thead th {\n",
              "        text-align: right;\n",
              "    }\n",
              "</style>\n",
              "<table border=\"1\" class=\"dataframe\">\n",
              "  <thead>\n",
              "    <tr style=\"text-align: right;\">\n",
              "      <th></th>\n",
              "      <th>ItemID</th>\n",
              "      <th>ArticleSet</th>\n",
              "      <th>FileLocation</th>\n",
              "      <th>Adnm</th>\n",
              "      <th>NarrativeText</th>\n",
              "      <th>VancouverCitation</th>\n",
              "      <th>NewsDescriptors</th>\n",
              "      <th>DOI</th>\n",
              "    </tr>\n",
              "  </thead>\n",
              "  <tbody>\n",
              "    <tr>\n",
              "      <th>129</th>\n",
              "      <td>4347060</td>\n",
              "      <td>ArticleSet5</td>\n",
              "      <td>\\\\SNTPScontacqXML\\contacqXML$\\ArticleSet5\\4347...</td>\n",
              "      <td>3222696</td>\n",
              "      <td>In a phase&amp;#160;III trial (NCT00508274), three...</td>\n",
              "      <td>Xu BH, Jiang ZF, Chua D, Shao ZM, Luo RC, Wang...</td>\n",
              "      <td>Capecitabine,Lapatinib,Haemoptysis,Neutropenia...</td>\n",
              "      <td>NaN</td>\n",
              "    </tr>\n",
              "    <tr>\n",
              "      <th>253</th>\n",
              "      <td>4351872</td>\n",
              "      <td>ArticleSet3</td>\n",
              "      <td>\\\\SNTPScontacqXML\\contacqXML$\\ArticleSet3\\4351...</td>\n",
              "      <td>3226339</td>\n",
              "      <td>A 46-year-old woman with hypertension associat...</td>\n",
              "      <td>Mazza A, Ravenni R, Armigliato M, Rossetti C, ...</td>\n",
              "      <td>Venlafaxine,Hypertension</td>\n",
              "      <td>NaN</td>\n",
              "    </tr>\n",
              "    <tr>\n",
              "      <th>371</th>\n",
              "      <td>4527200</td>\n",
              "      <td>ArticleSet5</td>\n",
              "      <td>\\\\SNTPScontacqXML\\contacqXML$\\ArticleSet5\\4527...</td>\n",
              "      <td>3232009</td>\n",
              "      <td>An 81-year-old woman developed nausea, malaise...</td>\n",
              "      <td>Passen E, Marks A, Palmer P, Poludasu R, Khedk...</td>\n",
              "      <td>Regadenoson,Nausea,Malaise,Intravenous,Elderly...</td>\n",
              "      <td>NaN</td>\n",
              "    </tr>\n",
              "  </tbody>\n",
              "</table>\n",
              "</div>"
            ],
            "text/plain": [
              "      ItemID  ...  DOI\n",
              "129  4347060  ...  NaN\n",
              "253  4351872  ...  NaN\n",
              "371  4527200  ...  NaN\n",
              "\n",
              "[3 rows x 8 columns]"
            ]
          },
          "metadata": {
            "tags": []
          },
          "execution_count": 7
        }
      ]
    },
    {
      "cell_type": "markdown",
      "metadata": {
        "id": "-3uadgL2hMzj"
      },
      "source": [
        "Total items with **NULL** DOI:"
      ]
    },
    {
      "cell_type": "code",
      "metadata": {
        "colab": {
          "base_uri": "https://localhost:8080/"
        },
        "id": "vwqyBMrGhHiH",
        "outputId": "3491d422-28d6-4c23-de06-fb84707e1e24"
      },
      "source": [
        "len(nulldoi)"
      ],
      "execution_count": null,
      "outputs": [
        {
          "output_type": "execute_result",
          "data": {
            "text/plain": [
              "111"
            ]
          },
          "metadata": {
            "tags": []
          },
          "execution_count": 8
        }
      ]
    },
    {
      "cell_type": "code",
      "metadata": {
        "colab": {
          "base_uri": "https://localhost:8080/",
          "height": 257
        },
        "id": "_49db3M2iIvZ",
        "outputId": "bbf98ea0-02f8-4aed-f35d-377d5c95043e"
      },
      "source": [
        "labels = 'With DOI (7524)', 'NULL (111)'\n",
        "sizes = [len(dataset1) - len(nulldoi), len(nulldoi)]\n",
        "explode = (0, 0.1)\n",
        "\n",
        "fig1, ax1 = plt.subplots()\n",
        "ax1.pie(sizes, explode=explode, labels=labels, autopct='%1.1f%%',\n",
        "        shadow=True, startangle=90)\n",
        "ax1.axis('equal')\n",
        "\n",
        "plt.show()"
      ],
      "execution_count": null,
      "outputs": [
        {
          "output_type": "display_data",
          "data": {
            "image/png": "[encoded data removed]",
            "text/plain": [
              "<Figure size 432x288 with 1 Axes>"
            ]
          },
          "metadata": {
            "tags": []
          }
        }
      ]
    },
    {
      "cell_type": "markdown",
      "metadata": {
        "id": "IJyEtHPUih8x"
      },
      "source": [
        "**1.5%** has NULL DOI out of **7635** items."
      ]
    },
    {
      "cell_type": "code",
      "metadata": {
        "colab": {
          "base_uri": "https://localhost:8080/",
          "height": 251
        },
        "id": "3n7jFZOvUaBO",
        "outputId": "df345a82-6800-46e4-af3d-558ed9c8fa66"
      },
      "source": [
        "labels = 'No JSON (4555)', 'XML -> JSON (2969)', 'NULL (111)'\n",
        "sizes = [len(dataset1) - len(nulldoi) - json_report['isJSON'].sum(), json_report['isJSON'].sum(), len(nulldoi)]\n",
        "explode = (0.1, 0.1, 0)\n",
        "\n",
        "fig1, ax1 = plt.subplots()\n",
        "ax1.pie(sizes, explode=explode, labels=labels, autopct='%1.1f%%',\n",
        "        shadow=True, startangle=90)\n",
        "ax1.axis('equal')\n",
        "\n",
        "plt.show()"
      ],
      "execution_count": null,
      "outputs": [
        {
          "output_type": "display_data",
          "data": {
            "image/png": "[encoded data removed]",
            "text/plain": [
              "<Figure size 432x288 with 1 Axes>"
            ]
          },
          "metadata": {
            "tags": []
          }
        }
      ]
    },
    {
      "cell_type": "markdown",
      "metadata": {
        "id": "IZkT0RwhsYop"
      },
      "source": [
        "### **Check if any item is available in both Articleset:**"
      ]
    },
    {
      "cell_type": "code",
      "metadata": {
        "colab": {
          "base_uri": "https://localhost:8080/",
          "height": 69
        },
        "id": "04TrBRxwp0Rz",
        "outputId": "4d604e20-8ea8-4f6a-c6e7-bf6e1a92018d"
      },
      "source": [
        "dataset1.join(dataset2, on=\"ItemID\", how=\"inner\", lsuffix=\"_ds1\", rsuffix=\"_ds2\")"
      ],
      "execution_count": null,
      "outputs": [
        {
          "output_type": "execute_result",
          "data": {
            "text/html": [
              "<div>\n",
              "<style scoped>\n",
              "    .dataframe tbody tr th:only-of-type {\n",
              "        vertical-align: middle;\n",
              "    }\n",
              "\n",
              "    .dataframe tbody tr th {\n",
              "        vertical-align: top;\n",
              "    }\n",
              "\n",
              "    .dataframe thead th {\n",
              "        text-align: right;\n",
              "    }\n",
              "</style>\n",
              "<table border=\"1\" class=\"dataframe\">\n",
              "  <thead>\n",
              "    <tr style=\"text-align: right;\">\n",
              "      <th></th>\n",
              "      <th>ItemID</th>\n",
              "      <th>ItemID_ds1</th>\n",
              "      <th>ArticleSet_ds1</th>\n",
              "      <th>FileLocation_ds1</th>\n",
              "      <th>Adnm_ds1</th>\n",
              "      <th>NarrativeText_ds1</th>\n",
              "      <th>VancouverCitation_ds1</th>\n",
              "      <th>NewsDescriptors_ds1</th>\n",
              "      <th>DOI_ds1</th>\n",
              "      <th>ItemID_ds2</th>\n",
              "      <th>ArticleSet_ds2</th>\n",
              "      <th>FileLocation_ds2</th>\n",
              "      <th>Adnm_ds2</th>\n",
              "      <th>NarrativeText_ds2</th>\n",
              "      <th>VancouverCitation_ds2</th>\n",
              "      <th>NewsDescriptors_ds2</th>\n",
              "      <th>DOI_ds2</th>\n",
              "    </tr>\n",
              "  </thead>\n",
              "  <tbody>\n",
              "  </tbody>\n",
              "</table>\n",
              "</div>"
            ],
            "text/plain": [
              "Empty DataFrame\n",
              "Columns: [ItemID, ItemID_ds1, ArticleSet_ds1, FileLocation_ds1, Adnm_ds1, NarrativeText_ds1, VancouverCitation_ds1, NewsDescriptors_ds1, DOI_ds1, ItemID_ds2, ArticleSet_ds2, FileLocation_ds2, Adnm_ds2, NarrativeText_ds2, VancouverCitation_ds2, NewsDescriptors_ds2, DOI_ds2]\n",
              "Index: []"
            ]
          },
          "metadata": {
            "tags": []
          },
          "execution_count": 11
        }
      ]
    },
    {
      "cell_type": "markdown",
      "metadata": {
        "id": "p2YD81Q3tDQ9"
      },
      "source": [
        "**Conclusion**: No overlap."
      ]
    },
    {
      "cell_type": "markdown",
      "metadata": {
        "id": "h9Ke-z7ya_-x"
      },
      "source": [
        "### **Check for Articles Not Found:**"
      ]
    },
    {
      "cell_type": "code",
      "metadata": {
        "colab": {
          "base_uri": "https://localhost:8080/",
          "height": 206
        },
        "id": "eHQZLUzObHs4",
        "outputId": "2ec95bc8-d0c1-4a65-8fd2-5cf61b779703"
      },
      "source": [
        "html_report = pd.read_csv('html_report_1.csv')\n",
        "html_report.head()"
      ],
      "execution_count": null,
      "outputs": [
        {
          "output_type": "execute_result",
          "data": {
            "text/html": [
              "<div>\n",
              "<style scoped>\n",
              "    .dataframe tbody tr th:only-of-type {\n",
              "        vertical-align: middle;\n",
              "    }\n",
              "\n",
              "    .dataframe tbody tr th {\n",
              "        vertical-align: top;\n",
              "    }\n",
              "\n",
              "    .dataframe thead th {\n",
              "        text-align: right;\n",
              "    }\n",
              "</style>\n",
              "<table border=\"1\" class=\"dataframe\">\n",
              "  <thead>\n",
              "    <tr style=\"text-align: right;\">\n",
              "      <th></th>\n",
              "      <th>ItemID</th>\n",
              "      <th>ArticleSet</th>\n",
              "      <th>is_html</th>\n",
              "      <th>is_article</th>\n",
              "      <th>DOI</th>\n",
              "    </tr>\n",
              "  </thead>\n",
              "  <tbody>\n",
              "    <tr>\n",
              "      <th>0</th>\n",
              "      <td>4288352</td>\n",
              "      <td>ArticleSet3</td>\n",
              "      <td>0</td>\n",
              "      <td>0</td>\n",
              "      <td>10.1186/s40425-016-0151-z</td>\n",
              "    </tr>\n",
              "    <tr>\n",
              "      <th>1</th>\n",
              "      <td>4288295</td>\n",
              "      <td>ArticleSet3</td>\n",
              "      <td>1</td>\n",
              "      <td>1</td>\n",
              "      <td>10.1007/s00280-016-3190-8</td>\n",
              "    </tr>\n",
              "    <tr>\n",
              "      <th>2</th>\n",
              "      <td>4288431</td>\n",
              "      <td>ArticleSet3</td>\n",
              "      <td>0</td>\n",
              "      <td>0</td>\n",
              "      <td>10.1186/s12887-016-0734-3</td>\n",
              "    </tr>\n",
              "    <tr>\n",
              "      <th>3</th>\n",
              "      <td>4288417</td>\n",
              "      <td>ArticleSet3</td>\n",
              "      <td>0</td>\n",
              "      <td>0</td>\n",
              "      <td>10.1186/s40425-016-0114-4</td>\n",
              "    </tr>\n",
              "    <tr>\n",
              "      <th>4</th>\n",
              "      <td>4288429</td>\n",
              "      <td>ArticleSet3</td>\n",
              "      <td>1</td>\n",
              "      <td>1</td>\n",
              "      <td>10.1007/s00380-016-0847-5</td>\n",
              "    </tr>\n",
              "  </tbody>\n",
              "</table>\n",
              "</div>"
            ],
            "text/plain": [
              "    ItemID   ArticleSet  is_html  is_article                        DOI\n",
              "0  4288352  ArticleSet3        0           0  10.1186/s40425-016-0151-z\n",
              "1  4288295  ArticleSet3        1           1  10.1007/s00280-016-3190-8\n",
              "2  4288431  ArticleSet3        0           0  10.1186/s12887-016-0734-3\n",
              "3  4288417  ArticleSet3        0           0  10.1186/s40425-016-0114-4\n",
              "4  4288429  ArticleSet3        1           1  10.1007/s00380-016-0847-5"
            ]
          },
          "metadata": {
            "tags": []
          },
          "execution_count": 12
        }
      ]
    },
    {
      "cell_type": "code",
      "metadata": {
        "colab": {
          "base_uri": "https://localhost:8080/"
        },
        "id": "dGB8wrpHbocu",
        "outputId": "e00a9c0c-f627-470a-c8fe-dccd59f60f8c"
      },
      "source": [
        "# HTML found\n",
        "html_report['is_html'].sum()"
      ],
      "execution_count": null,
      "outputs": [
        {
          "output_type": "execute_result",
          "data": {
            "text/plain": [
              "4666"
            ]
          },
          "metadata": {
            "tags": []
          },
          "execution_count": 13
        }
      ]
    },
    {
      "cell_type": "code",
      "metadata": {
        "colab": {
          "base_uri": "https://localhost:8080/"
        },
        "id": "F-vjhbTpbHs5",
        "outputId": "3cb94af7-c79e-4268-8b06-a4b7da52e4e9"
      },
      "source": [
        "# article found\n",
        "html_report['is_article'].sum()"
      ],
      "execution_count": null,
      "outputs": [
        {
          "output_type": "execute_result",
          "data": {
            "text/plain": [
              "3856"
            ]
          },
          "metadata": {
            "tags": []
          },
          "execution_count": 14
        }
      ]
    },
    {
      "cell_type": "code",
      "metadata": {
        "colab": {
          "base_uri": "https://localhost:8080/"
        },
        "id": "lrZMQkGFb_G3",
        "outputId": "486f5694-1500-4625-fe44-bda5bd39fdf7"
      },
      "source": [
        "# article not found\n",
        "not_found = html_report['is_html'].sum() - html_report['is_article'].sum() - len(nulldoi)\n",
        "not_found"
      ],
      "execution_count": null,
      "outputs": [
        {
          "output_type": "execute_result",
          "data": {
            "text/plain": [
              "699"
            ]
          },
          "metadata": {
            "tags": []
          },
          "execution_count": 15
        }
      ]
    },
    {
      "cell_type": "code",
      "metadata": {
        "colab": {
          "base_uri": "https://localhost:8080/",
          "height": 249
        },
        "id": "wB0oKTZfbHs5",
        "outputId": "8679d7b2-86f3-414e-9257-cd4bda17821c"
      },
      "source": [
        "labels = 'No JSON (4555)', 'XML -> JSON (2969)', 'NULL (111)', 'Not Found (699)'\n",
        "sizes = [len(dataset1) - len(nulldoi) - json_report['isJSON'].sum(), json_report['isJSON'].sum(), len(nulldoi), not_found]\n",
        "explode = (0.1, 0, 0, 0.2)\n",
        "\n",
        "fig1, ax1 = plt.subplots()\n",
        "ax1.pie(sizes, explode=explode, labels=labels, autopct='%1.1f%%',\n",
        "        shadow=True, startangle=90)\n",
        "ax1.axis('equal')\n",
        "\n",
        "plt.show()"
      ],
      "execution_count": null,
      "outputs": [
        {
          "output_type": "display_data",
          "data": {
            "image/png": "[encoded data removed]",
            "text/plain": [
              "<Figure size 432x288 with 1 Axes>"
            ]
          },
          "metadata": {
            "tags": []
          }
        }
      ]
    }
  ]
}