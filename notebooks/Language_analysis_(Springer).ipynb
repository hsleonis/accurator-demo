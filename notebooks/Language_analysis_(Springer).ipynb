{
  "nbformat": 4,
  "nbformat_minor": 0,
  "metadata": {
    "colab": {
      "name": "Language analysis (Springer).ipynb",
      "provenance": []
    },
    "kernelspec": {
      "name": "python3",
      "display_name": "Python 3"
    },
    "language_info": {
      "name": "python"
    }
  },
  "cells": [
    {
      "cell_type": "code",
      "metadata": {
        "id": "l8pn6-qefOpc"
      },
      "source": [
        "import pandas as pd\n",
        "import matplotlib.pyplot as plt\n",
        "import re"
      ],
      "execution_count": null,
      "outputs": []
    },
    {
      "cell_type": "markdown",
      "metadata": {
        "id": "ALkkBrX6gnE2"
      },
      "source": [
        "### **Langdetect**:"
      ]
    },
    {
      "cell_type": "code",
      "metadata": {
        "id": "BB3eTHaGfpEr"
      },
      "source": [
        "lang_report = pd.read_csv('lang_report_1.csv')"
      ],
      "execution_count": null,
      "outputs": []
    },
    {
      "cell_type": "code",
      "metadata": {
        "colab": {
          "base_uri": "https://localhost:8080/",
          "height": 206
        },
        "id": "pJgYgb_KRdgA",
        "outputId": "7da019bc-a186-4633-abe0-5fde02f764a4"
      },
      "source": [
        "lang_report.head()"
      ],
      "execution_count": null,
      "outputs": [
        {
          "output_type": "execute_result",
          "data": {
            "text/html": [
              "<div>\n",
              "<style scoped>\n",
              "    .dataframe tbody tr th:only-of-type {\n",
              "        vertical-align: middle;\n",
              "    }\n",
              "\n",
              "    .dataframe tbody tr th {\n",
              "        vertical-align: top;\n",
              "    }\n",
              "\n",
              "    .dataframe thead th {\n",
              "        text-align: right;\n",
              "    }\n",
              "</style>\n",
              "<table border=\"1\" class=\"dataframe\">\n",
              "  <thead>\n",
              "    <tr style=\"text-align: right;\">\n",
              "      <th></th>\n",
              "      <th>ItemID</th>\n",
              "      <th>Lang</th>\n",
              "    </tr>\n",
              "  </thead>\n",
              "  <tbody>\n",
              "    <tr>\n",
              "      <th>0</th>\n",
              "      <td>7985785</td>\n",
              "      <td>en</td>\n",
              "    </tr>\n",
              "    <tr>\n",
              "      <th>1</th>\n",
              "      <td>4837660</td>\n",
              "      <td>en</td>\n",
              "    </tr>\n",
              "    <tr>\n",
              "      <th>2</th>\n",
              "      <td>4466444</td>\n",
              "      <td>en</td>\n",
              "    </tr>\n",
              "    <tr>\n",
              "      <th>3</th>\n",
              "      <td>8620634</td>\n",
              "      <td>en</td>\n",
              "    </tr>\n",
              "    <tr>\n",
              "      <th>4</th>\n",
              "      <td>8420016</td>\n",
              "      <td>en</td>\n",
              "    </tr>\n",
              "  </tbody>\n",
              "</table>\n",
              "</div>"
            ],
            "text/plain": [
              "    ItemID Lang\n",
              "0  7985785   en\n",
              "1  4837660   en\n",
              "2  4466444   en\n",
              "3  8620634   en\n",
              "4  8420016   en"
            ]
          },
          "metadata": {
            "tags": []
          },
          "execution_count": 23
        }
      ]
    },
    {
      "cell_type": "markdown",
      "metadata": {
        "id": "z88vXwiQghXN"
      },
      "source": [
        "Describe language report:"
      ]
    },
    {
      "cell_type": "code",
      "metadata": {
        "colab": {
          "base_uri": "https://localhost:8080/"
        },
        "id": "YW6HY0dogCu7",
        "outputId": "06984d12-ea09-41b0-d96d-7e5710296319"
      },
      "source": [
        "lang_report['Lang'].describe()"
      ],
      "execution_count": null,
      "outputs": [
        {
          "output_type": "execute_result",
          "data": {
            "text/plain": [
              "count     6825\n",
              "unique       6\n",
              "top         en\n",
              "freq      6661\n",
              "Name: Lang, dtype: object"
            ]
          },
          "metadata": {
            "tags": []
          },
          "execution_count": 3
        }
      ]
    },
    {
      "cell_type": "markdown",
      "metadata": {
        "id": "gBfjYf14gdpj"
      },
      "source": [
        "Non-english articles:"
      ]
    },
    {
      "cell_type": "code",
      "metadata": {
        "colab": {
          "base_uri": "https://localhost:8080/"
        },
        "id": "NK665Bn_gNEg",
        "outputId": "7ec12fdc-7cf7-4df7-b408-7ceb1763e282"
      },
      "source": [
        "len(lang_report[lang_report['Lang'] != 'en'])"
      ],
      "execution_count": null,
      "outputs": [
        {
          "output_type": "execute_result",
          "data": {
            "text/plain": [
              "164"
            ]
          },
          "metadata": {
            "tags": []
          },
          "execution_count": 4
        }
      ]
    },
    {
      "cell_type": "markdown",
      "metadata": {
        "id": "gV93IgFogq5M"
      },
      "source": [
        "Plot:"
      ]
    },
    {
      "cell_type": "code",
      "metadata": {
        "colab": {
          "base_uri": "https://localhost:8080/",
          "height": 265
        },
        "id": "7CioQik3fw2j",
        "outputId": "9f4d39c5-5359-4bfe-d0d1-429673712dd3"
      },
      "source": [
        "plt.hist(lang_report['Lang'])\n",
        "plt.show()"
      ],
      "execution_count": null,
      "outputs": [
        {
          "output_type": "display_data",
          "data": {
            "image/png": "[encoded data removed]",
            "text/plain": [
              "<Figure size 432x288 with 1 Axes>"
            ]
          },
          "metadata": {
            "tags": [],
            "needs_background": "light"
          }
        }
      ]
    },
    {
      "cell_type": "code",
      "metadata": {
        "colab": {
          "base_uri": "https://localhost:8080/"
        },
        "id": "_eRqDbmEjEQj",
        "outputId": "d2a9477d-607a-4b18-dc74-9316f826127e"
      },
      "source": [
        "[len(lang_report[lang_report['Lang'] == 'en']), len(lang_report[lang_report['Lang'] == 'af']), len(lang_report[lang_report['Lang'] == 'de']), len(lang_report[lang_report['Lang'] == 'ro']), len(lang_report[lang_report['Lang'] == 'fr']), len(lang_report[lang_report['Lang'] == 'cy'])]"
      ],
      "execution_count": null,
      "outputs": [
        {
          "output_type": "execute_result",
          "data": {
            "text/plain": [
              "[6661, 15, 143, 3, 2, 1]"
            ]
          },
          "metadata": {
            "tags": []
          },
          "execution_count": 6
        }
      ]
    },
    {
      "cell_type": "code",
      "metadata": {
        "colab": {
          "base_uri": "https://localhost:8080/",
          "height": 265
        },
        "id": "ee8zUlPtkGA7",
        "outputId": "d4c1d96b-285a-4d75-fee6-38dd9f646ebc"
      },
      "source": [
        "plt.hist(lang_report[lang_report['Lang'] != 'en']['Lang'])\n",
        "plt.show()"
      ],
      "execution_count": null,
      "outputs": [
        {
          "output_type": "display_data",
          "data": {
            "image/png": "[encoded data removed]",
            "text/plain": [
              "<Figure size 432x288 with 1 Axes>"
            ]
          },
          "metadata": {
            "tags": [],
            "needs_background": "light"
          }
        }
      ]
    },
    {
      "cell_type": "code",
      "metadata": {
        "colab": {
          "base_uri": "https://localhost:8080/",
          "height": 256
        },
        "id": "gbdUThIPgDpG",
        "outputId": "ea81690b-70c0-4320-f0ac-65d999daef52"
      },
      "source": [
        "labels = 'EN', 'AF', 'DE', 'RO', 'FR', 'CY'\n",
        "sizes = [len(lang_report[lang_report['Lang'] == 'en']), len(lang_report[lang_report['Lang'] == 'af']), len(lang_report[lang_report['Lang'] == 'de']), len(lang_report[lang_report['Lang'] == 'ro']), len(lang_report[lang_report['Lang'] == 'fr']), len(lang_report[lang_report['Lang'] == 'cy'])]\n",
        "explode = (0.1, 0.1, 0.1, 0.1, 0.1, 0.1)\n",
        "\n",
        "fig1, ax1 = plt.subplots()\n",
        "ax1.pie(sizes, explode=explode, labels=labels, autopct='%1.1f%%',\n",
        "        shadow=True, startangle=90)\n",
        "ax1.axis('equal')\n",
        "\n",
        "plt.show()"
      ],
      "execution_count": null,
      "outputs": [
        {
          "output_type": "display_data",
          "data": {
            "image/png": "[encoded data removed]",
            "text/plain": [
              "<Figure size 432x288 with 1 Axes>"
            ]
          },
          "metadata": {
            "tags": []
          }
        }
      ]
    },
    {
      "cell_type": "code",
      "metadata": {
        "colab": {
          "base_uri": "https://localhost:8080/",
          "height": 251
        },
        "id": "8RhWDb_khe4N",
        "outputId": "fb5883b1-96b7-495b-8737-e231d03b4592"
      },
      "source": [
        "labels = 'AF', 'RO', 'FR', 'CY'\n",
        "sizes = [len(lang_report[lang_report['Lang'] == 'af']), len(lang_report[lang_report['Lang'] == 'ro']), len(lang_report[lang_report['Lang'] == 'fr']), len(lang_report[lang_report['Lang'] == 'cy'])]\n",
        "explode = (0.1, 0.1, 0.1, 0.1)\n",
        "\n",
        "fig1, ax1 = plt.subplots()\n",
        "ax1.pie(sizes, explode=explode, labels=labels, autopct='%1.1f%%',\n",
        "        shadow=True, startangle=90)\n",
        "ax1.axis('equal')\n",
        "\n",
        "plt.show()"
      ],
      "execution_count": null,
      "outputs": [
        {
          "output_type": "display_data",
          "data": {
            "image/png": "[encoded data removed]",
            "text/plain": [
              "<Figure size 432x288 with 1 Axes>"
            ]
          },
          "metadata": {
            "tags": []
          }
        }
      ]
    },
    {
      "cell_type": "markdown",
      "metadata": {
        "id": "bfoDIpQclgwV"
      },
      "source": [
        "### **CLD-3 :**"
      ]
    },
    {
      "cell_type": "code",
      "metadata": {
        "id": "nR8uxooglbIW"
      },
      "source": [
        "cld_report = pd.read_csv('cld3_report_1.csv')"
      ],
      "execution_count": null,
      "outputs": []
    },
    {
      "cell_type": "code",
      "metadata": {
        "colab": {
          "base_uri": "https://localhost:8080/",
          "height": 206
        },
        "id": "TuZfAxR6ToRB",
        "outputId": "9730d871-08ca-4fb8-fd14-9ee755411bf8"
      },
      "source": [
        "cld_report.head()"
      ],
      "execution_count": null,
      "outputs": [
        {
          "output_type": "execute_result",
          "data": {
            "text/html": [
              "<div>\n",
              "<style scoped>\n",
              "    .dataframe tbody tr th:only-of-type {\n",
              "        vertical-align: middle;\n",
              "    }\n",
              "\n",
              "    .dataframe tbody tr th {\n",
              "        vertical-align: top;\n",
              "    }\n",
              "\n",
              "    .dataframe thead th {\n",
              "        text-align: right;\n",
              "    }\n",
              "</style>\n",
              "<table border=\"1\" class=\"dataframe\">\n",
              "  <thead>\n",
              "    <tr style=\"text-align: right;\">\n",
              "      <th></th>\n",
              "      <th>ItemID</th>\n",
              "      <th>Lang</th>\n",
              "    </tr>\n",
              "  </thead>\n",
              "  <tbody>\n",
              "    <tr>\n",
              "      <th>0</th>\n",
              "      <td>7985785</td>\n",
              "      <td>LanguagePrediction(language='en', probability=...</td>\n",
              "    </tr>\n",
              "    <tr>\n",
              "      <th>1</th>\n",
              "      <td>4837660</td>\n",
              "      <td>LanguagePrediction(language='en', probability=...</td>\n",
              "    </tr>\n",
              "    <tr>\n",
              "      <th>2</th>\n",
              "      <td>4466444</td>\n",
              "      <td>LanguagePrediction(language='en', probability=...</td>\n",
              "    </tr>\n",
              "    <tr>\n",
              "      <th>3</th>\n",
              "      <td>8620634</td>\n",
              "      <td>LanguagePrediction(language='en', probability=...</td>\n",
              "    </tr>\n",
              "    <tr>\n",
              "      <th>4</th>\n",
              "      <td>8420016</td>\n",
              "      <td>LanguagePrediction(language='en', probability=...</td>\n",
              "    </tr>\n",
              "  </tbody>\n",
              "</table>\n",
              "</div>"
            ],
            "text/plain": [
              "    ItemID                                               Lang\n",
              "0  7985785  LanguagePrediction(language='en', probability=...\n",
              "1  4837660  LanguagePrediction(language='en', probability=...\n",
              "2  4466444  LanguagePrediction(language='en', probability=...\n",
              "3  8620634  LanguagePrediction(language='en', probability=...\n",
              "4  8420016  LanguagePrediction(language='en', probability=..."
            ]
          },
          "metadata": {
            "tags": []
          },
          "execution_count": 11
        }
      ]
    },
    {
      "cell_type": "markdown",
      "metadata": {
        "id": "LgN-sgAZdwFr"
      },
      "source": [
        "Get language codes:"
      ]
    },
    {
      "cell_type": "code",
      "metadata": {
        "colab": {
          "base_uri": "https://localhost:8080/",
          "height": 206
        },
        "id": "rCGe9umrTuF2",
        "outputId": "05d0c6d3-d7f1-4f16-b1d2-432153cb98e5"
      },
      "source": [
        "cld_report['Lang'] = cld_report['Lang'].apply(lambda x: re.findall(r\"\\'([a-zA-Z\\-]+)\\'\", x)[0])\n",
        "cld_report.head()"
      ],
      "execution_count": null,
      "outputs": [
        {
          "output_type": "execute_result",
          "data": {
            "text/html": [
              "<div>\n",
              "<style scoped>\n",
              "    .dataframe tbody tr th:only-of-type {\n",
              "        vertical-align: middle;\n",
              "    }\n",
              "\n",
              "    .dataframe tbody tr th {\n",
              "        vertical-align: top;\n",
              "    }\n",
              "\n",
              "    .dataframe thead th {\n",
              "        text-align: right;\n",
              "    }\n",
              "</style>\n",
              "<table border=\"1\" class=\"dataframe\">\n",
              "  <thead>\n",
              "    <tr style=\"text-align: right;\">\n",
              "      <th></th>\n",
              "      <th>ItemID</th>\n",
              "      <th>Lang</th>\n",
              "    </tr>\n",
              "  </thead>\n",
              "  <tbody>\n",
              "    <tr>\n",
              "      <th>0</th>\n",
              "      <td>7985785</td>\n",
              "      <td>en</td>\n",
              "    </tr>\n",
              "    <tr>\n",
              "      <th>1</th>\n",
              "      <td>4837660</td>\n",
              "      <td>en</td>\n",
              "    </tr>\n",
              "    <tr>\n",
              "      <th>2</th>\n",
              "      <td>4466444</td>\n",
              "      <td>en</td>\n",
              "    </tr>\n",
              "    <tr>\n",
              "      <th>3</th>\n",
              "      <td>8620634</td>\n",
              "      <td>en</td>\n",
              "    </tr>\n",
              "    <tr>\n",
              "      <th>4</th>\n",
              "      <td>8420016</td>\n",
              "      <td>en</td>\n",
              "    </tr>\n",
              "  </tbody>\n",
              "</table>\n",
              "</div>"
            ],
            "text/plain": [
              "    ItemID Lang\n",
              "0  7985785   en\n",
              "1  4837660   en\n",
              "2  4466444   en\n",
              "3  8620634   en\n",
              "4  8420016   en"
            ]
          },
          "metadata": {
            "tags": []
          },
          "execution_count": 12
        }
      ]
    },
    {
      "cell_type": "code",
      "metadata": {
        "colab": {
          "base_uri": "https://localhost:8080/",
          "height": 265
        },
        "id": "G508PW_JWhvG",
        "outputId": "f578490d-a94e-4747-81e6-07f63873ffca"
      },
      "source": [
        "plt.hist(cld_report['Lang'])\n",
        "plt.show()"
      ],
      "execution_count": null,
      "outputs": [
        {
          "output_type": "display_data",
          "data": {
            "image/png": "[encoded data removed]",
            "text/plain": [
              "<Figure size 432x288 with 1 Axes>"
            ]
          },
          "metadata": {
            "tags": [],
            "needs_background": "light"
          }
        }
      ]
    },
    {
      "cell_type": "code",
      "metadata": {
        "colab": {
          "base_uri": "https://localhost:8080/",
          "height": 265
        },
        "id": "KRDb1SdwaBu9",
        "outputId": "21d3fa5e-ced0-4a60-a478-9dbe6d7b757c"
      },
      "source": [
        "plt.hist(cld_report[cld_report['Lang'] != 'en']['Lang'])\n",
        "plt.show()"
      ],
      "execution_count": null,
      "outputs": [
        {
          "output_type": "display_data",
          "data": {
            "image/png": "[encoded data removed]",
            "text/plain": [
              "<Figure size 432x288 with 1 Axes>"
            ]
          },
          "metadata": {
            "tags": [],
            "needs_background": "light"
          }
        }
      ]
    },
    {
      "cell_type": "code",
      "metadata": {
        "id": "GPJzo2ciapvs"
      },
      "source": [
        "def lng(lang_code):\n",
        "  return len(cld_report[cld_report['Lang'] == lang_code])"
      ],
      "execution_count": null,
      "outputs": []
    },
    {
      "cell_type": "markdown",
      "metadata": {
        "id": "92-jsCs3cOsF"
      },
      "source": [
        "English:"
      ]
    },
    {
      "cell_type": "code",
      "metadata": {
        "colab": {
          "base_uri": "https://localhost:8080/"
        },
        "id": "g1w_BF_pcMWl",
        "outputId": "b2814e7d-76f0-4acf-ad45-90e94675431c"
      },
      "source": [
        "lng('en')"
      ],
      "execution_count": null,
      "outputs": [
        {
          "output_type": "execute_result",
          "data": {
            "text/plain": [
              "6571"
            ]
          },
          "metadata": {
            "tags": []
          },
          "execution_count": 16
        }
      ]
    },
    {
      "cell_type": "markdown",
      "metadata": {
        "id": "AzBz6WK2cQa1"
      },
      "source": [
        "Deutsch:"
      ]
    },
    {
      "cell_type": "code",
      "metadata": {
        "colab": {
          "base_uri": "https://localhost:8080/"
        },
        "id": "0aDfOPJYcSJq",
        "outputId": "a3308c5b-6ef9-4e16-c9dd-1ace7b8358d5"
      },
      "source": [
        "lng('de')"
      ],
      "execution_count": null,
      "outputs": [
        {
          "output_type": "execute_result",
          "data": {
            "text/plain": [
              "143"
            ]
          },
          "metadata": {
            "tags": []
          },
          "execution_count": 17
        }
      ]
    },
    {
      "cell_type": "code",
      "metadata": {
        "colab": {
          "base_uri": "https://localhost:8080/"
        },
        "id": "-ch4WzZ0bYdu",
        "outputId": "93214c73-e601-482a-bb4e-f1feae62608c"
      },
      "source": [
        "[lng('af'), lng('co'), lng('cy'), lng('ig'), lng('mt'), lng('gd'), lng('zh-Latn'), lng('nl')]"
      ],
      "execution_count": null,
      "outputs": [
        {
          "output_type": "execute_result",
          "data": {
            "text/plain": [
              "[39, 4, 32, 26, 2, 1, 1, 1]"
            ]
          },
          "metadata": {
            "tags": []
          },
          "execution_count": 18
        }
      ]
    },
    {
      "cell_type": "code",
      "metadata": {
        "colab": {
          "base_uri": "https://localhost:8080/",
          "height": 255
        },
        "id": "AqBTBpJgQYKr",
        "outputId": "97631944-87c8-4aac-dbd6-b6c9ae48153b"
      },
      "source": [
        "labels = 'EN (6571)', 'DE(143)', 'AF (39)', 'CO (4)', 'CY (32)', 'IG (26)', 'MT (2)', 'GD (1)', 'ZH-LATN (1)', 'NL (1)'\n",
        "sizes = [6571, 143, 39, 4, 32, 26, 2, 1, 1, 1]\n",
        "explode = (0.1,)*10\n",
        "\n",
        "fig1, ax1 = plt.subplots()\n",
        "ax1.pie(sizes, explode=explode, labels=labels, autopct='%1.1f%%',\n",
        "        shadow=True, startangle=90)\n",
        "ax1.axis('equal')\n",
        "\n",
        "plt.show()"
      ],
      "execution_count": null,
      "outputs": [
        {
          "output_type": "display_data",
          "data": {
            "image/png": "[encoded data removed]",
            "text/plain": [
              "<Figure size 432x288 with 1 Axes>"
            ]
          },
          "metadata": {
            "tags": []
          }
        }
      ]
    },
    {
      "cell_type": "code",
      "metadata": {
        "colab": {
          "base_uri": "https://localhost:8080/",
          "height": 252
        },
        "id": "9ptgQXM0aUBh",
        "outputId": "083ff753-81f5-4c4d-c6dc-6bdf1a3fdf5c"
      },
      "source": [
        "labels = 'AF (39)', 'CO (4)', 'CY (32)', 'IG (26)', 'MT (2)', 'GD (1)', 'ZH-LATN (1)', 'NL (1)'\n",
        "sizes = [39, 4, 32, 26, 2, 1, 1, 1]\n",
        "explode = (0.1,)*8\n",
        "\n",
        "fig1, ax1 = plt.subplots()\n",
        "ax1.pie(sizes, explode=explode, labels=labels, autopct='%1.1f%%',\n",
        "        shadow=True, startangle=90)\n",
        "ax1.axis('equal')\n",
        "\n",
        "plt.show()"
      ],
      "execution_count": null,
      "outputs": [
        {
          "output_type": "display_data",
          "data": {
            "image/png": "[encoded data removed]",
            "text/plain": [
              "<Figure size 432x288 with 1 Axes>"
            ]
          },
          "metadata": {
            "tags": []
          }
        }
      ]
    },
    {
      "cell_type": "code",
      "metadata": {
        "id": "U9MHXrlvdr1N"
      },
      "source": [
        "de_rep = cld_report[cld_report['Lang']!='en']"
      ],
      "execution_count": null,
      "outputs": []
    },
    {
      "cell_type": "code",
      "metadata": {
        "id": "Fo6f1wgYi_2X"
      },
      "source": [
        "de_rep = de_rep[de_rep['Lang']!='de']"
      ],
      "execution_count": null,
      "outputs": []
    },
    {
      "cell_type": "markdown",
      "metadata": {
        "id": "IDWouo13PZDn"
      },
      "source": [
        "**Analyze contents of de texts:**"
      ]
    },
    {
      "cell_type": "code",
      "metadata": {
        "id": "3yeU4IGxPd8z"
      },
      "source": [
        "de_cont = pd.read_csv('lang_de_content.csv')"
      ],
      "execution_count": null,
      "outputs": []
    },
    {
      "cell_type": "code",
      "metadata": {
        "colab": {
          "base_uri": "https://localhost:8080/",
          "height": 81
        },
        "id": "r817HGk_RZlu",
        "outputId": "7773ad29-52c2-485e-a3bf-418c3eb88f4b"
      },
      "source": [
        "de_cont[de_cont['sl'] == 4352384]"
      ],
      "execution_count": null,
      "outputs": [
        {
          "output_type": "execute_result",
          "data": {
            "text/html": [
              "<div>\n",
              "<style scoped>\n",
              "    .dataframe tbody tr th:only-of-type {\n",
              "        vertical-align: middle;\n",
              "    }\n",
              "\n",
              "    .dataframe tbody tr th {\n",
              "        vertical-align: top;\n",
              "    }\n",
              "\n",
              "    .dataframe thead th {\n",
              "        text-align: right;\n",
              "    }\n",
              "</style>\n",
              "<table border=\"1\" class=\"dataframe\">\n",
              "  <thead>\n",
              "    <tr style=\"text-align: right;\">\n",
              "      <th></th>\n",
              "      <th>sl</th>\n",
              "      <th>ItemID</th>\n",
              "      <th>Lang</th>\n",
              "      <th>Content</th>\n",
              "    </tr>\n",
              "  </thead>\n",
              "  <tbody>\n",
              "    <tr>\n",
              "      <th>3610</th>\n",
              "      <td>4352384</td>\n",
              "      <td>de</td>\n",
              "      <td>Impact of unsuspected subsegmental pulmonary e...</td>\n",
              "      <td>PE). As a result of modern multi-detector comp...</td>\n",
              "    </tr>\n",
              "  </tbody>\n",
              "</table>\n",
              "</div>"
            ],
            "text/plain": [
              "           sl  ...                                            Content\n",
              "3610  4352384  ...  PE). As a result of modern multi-detector comp...\n",
              "\n",
              "[1 rows x 4 columns]"
            ]
          },
          "metadata": {
            "tags": []
          },
          "execution_count": 330
        }
      ]
    },
    {
      "cell_type": "code",
      "metadata": {
        "colab": {
          "base_uri": "https://localhost:8080/",
          "height": 81
        },
        "id": "ISHAcdmSR104",
        "outputId": "7fc77092-dac2-4fb4-91bf-07231ed9dbbc"
      },
      "source": [
        "de_cont[de_cont['sl'] == 7071922]"
      ],
      "execution_count": null,
      "outputs": [
        {
          "output_type": "execute_result",
          "data": {
            "text/html": [
              "<div>\n",
              "<style scoped>\n",
              "    .dataframe tbody tr th:only-of-type {\n",
              "        vertical-align: middle;\n",
              "    }\n",
              "\n",
              "    .dataframe tbody tr th {\n",
              "        vertical-align: top;\n",
              "    }\n",
              "\n",
              "    .dataframe thead th {\n",
              "        text-align: right;\n",
              "    }\n",
              "</style>\n",
              "<table border=\"1\" class=\"dataframe\">\n",
              "  <thead>\n",
              "    <tr style=\"text-align: right;\">\n",
              "      <th></th>\n",
              "      <th>sl</th>\n",
              "      <th>ItemID</th>\n",
              "      <th>Lang</th>\n",
              "      <th>Content</th>\n",
              "    </tr>\n",
              "  </thead>\n",
              "  <tbody>\n",
              "    <tr>\n",
              "      <th>3841</th>\n",
              "      <td>7071922</td>\n",
              "      <td>de</td>\n",
              "      <td>Successful retreatment with 3-week rituximab-b...</td>\n",
              "      <td>JE, Cabanillas F (2001) Mantle-cell lymphoma....</td>\n",
              "    </tr>\n",
              "  </tbody>\n",
              "</table>\n",
              "</div>"
            ],
            "text/plain": [
              "           sl  ...                                            Content\n",
              "3841  7071922  ...   JE, Cabanillas F (2001) Mantle-cell lymphoma....\n",
              "\n",
              "[1 rows x 4 columns]"
            ]
          },
          "metadata": {
            "tags": []
          },
          "execution_count": 331
        }
      ]
    },
    {
      "cell_type": "markdown",
      "metadata": {
        "id": "xEKKi1CWP0yJ"
      },
      "source": [
        "**Following articles seems to be 'en':**\n",
        "\n",
        "*ItemID*: 4352384, 7071922"
      ]
    },
    {
      "cell_type": "markdown",
      "metadata": {
        "id": "tdYzlmacAdbZ"
      },
      "source": [
        "**Analyze contents of non-en and non-de texts:**"
      ]
    },
    {
      "cell_type": "code",
      "metadata": {
        "id": "caTnCKiOAlYL"
      },
      "source": [
        "lang_content = pd.read_csv('lang_out_content.csv')"
      ],
      "execution_count": null,
      "outputs": []
    },
    {
      "cell_type": "code",
      "metadata": {
        "colab": {
          "base_uri": "https://localhost:8080/",
          "height": 363
        },
        "id": "f_EKMZYyBPlC",
        "outputId": "9a73192b-69f4-4657-d931-d290dd863733"
      },
      "source": [
        "lang_content[:10]"
      ],
      "execution_count": null,
      "outputs": [
        {
          "output_type": "execute_result",
          "data": {
            "text/html": [
              "<div>\n",
              "<style scoped>\n",
              "    .dataframe tbody tr th:only-of-type {\n",
              "        vertical-align: middle;\n",
              "    }\n",
              "\n",
              "    .dataframe tbody tr th {\n",
              "        vertical-align: top;\n",
              "    }\n",
              "\n",
              "    .dataframe thead th {\n",
              "        text-align: right;\n",
              "    }\n",
              "</style>\n",
              "<table border=\"1\" class=\"dataframe\">\n",
              "  <thead>\n",
              "    <tr style=\"text-align: right;\">\n",
              "      <th></th>\n",
              "      <th>Unnamed: 0</th>\n",
              "      <th>ItemID</th>\n",
              "      <th>Lang</th>\n",
              "      <th>Title</th>\n",
              "      <th>Textpart</th>\n",
              "    </tr>\n",
              "  </thead>\n",
              "  <tbody>\n",
              "    <tr>\n",
              "      <th>0</th>\n",
              "      <td>418</td>\n",
              "      <td>8928260</td>\n",
              "      <td>af</td>\n",
              "      <td>The 44th Annual Meeting of the European Societ...</td>\n",
              "      <td>ed by the European Society for Blood and Marro...</td>\n",
              "    </tr>\n",
              "    <tr>\n",
              "      <th>1</th>\n",
              "      <td>852</td>\n",
              "      <td>5032881</td>\n",
              "      <td>co</td>\n",
              "      <td>The 12th Edition of the Scientific Days of the...</td>\n",
              "      <td>contentsA1 The outcome of patients with recur...</td>\n",
              "    </tr>\n",
              "    <tr>\n",
              "      <th>2</th>\n",
              "      <td>1910</td>\n",
              "      <td>5032877</td>\n",
              "      <td>co</td>\n",
              "      <td>The 12th Edition of the Scientific Days of the...</td>\n",
              "      <td>contentsA1 The outcome of patients with recur...</td>\n",
              "    </tr>\n",
              "    <tr>\n",
              "      <th>3</th>\n",
              "      <td>1944</td>\n",
              "      <td>7337169</td>\n",
              "      <td>af</td>\n",
              "      <td>Risk factors for febrile neutropenia and effec...</td>\n",
              "      <td>abstract': 'AbstractBackgroundThe docetaxel, 5...</td>\n",
              "    </tr>\n",
              "    <tr>\n",
              "      <th>4</th>\n",
              "      <td>2478</td>\n",
              "      <td>5032903</td>\n",
              "      <td>co</td>\n",
              "      <td>The 12th Edition of the Scientific Days of the...</td>\n",
              "      <td>contentsA1 The outcome of patients with recur...</td>\n",
              "    </tr>\n",
              "    <tr>\n",
              "      <th>5</th>\n",
              "      <td>2979</td>\n",
              "      <td>6339823</td>\n",
              "      <td>af</td>\n",
              "      <td>Irish Endocrine Society 42nd Annual Meeting, 1...</td>\n",
              "      <td>Society 42nd Annual Meeting, 19th and 20th Oc...</td>\n",
              "    </tr>\n",
              "    <tr>\n",
              "      <th>6</th>\n",
              "      <td>3001</td>\n",
              "      <td>6602843</td>\n",
              "      <td>af</td>\n",
              "      <td>Osteoporosis Conference 2018 Birmingham, UK 2 ...</td>\n",
              "      <td>Conference 2018 Birmingham, UK 2 – 4 December ...</td>\n",
              "    </tr>\n",
              "    <tr>\n",
              "      <th>7</th>\n",
              "      <td>3019</td>\n",
              "      <td>4666661</td>\n",
              "      <td>cy</td>\n",
              "      <td>Hemophagocytic lymphohistiocytosis following i...</td>\n",
              "      <td>a GE, Lehmberg K. Hemophagocytic lymphohistioc...</td>\n",
              "    </tr>\n",
              "    <tr>\n",
              "      <th>8</th>\n",
              "      <td>3052</td>\n",
              "      <td>6890658</td>\n",
              "      <td>af</td>\n",
              "      <td>Society of Skeletal Radiology 38th Annual Meet...</td>\n",
              "      <td>l Radiology 38th Annual Meeting March 8 – 11, ...</td>\n",
              "    </tr>\n",
              "    <tr>\n",
              "      <th>9</th>\n",
              "      <td>3056</td>\n",
              "      <td>4544641</td>\n",
              "      <td>cy</td>\n",
              "      <td>Management of immediate hypersensitivity react...</td>\n",
              "      <td>\\n\\n 2000; 43: 62–3.\\n\\nCAS\\n\\n\\xa0\\n    \\n\\nP...</td>\n",
              "    </tr>\n",
              "  </tbody>\n",
              "</table>\n",
              "</div>"
            ],
            "text/plain": [
              "   Unnamed: 0  ...                                           Textpart\n",
              "0         418  ...  ed by the European Society for Blood and Marro...\n",
              "1         852  ...   contentsA1 The outcome of patients with recur...\n",
              "2        1910  ...   contentsA1 The outcome of patients with recur...\n",
              "3        1944  ...  abstract': 'AbstractBackgroundThe docetaxel, 5...\n",
              "4        2478  ...   contentsA1 The outcome of patients with recur...\n",
              "5        2979  ...   Society 42nd Annual Meeting, 19th and 20th Oc...\n",
              "6        3001  ...  Conference 2018 Birmingham, UK 2 – 4 December ...\n",
              "7        3019  ...  a GE, Lehmberg K. Hemophagocytic lymphohistioc...\n",
              "8        3052  ...  l Radiology 38th Annual Meeting March 8 – 11, ...\n",
              "9        3056  ...  \\n\\n 2000; 43: 62–3.\\n\\nCAS\\n\\n\\xa0\\n    \\n\\nP...\n",
              "\n",
              "[10 rows x 5 columns]"
            ]
          },
          "metadata": {
            "tags": []
          },
          "execution_count": 333
        }
      ]
    },
    {
      "cell_type": "code",
      "metadata": {
        "colab": {
          "base_uri": "https://localhost:8080/",
          "height": 36
        },
        "id": "g7e4GMG7Bo87",
        "outputId": "8967cf5c-b86d-4cff-f2fa-e6ac957a32a5"
      },
      "source": [
        "lang_content.iloc[101]['Title']"
      ],
      "execution_count": null,
      "outputs": [
        {
          "output_type": "execute_result",
          "data": {
            "application/vnd.google.colaboratory.intrinsic+json": {
              "type": "string"
            },
            "text/plain": [
              "'Pancréatite aiguë secondaire à la 6-mercaptopurine : à propos d’un cas '"
            ]
          },
          "metadata": {
            "tags": []
          },
          "execution_count": 334
        }
      ]
    },
    {
      "cell_type": "markdown",
      "metadata": {
        "id": "5067IvLhBnl3"
      },
      "source": [
        "**Following articles seems to be non-'en':**\n",
        "\n",
        "*ItemID*: 4874873, 5043679, 5064792, 6115046, 5081739, 5008557, 5777288, 8409006"
      ]
    },
    {
      "cell_type": "code",
      "metadata": {
        "colab": {
          "base_uri": "https://localhost:8080/",
          "height": 300
        },
        "id": "b8Rdh8iFBnDA",
        "outputId": "adb6995d-05d8-4b4f-dbc8-360b8f815bad"
      },
      "source": [
        "lang_content[lang_content['ItemID'].isin([4874873, 5043679, 5064792, 6115046, 5081739, 5008557, 5777288, 8409006])]"
      ],
      "execution_count": null,
      "outputs": [
        {
          "output_type": "execute_result",
          "data": {
            "text/html": [
              "<div>\n",
              "<style scoped>\n",
              "    .dataframe tbody tr th:only-of-type {\n",
              "        vertical-align: middle;\n",
              "    }\n",
              "\n",
              "    .dataframe tbody tr th {\n",
              "        vertical-align: top;\n",
              "    }\n",
              "\n",
              "    .dataframe thead th {\n",
              "        text-align: right;\n",
              "    }\n",
              "</style>\n",
              "<table border=\"1\" class=\"dataframe\">\n",
              "  <thead>\n",
              "    <tr style=\"text-align: right;\">\n",
              "      <th></th>\n",
              "      <th>Unnamed: 0</th>\n",
              "      <th>ItemID</th>\n",
              "      <th>Lang</th>\n",
              "      <th>Title</th>\n",
              "      <th>Textpart</th>\n",
              "    </tr>\n",
              "  </thead>\n",
              "  <tbody>\n",
              "    <tr>\n",
              "      <th>13</th>\n",
              "      <td>3256</td>\n",
              "      <td>4874873</td>\n",
              "      <td>af</td>\n",
              "      <td>Nachtmerries en hallucinaties bij metoprolol</td>\n",
              "      <td>ekten.', 'literatuur': '1.\\n\\nGIP databank, Zo...</td>\n",
              "    </tr>\n",
              "    <tr>\n",
              "      <th>15</th>\n",
              "      <td>3428</td>\n",
              "      <td>5043679</td>\n",
              "      <td>fr</td>\n",
              "      <td>Extravasation médiastinale de chimiothérapie c...</td>\n",
              "      <td>tion par voie veineuse centrale de produits cy...</td>\n",
              "    </tr>\n",
              "    <tr>\n",
              "      <th>22</th>\n",
              "      <td>3790</td>\n",
              "      <td>5064792</td>\n",
              "      <td>fr</td>\n",
              "      <td>Incidence des hémorragies intracrâniennes reta...</td>\n",
              "      <td>hémorragies intracrâniennes retardées chez le...</td>\n",
              "    </tr>\n",
              "    <tr>\n",
              "      <th>24</th>\n",
              "      <td>3832</td>\n",
              "      <td>6115046</td>\n",
              "      <td>af</td>\n",
              "      <td>Levamisole Induced Pauci Immune Focal Necrotiz...</td>\n",
              "      <td>rticle\\n\\n\\xa0\\n    \\n\\nPubMed\\n\\n\\xa0\\n    \\n...</td>\n",
              "    </tr>\n",
              "    <tr>\n",
              "      <th>67</th>\n",
              "      <td>5555</td>\n",
              "      <td>5081739</td>\n",
              "      <td>fr</td>\n",
              "      <td>Neuropathie périphérique sous anti-TNF alpha a...</td>\n",
              "      <td>Fα) sont prescrits de façon croissante dans le...</td>\n",
              "    </tr>\n",
              "    <tr>\n",
              "      <th>86</th>\n",
              "      <td>6108</td>\n",
              "      <td>5008557</td>\n",
              "      <td>nl</td>\n",
              "      <td>Dyspnoe bij nitrofurantoïne</td>\n",
              "      <td>er zijn veelvoorkomende bijwerkingen zoals mi...</td>\n",
              "    </tr>\n",
              "    <tr>\n",
              "      <th>97</th>\n",
              "      <td>6520</td>\n",
              "      <td>5777288</td>\n",
              "      <td>af</td>\n",
              "      <td>46. Jahrestagung der Österreichischen Gesellsc...</td>\n",
              "      <td>der Österreichischen Gesellschaft für Innere M...</td>\n",
              "    </tr>\n",
              "    <tr>\n",
              "      <th>102</th>\n",
              "      <td>6625</td>\n",
              "      <td>8409006</td>\n",
              "      <td>af</td>\n",
              "      <td>Apremilast for extensive and treatment-resista...</td>\n",
              "      <td>ast in the treatment of alopecia areata. Small...</td>\n",
              "    </tr>\n",
              "  </tbody>\n",
              "</table>\n",
              "</div>"
            ],
            "text/plain": [
              "     Unnamed: 0  ...                                           Textpart\n",
              "13         3256  ...  ekten.', 'literatuur': '1.\\n\\nGIP databank, Zo...\n",
              "15         3428  ...  tion par voie veineuse centrale de produits cy...\n",
              "22         3790  ...   hémorragies intracrâniennes retardées chez le...\n",
              "24         3832  ...  rticle\\n\\n\\xa0\\n    \\n\\nPubMed\\n\\n\\xa0\\n    \\n...\n",
              "67         5555  ...  Fα) sont prescrits de façon croissante dans le...\n",
              "86         6108  ...   er zijn veelvoorkomende bijwerkingen zoals mi...\n",
              "97         6520  ...  der Österreichischen Gesellschaft für Innere M...\n",
              "102        6625  ...  ast in the treatment of alopecia areata. Small...\n",
              "\n",
              "[8 rows x 5 columns]"
            ]
          },
          "metadata": {
            "tags": []
          },
          "execution_count": 335
        }
      ]
    },
    {
      "cell_type": "markdown",
      "metadata": {
        "id": "Ipj3J5f2VtiP"
      },
      "source": [
        "Check if 'de' accurate:"
      ]
    },
    {
      "cell_type": "code",
      "metadata": {
        "colab": {
          "base_uri": "https://localhost:8080/"
        },
        "id": "Zt02RVh3Ve8D",
        "outputId": "a853263d-f38c-40be-d6cc-412457589c74"
      },
      "source": [
        "sum(de_cont[~de_cont['sl'].isin([4352384, 7071922])]['ItemID']!='de')"
      ],
      "execution_count": null,
      "outputs": [
        {
          "output_type": "execute_result",
          "data": {
            "text/plain": [
              "0"
            ]
          },
          "metadata": {
            "tags": []
          },
          "execution_count": 336
        }
      ]
    },
    {
      "cell_type": "markdown",
      "metadata": {
        "id": "GeKBvq-5VzVs"
      },
      "source": [
        "Create a list of non-'en' articles:"
      ]
    },
    {
      "cell_type": "code",
      "metadata": {
        "colab": {
          "base_uri": "https://localhost:8080/"
        },
        "id": "suzyW3IMXnNU",
        "outputId": "456afde5-3ad7-4118-82d0-33a8b8a7ebd7"
      },
      "source": [
        "s1 = pd.Series([4874873, 5043679, 5064792, 6115046, 5081739, 5008557, 5777288, 8409006], name=\"ItemID\")\n",
        "s2 = pd.Series(de_cont[~de_cont['sl'].isin([4352384, 7071922])]['sl'], name=\"ItemID\")\n",
        "\n",
        "non_en = pd.concat([s1, s2], axis=0)\n",
        "non_en"
      ],
      "execution_count": null,
      "outputs": [
        {
          "output_type": "execute_result",
          "data": {
            "text/plain": [
              "0       4874873\n",
              "1       5043679\n",
              "2       5064792\n",
              "3       6115046\n",
              "4       5081739\n",
              "         ...   \n",
              "6698    6529552\n",
              "6757    5597871\n",
              "6799    7692616\n",
              "6810    8745992\n",
              "6821    7303324\n",
              "Name: ItemID, Length: 149, dtype: int64"
            ]
          },
          "metadata": {
            "tags": []
          },
          "execution_count": 337
        }
      ]
    },
    {
      "cell_type": "markdown",
      "metadata": {
        "id": "FRgO-geYYNep"
      },
      "source": [
        "Replace all other article language to 'en': "
      ]
    },
    {
      "cell_type": "code",
      "metadata": {
        "id": "JGo5HPUkhgQN"
      },
      "source": [
        "cld_report_new = cld_report"
      ],
      "execution_count": null,
      "outputs": []
    },
    {
      "cell_type": "code",
      "metadata": {
        "id": "3KfcEJ4BUUed"
      },
      "source": [
        "cld_report_new.loc[~cld_report_new['ItemID'].isin(non_en),'Lang'] = 'en'"
      ],
      "execution_count": null,
      "outputs": []
    },
    {
      "cell_type": "code",
      "metadata": {
        "colab": {
          "base_uri": "https://localhost:8080/",
          "height": 269
        },
        "id": "LWf7xv6raWPr",
        "outputId": "3c4612bb-31c6-431c-bce2-5d43b8beb2a0"
      },
      "source": [
        "plt.hist(cld_report_new['Lang'])\n",
        "plt.show()"
      ],
      "execution_count": null,
      "outputs": [
        {
          "output_type": "display_data",
          "data": {
            "image/png": "[encoded data removed]",
            "text/plain": [
              "<Figure size 432x288 with 1 Axes>"
            ]
          },
          "metadata": {
            "tags": [],
            "needs_background": "light"
          }
        }
      ]
    },
    {
      "cell_type": "code",
      "metadata": {
        "colab": {
          "base_uri": "https://localhost:8080/",
          "height": 265
        },
        "id": "BW3GIgNfkPG0",
        "outputId": "12e7d492-e79f-4239-f506-5a184727c566"
      },
      "source": [
        "plt.hist(cld_report_new[cld_report_new['Lang'] != 'en']['Lang'])\n",
        "plt.show()"
      ],
      "execution_count": null,
      "outputs": [
        {
          "output_type": "display_data",
          "data": {
            "image/png": "[encoded data removed]",
            "text/plain": [
              "<Figure size 432x288 with 1 Axes>"
            ]
          },
          "metadata": {
            "tags": [],
            "needs_background": "light"
          }
        }
      ]
    },
    {
      "cell_type": "code",
      "metadata": {
        "id": "VWn3w6kmanhG"
      },
      "source": [
        "def lng2(lang_code):\n",
        "  return len(cld_report_new[cld_report_new['Lang'] == lang_code])"
      ],
      "execution_count": null,
      "outputs": []
    },
    {
      "cell_type": "code",
      "metadata": {
        "colab": {
          "base_uri": "https://localhost:8080/"
        },
        "id": "EgPsvVILa0VJ",
        "outputId": "2ff6b486-bef1-4749-d4df-1d7e8c01e3a4"
      },
      "source": [
        "[lng2('en'), lng2('de'), lng2('af'), lng2('fr'), lng2('nl')]"
      ],
      "execution_count": null,
      "outputs": [
        {
          "output_type": "execute_result",
          "data": {
            "text/plain": [
              "[6676, 141, 4, 3, 1]"
            ]
          },
          "metadata": {
            "tags": []
          },
          "execution_count": 344
        }
      ]
    },
    {
      "cell_type": "code",
      "metadata": {
        "colab": {
          "base_uri": "https://localhost:8080/",
          "height": 256
        },
        "id": "XfQyOCmOav0i",
        "outputId": "e4022dce-a41b-4744-9594-99544466a935"
      },
      "source": [
        "labels = 'EN (6676)', 'DE (141)', 'AF (4)', 'FR (3)', 'NL (1)'\n",
        "sizes = [6676, 141, 4, 3, 1]\n",
        "explode = (0.1,)*5\n",
        "\n",
        "fig1, ax1 = plt.subplots()\n",
        "ax1.pie(sizes, explode=explode, labels=labels, autopct='%1.1f%%',\n",
        "        shadow=True, startangle=90)\n",
        "ax1.axis('equal')\n",
        "\n",
        "plt.show()"
      ],
      "execution_count": null,
      "outputs": [
        {
          "output_type": "display_data",
          "data": {
            "image/png": "[encoded data removed]",
            "text/plain": [
              "<Figure size 432x288 with 1 Axes>"
            ]
          },
          "metadata": {
            "tags": []
          }
        }
      ]
    },
    {
      "cell_type": "code",
      "metadata": {
        "colab": {
          "base_uri": "https://localhost:8080/",
          "height": 248
        },
        "id": "-pMsbt7rkIm7",
        "outputId": "f0325c1e-ba77-43c5-cab2-76abeecd6ff1"
      },
      "source": [
        "labels = 'AF (4)', 'FR (3)', 'NL (1)'\n",
        "sizes = [4, 3, 1]\n",
        "explode = (0.1,)*3\n",
        "\n",
        "fig1, ax1 = plt.subplots()\n",
        "ax1.pie(sizes, explode=explode, labels=labels, autopct='%1.1f%%',\n",
        "        shadow=True, startangle=90)\n",
        "ax1.axis('equal')\n",
        "\n",
        "plt.show()"
      ],
      "execution_count": null,
      "outputs": [
        {
          "output_type": "display_data",
          "data": {
            "image/png": "[encoded data removed]",
            "text/plain": [
              "<Figure size 432x288 with 1 Axes>"
            ]
          },
          "metadata": {
            "tags": []
          }
        }
      ]
    }
  ]
}