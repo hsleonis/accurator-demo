{
  "nbformat": 4,
  "nbformat_minor": 0,
  "metadata": {
    "colab": {
      "name": "VADER (Sentiment Analysis).ipynb",
      "provenance": []
    },
    "kernelspec": {
      "display_name": "Python 3",
      "name": "python3"
    },
    "language_info": {
      "name": "python"
    }
  },
  "cells": [
    {
      "cell_type": "code",
      "metadata": {
        "colab": {
          "base_uri": "https://localhost:8080/"
        },
        "id": "kR-xqI_EOFjk",
        "outputId": "9ae3d285-3b59-4127-d79d-dd915a715c4f"
      },
      "source": [
        "import pandas as pd\n",
        "import numpy as np\n",
        "import itertools\n",
        "import matplotlib.pyplot as plt\n",
        "import nltk\n",
        "nltk.download('vader_lexicon')\n",
        "from nltk.sentiment.vader import SentimentIntensityAnalyzer\n",
        "%matplotlib inline\n",
        "\n",
        "%cd drive/MyDrive/Colab\\ Notebooks/data"
      ],
      "execution_count": 1,
      "outputs": [
        {
          "output_type": "stream",
          "text": [
            "[nltk_data] Downloading package vader_lexicon to /root/nltk_data...\n",
            "/content/drive/MyDrive/Colab Notebooks/data\n"
          ],
          "name": "stdout"
        },
        {
          "output_type": "stream",
          "text": [
            "/usr/local/lib/python3.7/dist-packages/nltk/twitter/__init__.py:20: UserWarning: The twython library has not been installed. Some functionality from the twitter package will not be available.\n",
            "  warnings.warn(\"The twython library has not been installed. \"\n"
          ],
          "name": "stderr"
        }
      ]
    },
    {
      "cell_type": "code",
      "metadata": {
        "colab": {
          "base_uri": "https://localhost:8080/",
          "height": 337
        },
        "id": "WmErdNwAPQsj",
        "outputId": "60ac7dea-04d9-423a-bf44-d59dd6845a57"
      },
      "source": [
        "df_new = pd.read_csv('adverse_summary_mod.csv')\n",
        "df_new.head(3)"
      ],
      "execution_count": 2,
      "outputs": [
        {
          "output_type": "execute_result",
          "data": {
            "text/html": [
              "<div>\n",
              "<style scoped>\n",
              "    .dataframe tbody tr th:only-of-type {\n",
              "        vertical-align: middle;\n",
              "    }\n",
              "\n",
              "    .dataframe tbody tr th {\n",
              "        vertical-align: top;\n",
              "    }\n",
              "\n",
              "    .dataframe thead th {\n",
              "        text-align: right;\n",
              "    }\n",
              "</style>\n",
              "<table border=\"1\" class=\"dataframe\">\n",
              "  <thead>\n",
              "    <tr style=\"text-align: right;\">\n",
              "      <th></th>\n",
              "      <th>Unnamed: 0</th>\n",
              "      <th>ItemID</th>\n",
              "      <th>Text</th>\n",
              "      <th>chemically_induced</th>\n",
              "      <th>adverse_effect</th>\n",
              "      <th>complication</th>\n",
              "      <th>poisoning</th>\n",
              "      <th>drug_effect</th>\n",
              "      <th>side_effect</th>\n",
              "      <th>adverse_reaction</th>\n",
              "      <th>pharmacological_action</th>\n",
              "      <th>adverse_drug_event</th>\n",
              "      <th>adverse_event</th>\n",
              "      <th>adverse</th>\n",
              "      <th>complexity</th>\n",
              "    </tr>\n",
              "  </thead>\n",
              "  <tbody>\n",
              "    <tr>\n",
              "      <th>0</th>\n",
              "      <td>0</td>\n",
              "      <td>8597014</td>\n",
              "      <td>Trial of labor after cesarean delivery (tolac)...</td>\n",
              "      <td>NaN</td>\n",
              "      <td>NaN</td>\n",
              "      <td>results, title, discussion, materials_and_meth...</td>\n",
              "      <td>NaN</td>\n",
              "      <td>NaN</td>\n",
              "      <td>NaN</td>\n",
              "      <td>NaN</td>\n",
              "      <td>NaN</td>\n",
              "      <td>NaN</td>\n",
              "      <td>NaN</td>\n",
              "      <td>NaN</td>\n",
              "      <td>NaN</td>\n",
              "    </tr>\n",
              "    <tr>\n",
              "      <th>1</th>\n",
              "      <td>1</td>\n",
              "      <td>4649030</td>\n",
              "      <td>Visual symptoms are well recognized as a side ...</td>\n",
              "      <td>NaN</td>\n",
              "      <td>NaN</td>\n",
              "      <td>NaN</td>\n",
              "      <td>NaN</td>\n",
              "      <td>NaN</td>\n",
              "      <td>introduction</td>\n",
              "      <td>NaN</td>\n",
              "      <td>NaN</td>\n",
              "      <td>NaN</td>\n",
              "      <td>NaN</td>\n",
              "      <td>NaN</td>\n",
              "      <td>NaN</td>\n",
              "    </tr>\n",
              "    <tr>\n",
              "      <th>2</th>\n",
              "      <td>2</td>\n",
              "      <td>5174074</td>\n",
              "      <td>NaN</td>\n",
              "      <td>NaN</td>\n",
              "      <td>NaN</td>\n",
              "      <td>NaN</td>\n",
              "      <td>NaN</td>\n",
              "      <td>NaN</td>\n",
              "      <td>NaN</td>\n",
              "      <td>NaN</td>\n",
              "      <td>NaN</td>\n",
              "      <td>NaN</td>\n",
              "      <td>NaN</td>\n",
              "      <td>NaN</td>\n",
              "      <td>NaN</td>\n",
              "    </tr>\n",
              "  </tbody>\n",
              "</table>\n",
              "</div>"
            ],
            "text/plain": [
              "   Unnamed: 0   ItemID  ... adverse complexity\n",
              "0           0  8597014  ...     NaN        NaN\n",
              "1           1  4649030  ...     NaN        NaN\n",
              "2           2  5174074  ...     NaN        NaN\n",
              "\n",
              "[3 rows x 15 columns]"
            ]
          },
          "metadata": {},
          "execution_count": 2
        }
      ]
    },
    {
      "cell_type": "code",
      "metadata": {
        "id": "ceSoh8I6PrF4"
      },
      "source": [
        "df_new.drop(['Unnamed: 0'], axis=1, inplace=True)"
      ],
      "execution_count": 3,
      "outputs": []
    },
    {
      "cell_type": "code",
      "metadata": {
        "id": "eaOJWhumfaCm"
      },
      "source": [
        "def sentiment(text):\n",
        "  if pd.isna(text):\n",
        "    return \"no_text\"\n",
        "  \n",
        "  # Vader uses a dictionary based approach where each word is assigned a sentiment score (between -4 to +4)\n",
        "  new_words = {\n",
        "    'chemically induced': -4.0,\n",
        "    'adverse effect': -4.0,\n",
        "    'complication': -4.0,\n",
        "    'poisoning': -4.0,\n",
        "    'drug effect': -4.0,\n",
        "    'side effect': -4.0,\n",
        "    'adverse reaction': -4.0,\n",
        "    'pharmacological action': -4.0,\n",
        "    'adverse drug event': -4.0,\n",
        "    'adverse event': -4.0,\n",
        "    'adverse': -4.0,\n",
        "    'complexity': -4.0,\n",
        "    'symptoms': -4.0\n",
        "  }\n",
        "\n",
        "  SIA = SentimentIntensityAnalyzer()\n",
        "  SIA.lexicon.update(new_words)\n",
        "\n",
        "  # SIA.lexicon.pop('no')\n",
        "\n",
        "  score = SIA.polarity_scores(text)\n",
        "  if score['neg'] > score['pos']:\n",
        "      return \"adverse_effect\"\n",
        "  elif score['neg'] < score['pos']:\n",
        "      return \"no_adverse_effect\"\n",
        "  \n",
        "  return \"neutral\""
      ],
      "execution_count": 4,
      "outputs": []
    },
    {
      "cell_type": "code",
      "metadata": {
        "colab": {
          "base_uri": "https://localhost:8080/"
        },
        "id": "dlxwrocmfkNF",
        "outputId": "0ca69e2b-a71e-4345-e1a5-9a849c65b52a"
      },
      "source": [
        "sentiment_score = df_new['Text'].apply(sentiment)\n",
        "sentiment_score"
      ],
      "execution_count": 5,
      "outputs": [
        {
          "output_type": "execute_result",
          "data": {
            "text/plain": [
              "0       no_adverse_effect\n",
              "1          adverse_effect\n",
              "2                 no_text\n",
              "3          adverse_effect\n",
              "4                 no_text\n",
              "              ...        \n",
              "6820       adverse_effect\n",
              "6821              no_text\n",
              "6822       adverse_effect\n",
              "6823       adverse_effect\n",
              "6824              no_text\n",
              "Name: Text, Length: 6825, dtype: object"
            ]
          },
          "metadata": {},
          "execution_count": 5
        }
      ]
    },
    {
      "cell_type": "code",
      "metadata": {
        "colab": {
          "base_uri": "https://localhost:8080/",
          "height": 339
        },
        "id": "xcTSTPJIb_GV",
        "outputId": "bca33131-14a3-48ef-b604-a43a20fb884d"
      },
      "source": [
        "plt.hist(sentiment_score)"
      ],
      "execution_count": 6,
      "outputs": [
        {
          "output_type": "execute_result",
          "data": {
            "text/plain": [
              "(array([ 456.,    0.,    0., 4412.,    0.,    0., 1806.,    0.,    0.,\n",
              "         151.]),\n",
              " array([0. , 0.3, 0.6, 0.9, 1.2, 1.5, 1.8, 2.1, 2.4, 2.7, 3. ]),\n",
              " <a list of 10 Patch objects>)"
            ]
          },
          "metadata": {},
          "execution_count": 6
        },
        {
          "output_type": "display_data",
          "data": {
            "image/png": "[encoded data removed]",
            "text/plain": [
              "<Figure size 432x288 with 1 Axes>"
            ]
          },
          "metadata": {
            "needs_background": "light"
          }
        }
      ]
    },
    {
      "cell_type": "code",
      "metadata": {
        "colab": {
          "base_uri": "https://localhost:8080/",
          "height": 339
        },
        "id": "Kxv61FF5Q7Jv",
        "outputId": "596ee979-4ff5-4b51-fa5f-4ca7a67df8c2"
      },
      "source": [
        "# plt.hist(sentiment_score)"
      ],
      "execution_count": null,
      "outputs": [
        {
          "output_type": "execute_result",
          "data": {
            "text/plain": [
              "(array([ 964.,    0.,    0., 1806.,    0.,    0., 3899.,    0.,    0.,\n",
              "         156.]),\n",
              " array([0. , 0.3, 0.6, 0.9, 1.2, 1.5, 1.8, 2.1, 2.4, 2.7, 3. ]),\n",
              " <a list of 10 Patch objects>)"
            ]
          },
          "metadata": {},
          "execution_count": 6
        },
        {
          "output_type": "display_data",
          "data": {
            "image/png": "[encoded data removed]",
            "text/plain": [
              "<Figure size 432x288 with 1 Axes>"
            ]
          },
          "metadata": {
            "needs_background": "light"
          }
        }
      ]
    },
    {
      "cell_type": "code",
      "metadata": {
        "colab": {
          "base_uri": "https://localhost:8080/",
          "height": 355
        },
        "id": "wcHwN3VEckqN",
        "outputId": "4dbf6163-5a06-44f8-c623-1831397cbe4c"
      },
      "source": [
        "df_new['vd_sentiment'] = sentiment_score\n",
        "noadv = df_new[df_new['vd_sentiment'] == 'no_adverse_effect']\n",
        "noadv.head(3)"
      ],
      "execution_count": 7,
      "outputs": [
        {
          "output_type": "execute_result",
          "data": {
            "text/html": [
              "<div>\n",
              "<style scoped>\n",
              "    .dataframe tbody tr th:only-of-type {\n",
              "        vertical-align: middle;\n",
              "    }\n",
              "\n",
              "    .dataframe tbody tr th {\n",
              "        vertical-align: top;\n",
              "    }\n",
              "\n",
              "    .dataframe thead th {\n",
              "        text-align: right;\n",
              "    }\n",
              "</style>\n",
              "<table border=\"1\" class=\"dataframe\">\n",
              "  <thead>\n",
              "    <tr style=\"text-align: right;\">\n",
              "      <th></th>\n",
              "      <th>ItemID</th>\n",
              "      <th>Text</th>\n",
              "      <th>chemically_induced</th>\n",
              "      <th>adverse_effect</th>\n",
              "      <th>complication</th>\n",
              "      <th>poisoning</th>\n",
              "      <th>drug_effect</th>\n",
              "      <th>side_effect</th>\n",
              "      <th>adverse_reaction</th>\n",
              "      <th>pharmacological_action</th>\n",
              "      <th>adverse_drug_event</th>\n",
              "      <th>adverse_event</th>\n",
              "      <th>adverse</th>\n",
              "      <th>complexity</th>\n",
              "      <th>vd_sentiment</th>\n",
              "    </tr>\n",
              "  </thead>\n",
              "  <tbody>\n",
              "    <tr>\n",
              "      <th>0</th>\n",
              "      <td>8597014</td>\n",
              "      <td>Trial of labor after cesarean delivery (tolac)...</td>\n",
              "      <td>NaN</td>\n",
              "      <td>NaN</td>\n",
              "      <td>results, title, discussion, materials_and_meth...</td>\n",
              "      <td>NaN</td>\n",
              "      <td>NaN</td>\n",
              "      <td>NaN</td>\n",
              "      <td>NaN</td>\n",
              "      <td>NaN</td>\n",
              "      <td>NaN</td>\n",
              "      <td>NaN</td>\n",
              "      <td>NaN</td>\n",
              "      <td>NaN</td>\n",
              "      <td>no_adverse_effect</td>\n",
              "    </tr>\n",
              "    <tr>\n",
              "      <th>11</th>\n",
              "      <td>8126837</td>\n",
              "      <td>In this retrospective study, the effects of an...</td>\n",
              "      <td>NaN</td>\n",
              "      <td>introduction</td>\n",
              "      <td>results, introduction, materials_and_methods, ...</td>\n",
              "      <td>NaN</td>\n",
              "      <td>NaN</td>\n",
              "      <td>discussion, abstract</td>\n",
              "      <td>NaN</td>\n",
              "      <td>NaN</td>\n",
              "      <td>NaN</td>\n",
              "      <td>NaN</td>\n",
              "      <td>introduction</td>\n",
              "      <td>NaN</td>\n",
              "      <td>no_adverse_effect</td>\n",
              "    </tr>\n",
              "    <tr>\n",
              "      <th>52</th>\n",
              "      <td>7621371</td>\n",
              "      <td>[ 32 ] 2018 43 not given right hilar not repor...</td>\n",
              "      <td>NaN</td>\n",
              "      <td>NaN</td>\n",
              "      <td>introduction</td>\n",
              "      <td>NaN</td>\n",
              "      <td>NaN</td>\n",
              "      <td>NaN</td>\n",
              "      <td>NaN</td>\n",
              "      <td>NaN</td>\n",
              "      <td>NaN</td>\n",
              "      <td>NaN</td>\n",
              "      <td>NaN</td>\n",
              "      <td>NaN</td>\n",
              "      <td>no_adverse_effect</td>\n",
              "    </tr>\n",
              "  </tbody>\n",
              "</table>\n",
              "</div>"
            ],
            "text/plain": [
              "     ItemID  ...       vd_sentiment\n",
              "0   8597014  ...  no_adverse_effect\n",
              "11  8126837  ...  no_adverse_effect\n",
              "52  7621371  ...  no_adverse_effect\n",
              "\n",
              "[3 rows x 15 columns]"
            ]
          },
          "metadata": {},
          "execution_count": 7
        }
      ]
    },
    {
      "cell_type": "code",
      "metadata": {
        "colab": {
          "base_uri": "https://localhost:8080/",
          "height": 513
        },
        "id": "u-dXG3lZcybs",
        "outputId": "73d48dd0-b228-426f-bb99-040bf9b4e9c9"
      },
      "source": [
        "noadv.loc[11]['Text']"
      ],
      "execution_count": 11,
      "outputs": [
        {
          "output_type": "execute_result",
          "data": {
            "application/vnd.google.colaboratory.intrinsic+json": {
              "type": "string"
            },
            "text/plain": [
              "'In this retrospective study, the effects of anti-phospholipid syndrome and the use of common drugs such as methotrexate, cyclosporine, and azathioprine and their side effects on maternal health and ultimately the development of the fetus have been investigated.Material and this study is a descriptive and retrospective epidemiologic study that was conducted in 2016 to investigate maternal and fetal complications in sle patients.It also leads to complications such as nephritis, arthritis, and preeclampsia in the mother ( p value 0.The disease is more common in women and, moreover, the symptoms of the disease become more severe in women who are pregnant and have adverse effects on the health of the mother and the fetus, which sometimes even results in maternal and fetal mortality or impairment of fetal development [ 1 , 2 ].Hence, the results of the recent studies have shown that the progression of the disease and the exacerbation of its symptoms before or during pregnancy can lead to an increased risk of abortion, early delivery, preeclampsia, and fetus complications [ 6 ].However, overdosing of these drugs will also result in abortion or early birth of the fetus and will have adverse effects on the development of the fetus.This is a descriptive and retrospective epidemiologic study that was conducted in 2016 to investigate maternal and fetal complications in sle patients in golestan hospital, jundishapur university of medical sciences in ahwaz, iran.We studied all pregnant cases with sle with and without diabetes or other complications.6% of women with this antibody had no complications.6% of women with this antibody had no complications.These results indicated that there is a significant association between anti-phospholipid antibodies and complications of the health of pregnant women ( p value 0.1% of women with no anti-phospholipid antibodies faced these complications respectively.Therefore, the results of the analyses showed that there is a significant association between anti-phospholipid antibodies and development complications of the fetus ( p value 0.1 complications of pregnancy full size image table 1 the evaluation of anti-phospholipid antibody and silence period on maternal health full size table during the pregnancy, and before that, patients took medicines in order to control and prevent the deterioration of the disease.Showed that there was a significant association between the disease and the incidence of pre- and post-pregnancy complications such as preterm birth ( p value 0.The results of our study showed that there was a significant relationship between the presence of anti-phospholipid syndrome during pregnancy and maternal and fetal complications ( p value 0.0001 for fetal complications and p value 0.003 for maternal complications) (tables 1 and 2 ).Showed that patients with sle who consumed hydroxychloroquine (hcq) during pregnancy had less side effects on their fetuses in comparison to those who did not consume hcq, which was statistically significant ( p value 0006).Suggested that sle patients taking cyclosporine during pregnancy had no complications or fetus development disruption.05) and fetus development complications.On the other hand, it was found that the use of cyclosporine and methotrexate could prevent the development of the fetus and increase the risk of the pregnancy complications (table 2 ).Also, the presence of anti-phospholipid syndrome in pregnant women can increase the risk of both maternal and fetal complications and appropriate therapeutic strategies should be used to control them.The present study had a good estimation of the condition in pregnant mothers with systemic lupus erythematosus and conditions of the disease and complications.We suggest prospective studies in the field of clinical trials in a pharmacological comparative study on the incidence of complications and long-term studies on the health of the babies to estimate the effect of sle and the therapeutic approach on latent terms.1007/s10067-019-04682-3 keywords anti-phospholipid syndrome cyclosporine fetus complications methotrexate pregnancy systemic lupus erythematous.'"
            ]
          },
          "metadata": {},
          "execution_count": 11
        }
      ]
    },
    {
      "cell_type": "code",
      "metadata": {
        "id": "ZcgDb_88jANP"
      },
      "source": [
        "import nltk.sentiment.vader as Vd\n",
        "\n",
        "def vd_sentiment(text):\n",
        "  if pd.isna(text):\n",
        "    return \"no_text\"\n",
        "  \n",
        "  # Vader uses a dictionary based approach where each word is assigned a sentiment score (between -4 to +4)\n",
        "  new_words = {\n",
        "    'chemically induced': -4.0,\n",
        "    'adverse effect': -4.0,\n",
        "    'complication': -4.0,\n",
        "    'poisoning': -4.0,\n",
        "    'drug effect': -4.0,\n",
        "    'side effect': -4.0,\n",
        "    'adverse reaction': -4.0,\n",
        "    'pharmacological action': -4.0,\n",
        "    'adverse drug event': -4.0,\n",
        "    'adverse event': -4.0,\n",
        "    'adverse': -4.0,\n",
        "    'complexity': -4.0\n",
        "  }\n",
        "\n",
        "  new_idioms = {\n",
        "    'chemically induced': -4.0,\n",
        "    'adverse effect': -4.0,\n",
        "    'complication': -4.0,\n",
        "    'poisoning': -4.0,\n",
        "    'drug effect': -4.0,\n",
        "    'side effect': -4.0,\n",
        "    'adverse reaction': -4.0,\n",
        "    'pharmacological action': -4.0,\n",
        "    'adverse drug event': -4.0,\n",
        "    'adverse event': -4.0,\n",
        "    'adverse': -4.0,\n",
        "    'complexity': -4.0,\n",
        "  }\n",
        "  Vd.SPECIAL_CASE_IDIOMS.update(new_idioms)\n",
        "  Vd.BOOSTER_DICT.update(new_idioms)\n",
        "\n",
        "  SIA = Vd.SentimentIntensityAnalyzer()\n",
        "  SIA.lexicon.update(new_words)\n",
        "\n",
        "  # SIA.lexicon.pop('no')\n",
        "\n",
        "  score = SIA.polarity_scores(text)\n",
        "  if score['neg'] > score['pos']:\n",
        "      return \"adverse_effect\"\n",
        "  elif score['neg'] < score['pos']:\n",
        "      return \"no_adverse_effect\"\n",
        "  \n",
        "  return \"neutral\""
      ],
      "execution_count": 12,
      "outputs": []
    },
    {
      "cell_type": "code",
      "metadata": {
        "colab": {
          "base_uri": "https://localhost:8080/"
        },
        "id": "0vbiIsC4aKLP",
        "outputId": "c5428d51-8f1d-4f87-9e5c-0ef4280cee49"
      },
      "source": [
        "import inspect\n",
        "\n",
        "lines = inspect.getsource(Vd)\n",
        "print(lines)"
      ],
      "execution_count": null,
      "outputs": [
        {
          "output_type": "stream",
          "text": [
            "# coding: utf-8\n",
            "# Natural Language Toolkit: vader\n",
            "#\n",
            "# Copyright (C) 2001-2017 NLTK Project\n",
            "# Author: C.J. Hutto <Clayton.Hutto@gtri.gatech.edu>\n",
            "#         Ewan Klein <ewan@inf.ed.ac.uk> (modifications)\n",
            "#         Pierpaolo Pantone <24alsecondo@gmail.com> (modifications)\n",
            "#         George Berry <geb97@cornell.edu> (modifications)\n",
            "# URL: <http://nltk.org/>\n",
            "# For license information, see LICENSE.TXT\n",
            "#\n",
            "# Modifications to the original VADER code have been made in order to\n",
            "# integrate it into NLTK. These have involved changes to\n",
            "# ensure Python 3 compatibility, and refactoring to achieve greater modularity.\n",
            "\n",
            "\"\"\"\n",
            "If you use the VADER sentiment analysis tools, please cite:\n",
            "\n",
            "Hutto, C.J. & Gilbert, E.E. (2014). VADER: A Parsimonious Rule-based Model for\n",
            "Sentiment Analysis of Social Media Text. Eighth International Conference on\n",
            "Weblogs and Social Media (ICWSM-14). Ann Arbor, MI, June 2014.\n",
            "\"\"\"\n",
            "\n",
            "import codecs\n",
            "import math\n",
            "import re\n",
            "import string\n",
            "from itertools import product\n",
            "import nltk.data\n",
            "from .util import pairwise\n",
            "\n",
            "##Constants##\n",
            "\n",
            "# (empirically derived mean sentiment intensity rating increase for booster words)\n",
            "B_INCR = 0.293\n",
            "B_DECR = -0.293\n",
            "\n",
            "# (empirically derived mean sentiment intensity rating increase for using\n",
            "# ALLCAPs to emphasize a word)\n",
            "C_INCR = 0.733\n",
            "\n",
            "N_SCALAR = -0.74\n",
            "\n",
            "# for removing punctuation\n",
            "REGEX_REMOVE_PUNCTUATION = re.compile('[{0}]'.format(re.escape(string.punctuation)))\n",
            "\n",
            "PUNC_LIST = [\".\", \"!\", \"?\", \",\", \";\", \":\", \"-\", \"'\", \"\\\"\",\n",
            "             \"!!\", \"!!!\", \"??\", \"???\", \"?!?\", \"!?!\", \"?!?!\", \"!?!?\"]\n",
            "NEGATE = {\"aint\", \"arent\", \"cannot\", \"cant\", \"couldnt\", \"darent\", \"didnt\", \"doesnt\",\n",
            " \"ain't\", \"aren't\", \"can't\", \"couldn't\", \"daren't\", \"didn't\", \"doesn't\",\n",
            " \"dont\", \"hadnt\", \"hasnt\", \"havent\", \"isnt\", \"mightnt\", \"mustnt\", \"neither\",\n",
            " \"don't\", \"hadn't\", \"hasn't\", \"haven't\", \"isn't\", \"mightn't\", \"mustn't\",\n",
            " \"neednt\", \"needn't\", \"never\", \"none\", \"nope\", \"nor\", \"not\", \"nothing\", \"nowhere\",\n",
            " \"oughtnt\", \"shant\", \"shouldnt\", \"uhuh\", \"wasnt\", \"werent\",\n",
            " \"oughtn't\", \"shan't\", \"shouldn't\", \"uh-uh\", \"wasn't\", \"weren't\",\n",
            " \"without\", \"wont\", \"wouldnt\", \"won't\", \"wouldn't\", \"rarely\", \"seldom\", \"despite\"}\n",
            "\n",
            "# booster/dampener 'intensifiers' or 'degree adverbs'\n",
            "# http://en.wiktionary.org/wiki/Category:English_degree_adverbs\n",
            "\n",
            "BOOSTER_DICT = \\\n",
            "{\"absolutely\": B_INCR, \"amazingly\": B_INCR, \"awfully\": B_INCR, \"completely\": B_INCR, \"considerably\": B_INCR,\n",
            " \"decidedly\": B_INCR, \"deeply\": B_INCR, \"effing\": B_INCR, \"enormously\": B_INCR,\n",
            " \"entirely\": B_INCR, \"especially\": B_INCR, \"exceptionally\": B_INCR, \"extremely\": B_INCR,\n",
            " \"fabulously\": B_INCR, \"flipping\": B_INCR, \"flippin\": B_INCR,\n",
            " \"fricking\": B_INCR, \"frickin\": B_INCR, \"frigging\": B_INCR, \"friggin\": B_INCR, \"fully\": B_INCR, \"fucking\": B_INCR,\n",
            " \"greatly\": B_INCR, \"hella\": B_INCR, \"highly\": B_INCR, \"hugely\": B_INCR, \"incredibly\": B_INCR,\n",
            " \"intensely\": B_INCR, \"majorly\": B_INCR, \"more\": B_INCR, \"most\": B_INCR, \"particularly\": B_INCR,\n",
            " \"purely\": B_INCR, \"quite\": B_INCR, \"really\": B_INCR, \"remarkably\": B_INCR,\n",
            " \"so\": B_INCR, \"substantially\": B_INCR,\n",
            " \"thoroughly\": B_INCR, \"totally\": B_INCR, \"tremendously\": B_INCR,\n",
            " \"uber\": B_INCR, \"unbelievably\": B_INCR, \"unusually\": B_INCR, \"utterly\": B_INCR,\n",
            " \"very\": B_INCR,\n",
            " \"almost\": B_DECR, \"barely\": B_DECR, \"hardly\": B_DECR, \"just enough\": B_DECR,\n",
            " \"kind of\": B_DECR, \"kinda\": B_DECR, \"kindof\": B_DECR, \"kind-of\": B_DECR,\n",
            " \"less\": B_DECR, \"little\": B_DECR, \"marginally\": B_DECR, \"occasionally\": B_DECR, \"partly\": B_DECR,\n",
            " \"scarcely\": B_DECR, \"slightly\": B_DECR, \"somewhat\": B_DECR,\n",
            " \"sort of\": B_DECR, \"sorta\": B_DECR, \"sortof\": B_DECR, \"sort-of\": B_DECR}\n",
            "\n",
            "# check for special case idioms using a sentiment-laden keyword known to SAGE\n",
            "SPECIAL_CASE_IDIOMS = {\"the shit\": 3, \"the bomb\": 3, \"bad ass\": 1.5, \"yeah right\": -2,\n",
            "                       \"cut the mustard\": 2, \"kiss of death\": -1.5, \"hand to mouth\": -2}\n",
            "\n",
            "\n",
            "##Static methods##\n",
            "\n",
            "def negated(input_words, include_nt=True):\n",
            "    \"\"\"\n",
            "    Determine if input contains negation words\n",
            "    \"\"\"\n",
            "    neg_words = NEGATE\n",
            "    if any(word.lower() in neg_words for word in input_words):\n",
            "        return True\n",
            "    if include_nt:\n",
            "        if any(\"n't\" in word.lower() for word in input_words):\n",
            "            return True\n",
            "    for first, second in pairwise(input_words):\n",
            "        if second.lower() == \"least\" and first.lower() != 'at':\n",
            "            return True\n",
            "    return False\n",
            "\n",
            "\n",
            "def normalize(score, alpha=15):\n",
            "    \"\"\"\n",
            "    Normalize the score to be between -1 and 1 using an alpha that\n",
            "    approximates the max expected value\n",
            "    \"\"\"\n",
            "    norm_score = score/math.sqrt((score*score) + alpha)\n",
            "    return norm_score\n",
            "\n",
            "\n",
            "def allcap_differential(words):\n",
            "    \"\"\"\n",
            "    Check whether just some words in the input are ALL CAPS\n",
            "\n",
            "    :param list words: The words to inspect\n",
            "    :returns: `True` if some but not all items in `words` are ALL CAPS\n",
            "    \"\"\"\n",
            "    is_different = False\n",
            "    allcap_words = 0\n",
            "    for word in words:\n",
            "        if word.isupper():\n",
            "            allcap_words += 1\n",
            "    cap_differential = len(words) - allcap_words\n",
            "    if cap_differential > 0 and cap_differential < len(words):\n",
            "        is_different = True\n",
            "    return is_different\n",
            "\n",
            "\n",
            "def scalar_inc_dec(word, valence, is_cap_diff):\n",
            "    \"\"\"\n",
            "    Check if the preceding words increase, decrease, or negate/nullify the\n",
            "    valence\n",
            "    \"\"\"\n",
            "    scalar = 0.0\n",
            "    word_lower = word.lower()\n",
            "    if word_lower in BOOSTER_DICT:\n",
            "        scalar = BOOSTER_DICT[word_lower]\n",
            "        if valence < 0:\n",
            "            scalar *= -1\n",
            "        #check if booster/dampener word is in ALLCAPS (while others aren't)\n",
            "        if word.isupper() and is_cap_diff:\n",
            "            if valence > 0:\n",
            "                scalar += C_INCR\n",
            "            else: scalar -= C_INCR\n",
            "    return scalar\n",
            "\n",
            "class SentiText(object):\n",
            "    \"\"\"\n",
            "    Identify sentiment-relevant string-level properties of input text.\n",
            "    \"\"\"\n",
            "    def __init__(self, text):\n",
            "        if not isinstance(text, str):\n",
            "            text = str(text.encode('utf-8'))\n",
            "        self.text = text\n",
            "        self.words_and_emoticons = self._words_and_emoticons()\n",
            "        # doesn't separate words from\\\n",
            "        # adjacent punctuation (keeps emoticons & contractions)\n",
            "        self.is_cap_diff = allcap_differential(self.words_and_emoticons)\n",
            "\n",
            "    def _words_plus_punc(self):\n",
            "        \"\"\"\n",
            "        Returns mapping of form:\n",
            "        {\n",
            "            'cat,': 'cat',\n",
            "            ',cat': 'cat',\n",
            "        }\n",
            "        \"\"\"\n",
            "        no_punc_text = REGEX_REMOVE_PUNCTUATION.sub('', self.text)\n",
            "        # removes punctuation (but loses emoticons & contractions)\n",
            "        words_only = no_punc_text.split()\n",
            "        # remove singletons\n",
            "        words_only = set( w for w in words_only if len(w) > 1 )\n",
            "        # the product gives ('cat', ',') and (',', 'cat')\n",
            "        punc_before = {''.join(p): p[1] for p in product(PUNC_LIST, words_only)}\n",
            "        punc_after = {''.join(p): p[0] for p in product(words_only, PUNC_LIST)}\n",
            "        words_punc_dict = punc_before\n",
            "        words_punc_dict.update(punc_after)\n",
            "        return words_punc_dict\n",
            "\n",
            "    def _words_and_emoticons(self):\n",
            "        \"\"\"\n",
            "        Removes leading and trailing puncutation\n",
            "        Leaves contractions and most emoticons\n",
            "            Does not preserve punc-plus-letter emoticons (e.g. :D)\n",
            "        \"\"\"\n",
            "        wes = self.text.split()\n",
            "        words_punc_dict = self._words_plus_punc()\n",
            "        wes = [we for we in wes if len(we) > 1]\n",
            "        for i, we in enumerate(wes):\n",
            "            if we in words_punc_dict:\n",
            "                wes[i] = words_punc_dict[we]\n",
            "        return wes\n",
            "\n",
            "class SentimentIntensityAnalyzer(object):\n",
            "    \"\"\"\n",
            "    Give a sentiment intensity score to sentences.\n",
            "    \"\"\"\n",
            "    def __init__(self, lexicon_file=\"sentiment/vader_lexicon.zip/vader_lexicon/vader_lexicon.txt\"):\n",
            "        self.lexicon_file = nltk.data.load(lexicon_file)\n",
            "        self.lexicon = self.make_lex_dict()\n",
            "\n",
            "    def make_lex_dict(self):\n",
            "        \"\"\"\n",
            "        Convert lexicon file to a dictionary\n",
            "        \"\"\"\n",
            "        lex_dict = {}\n",
            "        for line in self.lexicon_file.split('\\n'):\n",
            "            (word, measure) = line.strip().split('\\t')[0:2]\n",
            "            lex_dict[word] = float(measure)\n",
            "        return lex_dict\n",
            "\n",
            "    def polarity_scores(self, text):\n",
            "        \"\"\"\n",
            "        Return a float for sentiment strength based on the input text.\n",
            "        Positive values are positive valence, negative value are negative\n",
            "        valence.\n",
            "        \"\"\"\n",
            "        sentitext = SentiText(text)\n",
            "        #text, words_and_emoticons, is_cap_diff = self.preprocess(text)\n",
            "\n",
            "        sentiments = []\n",
            "        words_and_emoticons = sentitext.words_and_emoticons\n",
            "        for item in words_and_emoticons:\n",
            "            valence = 0\n",
            "            i = words_and_emoticons.index(item)\n",
            "            if (i < len(words_and_emoticons) - 1 and item.lower() == \"kind\" and \\\n",
            "                words_and_emoticons[i+1].lower() == \"of\") or \\\n",
            "                item.lower() in BOOSTER_DICT:\n",
            "                sentiments.append(valence)\n",
            "                continue\n",
            "\n",
            "            sentiments = self.sentiment_valence(valence, sentitext, item, i, sentiments)\n",
            "\n",
            "        sentiments = self._but_check(words_and_emoticons, sentiments)\n",
            "\n",
            "        return self.score_valence(sentiments, text)\n",
            "\n",
            "    def sentiment_valence(self, valence, sentitext, item, i, sentiments):\n",
            "        is_cap_diff = sentitext.is_cap_diff\n",
            "        words_and_emoticons = sentitext.words_and_emoticons\n",
            "        item_lowercase = item.lower()\n",
            "        if item_lowercase in self.lexicon:\n",
            "            #get the sentiment valence\n",
            "            valence = self.lexicon[item_lowercase]\n",
            "\n",
            "            #check if sentiment laden word is in ALL CAPS (while others aren't)\n",
            "            if item.isupper() and is_cap_diff:\n",
            "                if valence > 0:\n",
            "                    valence += C_INCR\n",
            "                else:\n",
            "                    valence -= C_INCR\n",
            "\n",
            "            for start_i in range(0,3):\n",
            "                if i > start_i and words_and_emoticons[i-(start_i+1)].lower() not in self.lexicon:\n",
            "                    # dampen the scalar modifier of preceding words and emoticons\n",
            "                    # (excluding the ones that immediately preceed the item) based\n",
            "                    # on their distance from the current item.\n",
            "                    s = scalar_inc_dec(words_and_emoticons[i-(start_i+1)], valence, is_cap_diff)\n",
            "                    if start_i == 1 and s != 0:\n",
            "                        s = s*0.95\n",
            "                    if start_i == 2 and s != 0:\n",
            "                        s = s*0.9\n",
            "                    valence = valence+s\n",
            "                    valence = self._never_check(valence, words_and_emoticons, start_i, i)\n",
            "                    if start_i == 2:\n",
            "                        valence = self._idioms_check(valence, words_and_emoticons, i)\n",
            "\n",
            "                        # future work: consider other sentiment-laden idioms\n",
            "                        # other_idioms =\n",
            "                        # {\"back handed\": -2, \"blow smoke\": -2, \"blowing smoke\": -2,\n",
            "                        #  \"upper hand\": 1, \"break a leg\": 2,\n",
            "                        #  \"cooking with gas\": 2, \"in the black\": 2, \"in the red\": -2,\n",
            "                        #  \"on the ball\": 2,\"under the weather\": -2}\n",
            "\n",
            "            valence = self._least_check(valence, words_and_emoticons, i)\n",
            "\n",
            "        sentiments.append(valence)\n",
            "        return sentiments\n",
            "\n",
            "    def _least_check(self, valence, words_and_emoticons, i):\n",
            "        # check for negation case using \"least\"\n",
            "        if i > 1 and words_and_emoticons[i-1].lower() not in self.lexicon \\\n",
            "           and words_and_emoticons[i-1].lower() == \"least\":\n",
            "            if words_and_emoticons[i-2].lower() != \"at\" and words_and_emoticons[i-2].lower() != \"very\":\n",
            "                valence = valence*N_SCALAR\n",
            "        elif i > 0 and words_and_emoticons[i-1].lower() not in self.lexicon \\\n",
            "             and words_and_emoticons[i-1].lower() == \"least\":\n",
            "            valence = valence*N_SCALAR\n",
            "        return valence\n",
            "\n",
            "    def _but_check(self, words_and_emoticons, sentiments):\n",
            "        # check for modification in sentiment due to contrastive conjunction 'but'\n",
            "        if 'but' in words_and_emoticons or 'BUT' in words_and_emoticons:\n",
            "            try:\n",
            "                bi = words_and_emoticons.index('but')\n",
            "            except ValueError:\n",
            "                bi = words_and_emoticons.index('BUT')\n",
            "            for sentiment in sentiments:\n",
            "                si = sentiments.index(sentiment)\n",
            "                if si < bi:\n",
            "                    sentiments.pop(si)\n",
            "                    sentiments.insert(si, sentiment*0.5)\n",
            "                elif si > bi:\n",
            "                    sentiments.pop(si)\n",
            "                    sentiments.insert(si, sentiment*1.5)\n",
            "        return sentiments\n",
            "\n",
            "    def _idioms_check(self, valence, words_and_emoticons, i):\n",
            "        onezero = \"{0} {1}\".format(words_and_emoticons[i-1], words_and_emoticons[i])\n",
            "\n",
            "        twoonezero = \"{0} {1} {2}\".format(words_and_emoticons[i-2],\n",
            "                                       words_and_emoticons[i-1], words_and_emoticons[i])\n",
            "\n",
            "        twoone = \"{0} {1}\".format(words_and_emoticons[i-2], words_and_emoticons[i-1])\n",
            "\n",
            "        threetwoone = \"{0} {1} {2}\".format(words_and_emoticons[i-3],\n",
            "                                        words_and_emoticons[i-2], words_and_emoticons[i-1])\n",
            "\n",
            "        threetwo = \"{0} {1}\".format(words_and_emoticons[i-3], words_and_emoticons[i-2])\n",
            "\n",
            "        sequences = [onezero, twoonezero, twoone, threetwoone, threetwo]\n",
            "\n",
            "        for seq in sequences:\n",
            "            if seq in SPECIAL_CASE_IDIOMS:\n",
            "                valence = SPECIAL_CASE_IDIOMS[seq]\n",
            "                break\n",
            "\n",
            "        if len(words_and_emoticons)-1 > i:\n",
            "            zeroone = \"{0} {1}\".format(words_and_emoticons[i], words_and_emoticons[i+1])\n",
            "            if zeroone in SPECIAL_CASE_IDIOMS:\n",
            "                valence = SPECIAL_CASE_IDIOMS[zeroone]\n",
            "        if len(words_and_emoticons)-1 > i+1:\n",
            "            zeroonetwo = \"{0} {1} {2}\".format(words_and_emoticons[i], words_and_emoticons[i+1], words_and_emoticons[i+2])\n",
            "            if zeroonetwo in SPECIAL_CASE_IDIOMS:\n",
            "                valence = SPECIAL_CASE_IDIOMS[zeroonetwo]\n",
            "\n",
            "        # check for booster/dampener bi-grams such as 'sort of' or 'kind of'\n",
            "        if threetwo in BOOSTER_DICT or twoone in BOOSTER_DICT:\n",
            "            valence = valence+B_DECR\n",
            "        return valence\n",
            "\n",
            "    def _never_check(self, valence, words_and_emoticons, start_i, i):\n",
            "        if start_i == 0:\n",
            "            if negated([words_and_emoticons[i-1]]):\n",
            "                    valence = valence*N_SCALAR\n",
            "        if start_i == 1:\n",
            "            if words_and_emoticons[i-2] == \"never\" and\\\n",
            "               (words_and_emoticons[i-1] == \"so\" or\n",
            "                words_and_emoticons[i-1] == \"this\"):\n",
            "                valence = valence*1.5\n",
            "            elif negated([words_and_emoticons[i-(start_i+1)]]):\n",
            "                valence = valence*N_SCALAR\n",
            "        if start_i == 2:\n",
            "            if words_and_emoticons[i-3] == \"never\" and \\\n",
            "               (words_and_emoticons[i-2] == \"so\" or words_and_emoticons[i-2] == \"this\") or \\\n",
            "               (words_and_emoticons[i-1] == \"so\" or words_and_emoticons[i-1] == \"this\"):\n",
            "                valence = valence*1.25\n",
            "            elif negated([words_and_emoticons[i-(start_i+1)]]):\n",
            "                valence = valence*N_SCALAR\n",
            "        return valence\n",
            "\n",
            "    def _punctuation_emphasis(self, sum_s, text):\n",
            "        # add emphasis from exclamation points and question marks\n",
            "        ep_amplifier = self._amplify_ep(text)\n",
            "        qm_amplifier = self._amplify_qm(text)\n",
            "        punct_emph_amplifier = ep_amplifier+qm_amplifier\n",
            "        return punct_emph_amplifier\n",
            "\n",
            "    def _amplify_ep(self, text):\n",
            "        # check for added emphasis resulting from exclamation points (up to 4 of them)\n",
            "        ep_count = text.count(\"!\")\n",
            "        if ep_count > 4:\n",
            "            ep_count = 4\n",
            "        # (empirically derived mean sentiment intensity rating increase for\n",
            "        # exclamation points)\n",
            "        ep_amplifier = ep_count*0.292\n",
            "        return ep_amplifier\n",
            "\n",
            "    def _amplify_qm(self, text):\n",
            "        # check for added emphasis resulting from question marks (2 or 3+)\n",
            "        qm_count = text.count(\"?\")\n",
            "        qm_amplifier = 0\n",
            "        if qm_count > 1:\n",
            "            if qm_count <= 3:\n",
            "                # (empirically derived mean sentiment intensity rating increase for\n",
            "                # question marks)\n",
            "                qm_amplifier = qm_count*0.18\n",
            "            else:\n",
            "                qm_amplifier = 0.96\n",
            "        return qm_amplifier\n",
            "\n",
            "    def _sift_sentiment_scores(self, sentiments):\n",
            "        # want separate positive versus negative sentiment scores\n",
            "        pos_sum = 0.0\n",
            "        neg_sum = 0.0\n",
            "        neu_count = 0\n",
            "        for sentiment_score in sentiments:\n",
            "            if sentiment_score > 0:\n",
            "                pos_sum += (float(sentiment_score) +1) # compensates for neutral words that are counted as 1\n",
            "            if sentiment_score < 0:\n",
            "                neg_sum += (float(sentiment_score) -1) # when used with math.fabs(), compensates for neutrals\n",
            "            if sentiment_score == 0:\n",
            "                neu_count += 1\n",
            "        return pos_sum, neg_sum, neu_count\n",
            "\n",
            "    def score_valence(self, sentiments, text):\n",
            "        if sentiments:\n",
            "            sum_s = float(sum(sentiments))\n",
            "            # compute and add emphasis from punctuation in text\n",
            "            punct_emph_amplifier = self._punctuation_emphasis(sum_s, text)\n",
            "            if sum_s > 0:\n",
            "                sum_s += punct_emph_amplifier\n",
            "            elif  sum_s < 0:\n",
            "                sum_s -= punct_emph_amplifier\n",
            "\n",
            "            compound = normalize(sum_s)\n",
            "            # discriminate between positive, negative and neutral sentiment scores\n",
            "            pos_sum, neg_sum, neu_count = self._sift_sentiment_scores(sentiments)\n",
            "\n",
            "            if pos_sum > math.fabs(neg_sum):\n",
            "                pos_sum += (punct_emph_amplifier)\n",
            "            elif pos_sum < math.fabs(neg_sum):\n",
            "                neg_sum -= (punct_emph_amplifier)\n",
            "\n",
            "            total = pos_sum + math.fabs(neg_sum) + neu_count\n",
            "            pos = math.fabs(pos_sum / total)\n",
            "            neg = math.fabs(neg_sum / total)\n",
            "            neu = math.fabs(neu_count / total)\n",
            "\n",
            "        else:\n",
            "            compound = 0.0\n",
            "            pos = 0.0\n",
            "            neg = 0.0\n",
            "            neu = 0.0\n",
            "\n",
            "        sentiment_dict = \\\n",
            "            {\"neg\" : round(neg, 3),\n",
            "             \"neu\" : round(neu, 3),\n",
            "             \"pos\" : round(pos, 3),\n",
            "             \"compound\" : round(compound, 4)}\n",
            "\n",
            "        return sentiment_dict\n",
            "\n"
          ],
          "name": "stdout"
        }
      ]
    },
    {
      "cell_type": "code",
      "metadata": {
        "colab": {
          "base_uri": "https://localhost:8080/"
        },
        "id": "992hk2gVjC3V",
        "outputId": "1791674e-e437-4936-8a36-bef50e11c25a"
      },
      "source": [
        "vd_sentiment_score = df_new['Text'].apply(vd_sentiment)\n",
        "vd_sentiment_score"
      ],
      "execution_count": 13,
      "outputs": [
        {
          "output_type": "execute_result",
          "data": {
            "text/plain": [
              "0          adverse_effect\n",
              "1          adverse_effect\n",
              "2                 no_text\n",
              "3          adverse_effect\n",
              "4                 no_text\n",
              "              ...        \n",
              "6820       adverse_effect\n",
              "6821              no_text\n",
              "6822    no_adverse_effect\n",
              "6823    no_adverse_effect\n",
              "6824              no_text\n",
              "Name: Text, Length: 6825, dtype: object"
            ]
          },
          "metadata": {},
          "execution_count": 13
        }
      ]
    },
    {
      "cell_type": "code",
      "metadata": {
        "colab": {
          "base_uri": "https://localhost:8080/",
          "height": 339
        },
        "id": "jeF4sWDQevGr",
        "outputId": "381f5f56-28e1-48b0-850d-de26947c289b"
      },
      "source": [
        "plt.hist(vd_sentiment_score)"
      ],
      "execution_count": 14,
      "outputs": [
        {
          "output_type": "execute_result",
          "data": {
            "text/plain": [
              "(array([3074.,    0.,    0., 1806.,    0.,    0., 1475.,    0.,    0.,\n",
              "         470.]),\n",
              " array([0. , 0.3, 0.6, 0.9, 1.2, 1.5, 1.8, 2.1, 2.4, 2.7, 3. ]),\n",
              " <a list of 10 Patch objects>)"
            ]
          },
          "metadata": {},
          "execution_count": 14
        },
        {
          "output_type": "display_data",
          "data": {
            "image/png": "[encoded data removed]",
            "text/plain": [
              "<Figure size 432x288 with 1 Axes>"
            ]
          },
          "metadata": {
            "needs_background": "light"
          }
        }
      ]
    },
    {
      "cell_type": "code",
      "metadata": {
        "colab": {
          "base_uri": "https://localhost:8080/",
          "height": 339
        },
        "id": "pSMAIEsIjjSq",
        "outputId": "ac321b55-d080-4d93-c0e4-de4c6e7824e8"
      },
      "source": [
        "# plt.hist(vd_sentiment_score)"
      ],
      "execution_count": null,
      "outputs": [
        {
          "output_type": "execute_result",
          "data": {
            "text/plain": [
              "(array([3053.,    0.,    0., 1806.,    0.,    0., 1497.,    0.,    0.,\n",
              "         469.]),\n",
              " array([0. , 0.3, 0.6, 0.9, 1.2, 1.5, 1.8, 2.1, 2.4, 2.7, 3. ]),\n",
              " <a list of 10 Patch objects>)"
            ]
          },
          "metadata": {},
          "execution_count": 24
        },
        {
          "output_type": "display_data",
          "data": {
            "image/png": "[encoded data removed]",
            "text/plain": [
              "<Figure size 432x288 with 1 Axes>"
            ]
          },
          "metadata": {
            "needs_background": "light"
          }
        }
      ]
    },
    {
      "cell_type": "code",
      "metadata": {
        "id": "_AaPXop5j1mF"
      },
      "source": [
        "df_new['vd_sentiment'] = vd_sentiment_score"
      ],
      "execution_count": null,
      "outputs": []
    },
    {
      "cell_type": "code",
      "metadata": {
        "colab": {
          "base_uri": "https://localhost:8080/"
        },
        "id": "5vMeNFNhj46w",
        "outputId": "1632e1b3-1e0b-4c7c-a162-fcb496ba5062"
      },
      "source": [
        "noadv = df_new[df_new['vd_sentiment'] == 'no_adverse_effect']['Text']\n",
        "noadv.head(3)"
      ],
      "execution_count": null,
      "outputs": [
        {
          "output_type": "execute_result",
          "data": {
            "text/plain": [
              "0    Trial of labor after cesarean delivery (tolac)...\n",
              "1    Visual symptoms are well recognized as a side ...\n",
              "3    There have also been numerous reports on the p...\n",
              "Name: Text, dtype: object"
            ]
          },
          "metadata": {},
          "execution_count": 18
        }
      ]
    },
    {
      "cell_type": "code",
      "metadata": {
        "colab": {
          "base_uri": "https://localhost:8080/",
          "height": 36
        },
        "id": "jYB-PzROkh7d",
        "outputId": "3e4b3095-3c5f-4d0f-bf09-d73e4030687a"
      },
      "source": [
        "noadv.loc[1]"
      ],
      "execution_count": null,
      "outputs": [
        {
          "output_type": "execute_result",
          "data": {
            "application/vnd.google.colaboratory.intrinsic+json": {
              "type": "string"
            },
            "text/plain": [
              "'Visual symptoms are well recognized as a side effect of sildenafil when used for erectile dysfunction [ 10 ].'"
            ]
          },
          "metadata": {},
          "execution_count": 20
        }
      ]
    },
    {
      "cell_type": "code",
      "metadata": {
        "id": "oQixPaDFnYcd"
      },
      "source": [
        "from textblob import TextBlob"
      ],
      "execution_count": null,
      "outputs": []
    },
    {
      "cell_type": "code",
      "metadata": {
        "id": "f0Uvkx9ZnZhU"
      },
      "source": [
        "def tb_sentiment(text):\n",
        "  if pd.isna(text):\n",
        "    return \"no_text\"\n",
        "\n",
        "  score = TextBlob(text).sentiment.polarity\n",
        "\n",
        "  if score > 0:\n",
        "      return \"adverse_effect\"\n",
        "  elif score < 0:\n",
        "      return \"no_adverse_effect\"\n",
        "  \n",
        "  return \"neutral\""
      ],
      "execution_count": null,
      "outputs": []
    },
    {
      "cell_type": "code",
      "metadata": {
        "colab": {
          "base_uri": "https://localhost:8080/"
        },
        "id": "YmL4-wNSoGR3",
        "outputId": "8bc5099c-53a4-4669-dd91-2270949c8eac"
      },
      "source": [
        "tb_sentiment_score = df_new['Text'].apply(tb_sentiment)\n",
        "tb_sentiment_score"
      ],
      "execution_count": null,
      "outputs": [
        {
          "output_type": "execute_result",
          "data": {
            "text/plain": [
              "0          adverse_effect\n",
              "1                 neutral\n",
              "2                 no_text\n",
              "3          adverse_effect\n",
              "4                 no_text\n",
              "              ...        \n",
              "6820              neutral\n",
              "6821              no_text\n",
              "6822              neutral\n",
              "6823    no_adverse_effect\n",
              "6824              no_text\n",
              "Name: Text, Length: 6825, dtype: object"
            ]
          },
          "metadata": {},
          "execution_count": 27
        }
      ]
    },
    {
      "cell_type": "code",
      "metadata": {
        "colab": {
          "base_uri": "https://localhost:8080/",
          "height": 339
        },
        "id": "tRvO7-19oJO-",
        "outputId": "49d72265-818c-419f-c34a-07c03ec607f9"
      },
      "source": [
        "plt.hist(tb_sentiment_score)"
      ],
      "execution_count": null,
      "outputs": [
        {
          "output_type": "execute_result",
          "data": {
            "text/plain": [
              "(array([3461.,    0.,    0.,  357.,    0.,    0., 1806.,    0.,    0.,\n",
              "        1201.]),\n",
              " array([0. , 0.3, 0.6, 0.9, 1.2, 1.5, 1.8, 2.1, 2.4, 2.7, 3. ]),\n",
              " <a list of 10 Patch objects>)"
            ]
          },
          "metadata": {},
          "execution_count": 28
        },
        {
          "output_type": "display_data",
          "data": {
            "image/png": "[encoded data removed]",
            "text/plain": [
              "<Figure size 432x288 with 1 Axes>"
            ]
          },
          "metadata": {
            "needs_background": "light"
          }
        }
      ]
    },
    {
      "cell_type": "code",
      "metadata": {
        "colab": {
          "base_uri": "https://localhost:8080/"
        },
        "id": "321QtoVNrCm6",
        "outputId": "a59b8b3d-0082-4f76-ce39-7e565e1fb5f4"
      },
      "source": [
        "TextBlob(\"Medicine XY0011 does not have adverse effect after 10 days.\").sentiment"
      ],
      "execution_count": null,
      "outputs": [
        {
          "output_type": "execute_result",
          "data": {
            "text/plain": [
              "Sentiment(polarity=0.0, subjectivity=0.0)"
            ]
          },
          "metadata": {},
          "execution_count": 33
        }
      ]
    },
    {
      "cell_type": "code",
      "metadata": {
        "colab": {
          "base_uri": "https://localhost:8080/"
        },
        "id": "A9eYAkiIrVIx",
        "outputId": "da5e04f3-c092-40c6-b8dd-219104143587"
      },
      "source": [
        "nltk.download('movie_reviews')\n",
        "nltk.download('punkt')"
      ],
      "execution_count": null,
      "outputs": [
        {
          "name": "stdout",
          "output_type": "stream",
          "text": [
            "[nltk_data] Downloading package movie_reviews to /root/nltk_data...\n",
            "[nltk_data]   Unzipping corpora/movie_reviews.zip.\n",
            "[nltk_data] Downloading package punkt to /root/nltk_data...\n",
            "[nltk_data]   Unzipping tokenizers/punkt.zip.\n"
          ]
        },
        {
          "data": {
            "text/plain": [
              "True"
            ]
          },
          "execution_count": 5,
          "metadata": {},
          "output_type": "execute_result"
        }
      ]
    },
    {
      "cell_type": "code",
      "metadata": {
        "id": "p2dYB1Veo-nh"
      },
      "source": [
        "from textblob.sentiments import NaiveBayesAnalyzer"
      ],
      "execution_count": null,
      "outputs": []
    },
    {
      "cell_type": "code",
      "metadata": {
        "colab": {
          "base_uri": "https://localhost:8080/"
        },
        "id": "Ew10FONLp5jf",
        "outputId": "445cefdb-18ed-42ba-a762-6271ab557adf"
      },
      "source": [
        "TextBlob(\"This medicine has some adverse effect on patients after 10 days.\", analyzer=NaiveBayesAnalyzer()).sentiment"
      ],
      "execution_count": null,
      "outputs": [
        {
          "data": {
            "text/plain": [
              "Sentiment(classification='pos', p_pos=0.5962720980554924, p_neg=0.4037279019445061)"
            ]
          },
          "execution_count": 51,
          "metadata": {
            "tags": []
          },
          "output_type": "execute_result"
        }
      ]
    },
    {
      "cell_type": "code",
      "metadata": {
        "id": "tepakg3dpBJz"
      },
      "source": [
        "def nb_sentiment(text):\n",
        "  if pd.isna(text):\n",
        "    return \"no_text\"\n",
        "  \n",
        "  try:\n",
        "    score = TextBlob(text, analyzer=NaiveBayesAnalyzer()).sentiment\n",
        "  except:\n",
        "    score = {\n",
        "        'p_neg': 0,\n",
        "        'p_pos': 0\n",
        "    }\n",
        "\n",
        "  if score.p_neg < score.p_pos:\n",
        "      return \"adverse_effect\"\n",
        "  elif score.p_neg > score.p_pos:\n",
        "      return \"no_adverse_effect\"\n",
        "  \n",
        "  return \"neutral\""
      ],
      "execution_count": null,
      "outputs": []
    },
    {
      "cell_type": "code",
      "metadata": {
        "colab": {
          "base_uri": "https://localhost:8080/",
          "height": 36
        },
        "id": "97DoEn2A47h4",
        "outputId": "fe17c582-1dfa-4151-d87f-55eb0b9af8ff"
      },
      "source": [
        "nb_sentiment(df_new['Text'][0])"
      ],
      "execution_count": null,
      "outputs": [
        {
          "data": {
            "application/vnd.google.colaboratory.intrinsic+json": {
              "type": "string"
            },
            "text/plain": [
              "'adverse_effect'"
            ]
          },
          "execution_count": 8,
          "metadata": {},
          "output_type": "execute_result"
        }
      ]
    },
    {
      "cell_type": "code",
      "metadata": {
        "colab": {
          "background_save": true
        },
        "id": "ktr6iq9TrB4y"
      },
      "source": [
        "for text in df_new['Text']:\n",
        "  print(nb_sentiment(text))"
      ],
      "execution_count": null,
      "outputs": []
    },
    {
      "cell_type": "code",
      "metadata": {
        "id": "zrJ9ZajOpGN1"
      },
      "source": [
        "nb_sentiment_score = df_new['Text'].apply(nb_sentiment)\n",
        "nb_sentiment_score"
      ],
      "execution_count": null,
      "outputs": []
    },
    {
      "cell_type": "code",
      "metadata": {
        "id": "8xtOH1nlpVka"
      },
      "source": [
        "plt.hist(nb_sentiment_score)"
      ],
      "execution_count": null,
      "outputs": []
    },
    {
      "cell_type": "code",
      "metadata": {
        "id": "GmREETBns12c"
      },
      "source": [
        "train = [\n",
        "  ('chemically induced', 'pos'), \n",
        "  ('adverse effect', 'pos'), \n",
        "  ('complication', 'pos'), \n",
        "  ('poisoning', 'pos'), \n",
        "  ('drug effect', 'pos'), \n",
        "  (\"side effect\", 'pos'), \n",
        "  (\"adverse reaction\", \"pos\"),\n",
        "  (\"pharmacological action\", \"pos\"),\n",
        "  (\"adverse drug event\", \"pos\"),\n",
        "  (\"adverse event\", \"pos\"),\n",
        "  (\"adverse\", \"pos\"),\n",
        "  (\"complexity\", \"pos\")\n",
        "]\n",
        "\n",
        "def cm_sentiment(text):\n",
        "\n",
        "  score = TextBlob(text, analyzer=NaiveBayesAnalyzer()).sentiment\n",
        "\n",
        "  if score.p_neg > score.p_pos:\n",
        "      return \"adverse_effect\"\n",
        "  elif score.p_neg < score.p_pos:\n",
        "      return \"no_adverse_effect\"\n",
        "  \n",
        "  return \"neutral\"\n",
        "\n",
        "cl = NaiveBayesClassifier(train)\n",
        "cl.classify(\"I feel amazing!\")\n",
        "'pos' \n",
        "blob = TextBlob(\"The beer is good. But the hangover is horrible.\", classifier=cl) \n",
        "for s in blob.sentences: \n",
        "     print(s) \n",
        "     print(s.classify()) "
      ],
      "execution_count": null,
      "outputs": []
    }
  ]
}