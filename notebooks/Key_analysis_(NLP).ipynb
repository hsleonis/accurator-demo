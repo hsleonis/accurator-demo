{
  "nbformat": 4,
  "nbformat_minor": 0,
  "metadata": {
    "colab": {
      "name": "Key analysis (NLP).ipynb",
      "provenance": []
    },
    "kernelspec": {
      "name": "python3",
      "display_name": "Python 3"
    },
    "language_info": {
      "name": "python"
    }
  },
  "cells": [
    {
      "cell_type": "code",
      "metadata": {
        "id": "Peq50sHDAk9B"
      },
      "source": [
        "import numpy as np\n",
        "import pandas as pd\n",
        "import matplotlib.pyplot as plt\n",
        "import re\n",
        "%matplotlib inline"
      ],
      "execution_count": 1,
      "outputs": []
    },
    {
      "cell_type": "code",
      "metadata": {
        "colab": {
          "base_uri": "https://localhost:8080/"
        },
        "id": "cQtqgkgdDWRO",
        "outputId": "29823d7f-65be-43c7-c3f9-c0dd2f00208c"
      },
      "source": [
        "%cd drive/MyDrive/Colab\\ Notebooks"
      ],
      "execution_count": 2,
      "outputs": [
        {
          "output_type": "stream",
          "text": [
            "/content/drive/MyDrive/Colab Notebooks\n"
          ],
          "name": "stdout"
        }
      ]
    },
    {
      "cell_type": "markdown",
      "metadata": {
        "id": "DN35yUC2LQnV"
      },
      "source": [
        "**Read CSV:**"
      ]
    },
    {
      "cell_type": "code",
      "metadata": {
        "id": "PpJNEdLRBMvV",
        "colab": {
          "base_uri": "https://localhost:8080/",
          "height": 206
        },
        "outputId": "33fa7151-096c-43d8-e459-5cba3afdc49f"
      },
      "source": [
        "key_report = pd.read_csv('key_report_1.csv')\n",
        "key_report.head()"
      ],
      "execution_count": 3,
      "outputs": [
        {
          "output_type": "execute_result",
          "data": {
            "text/html": [
              "<div>\n",
              "<style scoped>\n",
              "    .dataframe tbody tr th:only-of-type {\n",
              "        vertical-align: middle;\n",
              "    }\n",
              "\n",
              "    .dataframe tbody tr th {\n",
              "        vertical-align: top;\n",
              "    }\n",
              "\n",
              "    .dataframe thead th {\n",
              "        text-align: right;\n",
              "    }\n",
              "</style>\n",
              "<table border=\"1\" class=\"dataframe\">\n",
              "  <thead>\n",
              "    <tr style=\"text-align: right;\">\n",
              "      <th></th>\n",
              "      <th>ItemID</th>\n",
              "      <th>Unnamed: 1</th>\n",
              "    </tr>\n",
              "  </thead>\n",
              "  <tbody>\n",
              "    <tr>\n",
              "      <th>0</th>\n",
              "      <td>7985785</td>\n",
              "      <td>title,abstract,background,methods,results,conc...</td>\n",
              "    </tr>\n",
              "    <tr>\n",
              "      <th>1</th>\n",
              "      <td>4837660</td>\n",
              "      <td>title,abstract,background,case_presentation,co...</td>\n",
              "    </tr>\n",
              "    <tr>\n",
              "      <th>2</th>\n",
              "      <td>4466444</td>\n",
              "      <td>title,abstract,background,methods,results,conc...</td>\n",
              "    </tr>\n",
              "    <tr>\n",
              "      <th>3</th>\n",
              "      <td>8620634</td>\n",
              "      <td>title,abstract,background,case_presentation,co...</td>\n",
              "    </tr>\n",
              "    <tr>\n",
              "      <th>4</th>\n",
              "      <td>8420016</td>\n",
              "      <td>title,abstract,background,methods,results,conc...</td>\n",
              "    </tr>\n",
              "  </tbody>\n",
              "</table>\n",
              "</div>"
            ],
            "text/plain": [
              "    ItemID                                         Unnamed: 1\n",
              "0  7985785  title,abstract,background,methods,results,conc...\n",
              "1  4837660  title,abstract,background,case_presentation,co...\n",
              "2  4466444  title,abstract,background,methods,results,conc...\n",
              "3  8620634  title,abstract,background,case_presentation,co...\n",
              "4  8420016  title,abstract,background,methods,results,conc..."
            ]
          },
          "metadata": {
            "tags": []
          },
          "execution_count": 3
        }
      ]
    },
    {
      "cell_type": "code",
      "metadata": {
        "colab": {
          "base_uri": "https://localhost:8080/"
        },
        "id": "K_7AND3fHq9e",
        "outputId": "badf0a18-e340-4a26-8e68-52f9a8d5b42a"
      },
      "source": [
        "len(key_report)"
      ],
      "execution_count": 4,
      "outputs": [
        {
          "output_type": "execute_result",
          "data": {
            "text/plain": [
              "6825"
            ]
          },
          "metadata": {
            "tags": []
          },
          "execution_count": 4
        }
      ]
    },
    {
      "cell_type": "markdown",
      "metadata": {
        "id": "AjOzbgRoLSiG"
      },
      "source": [
        "**Rename column:**"
      ]
    },
    {
      "cell_type": "code",
      "metadata": {
        "id": "8g2ccO7GF79Z"
      },
      "source": [
        "df = key_report.rename(columns={'Unnamed: 1': 'KeyData'})"
      ],
      "execution_count": 5,
      "outputs": []
    },
    {
      "cell_type": "markdown",
      "metadata": {
        "id": "uJDUulJFpC2P"
      },
      "source": [
        "**Remove Non-alphanumeric characters from keys:**"
      ]
    },
    {
      "cell_type": "code",
      "metadata": {
        "id": "U_Y_RgLIpIY9"
      },
      "source": [
        "regex = re.compile('[^a-zA-Z,_]')\n",
        "df['KeyData'] = df['KeyData'].apply(lambda x: regex.sub('', x))"
      ],
      "execution_count": 6,
      "outputs": []
    },
    {
      "cell_type": "markdown",
      "metadata": {
        "id": "mKdHmcKFLZhK"
      },
      "source": [
        "**Split data:**"
      ]
    },
    {
      "cell_type": "code",
      "metadata": {
        "id": "e4RKXX8-MK-y"
      },
      "source": [
        "df['KeyData'] = df['KeyData'].apply(lambda x: x.split(','))"
      ],
      "execution_count": 7,
      "outputs": []
    },
    {
      "cell_type": "markdown",
      "metadata": {
        "id": "dwgvMg30MZIw"
      },
      "source": [
        "**Check length of keys:**"
      ]
    },
    {
      "cell_type": "code",
      "metadata": {
        "id": "BF0gjbwBKECL"
      },
      "source": [
        "df['KeyLen'] = df['KeyData'].apply(lambda x: len(x))"
      ],
      "execution_count": 8,
      "outputs": []
    },
    {
      "cell_type": "code",
      "metadata": {
        "colab": {
          "base_uri": "https://localhost:8080/",
          "height": 313
        },
        "id": "b1JVEfTmPIWs",
        "outputId": "8f7ccf1a-d6ff-4fdf-869b-26ef64eef381"
      },
      "source": [
        "df[['KeyData','KeyLen']].groupby('KeyLen').count().plot(kind='bar')"
      ],
      "execution_count": 9,
      "outputs": [
        {
          "output_type": "execute_result",
          "data": {
            "text/plain": [
              "<matplotlib.axes._subplots.AxesSubplot at 0x7f8f9cdf1410>"
            ]
          },
          "metadata": {
            "tags": []
          },
          "execution_count": 9
        },
        {
          "output_type": "display_data",
          "data": {
            "image/png": "[encoded data removed]",
            "text/plain": [
              "<Figure size 432x288 with 1 Axes>"
            ]
          },
          "metadata": {
            "tags": [],
            "needs_background": "light"
          }
        }
      ]
    },
    {
      "cell_type": "markdown",
      "metadata": {
        "id": "vmn6kRFZofJl"
      },
      "source": [
        "**Set Index:**"
      ]
    },
    {
      "cell_type": "code",
      "metadata": {
        "id": "OMrS5cIfohgK"
      },
      "source": [
        "df.set_index('ItemID', inplace=True)"
      ],
      "execution_count": 10,
      "outputs": []
    },
    {
      "cell_type": "markdown",
      "metadata": {
        "id": "tEXvGm5EMl43"
      },
      "source": [
        "**Check the dataset:**"
      ]
    },
    {
      "cell_type": "code",
      "metadata": {
        "colab": {
          "base_uri": "https://localhost:8080/",
          "height": 238
        },
        "id": "Kd90zzI-Moz-",
        "outputId": "4a4d7939-d5a9-450f-8aa0-78d44cb49634"
      },
      "source": [
        "df.head()"
      ],
      "execution_count": 11,
      "outputs": [
        {
          "output_type": "execute_result",
          "data": {
            "text/html": [
              "<div>\n",
              "<style scoped>\n",
              "    .dataframe tbody tr th:only-of-type {\n",
              "        vertical-align: middle;\n",
              "    }\n",
              "\n",
              "    .dataframe tbody tr th {\n",
              "        vertical-align: top;\n",
              "    }\n",
              "\n",
              "    .dataframe thead th {\n",
              "        text-align: right;\n",
              "    }\n",
              "</style>\n",
              "<table border=\"1\" class=\"dataframe\">\n",
              "  <thead>\n",
              "    <tr style=\"text-align: right;\">\n",
              "      <th></th>\n",
              "      <th>KeyData</th>\n",
              "      <th>KeyLen</th>\n",
              "    </tr>\n",
              "    <tr>\n",
              "      <th>ItemID</th>\n",
              "      <th></th>\n",
              "      <th></th>\n",
              "    </tr>\n",
              "  </thead>\n",
              "  <tbody>\n",
              "    <tr>\n",
              "      <th>7985785</th>\n",
              "      <td>[title, abstract, background, methods, results...</td>\n",
              "      <td>15</td>\n",
              "    </tr>\n",
              "    <tr>\n",
              "      <th>4837660</th>\n",
              "      <td>[title, abstract, background, case_presentatio...</td>\n",
              "      <td>12</td>\n",
              "    </tr>\n",
              "    <tr>\n",
              "      <th>4466444</th>\n",
              "      <td>[title, abstract, background, methods, results...</td>\n",
              "      <td>21</td>\n",
              "    </tr>\n",
              "    <tr>\n",
              "      <th>8620634</th>\n",
              "      <td>[title, abstract, background, case_presentatio...</td>\n",
              "      <td>12</td>\n",
              "    </tr>\n",
              "    <tr>\n",
              "      <th>8420016</th>\n",
              "      <td>[title, abstract, background, methods, results...</td>\n",
              "      <td>17</td>\n",
              "    </tr>\n",
              "  </tbody>\n",
              "</table>\n",
              "</div>"
            ],
            "text/plain": [
              "                                                   KeyData  KeyLen\n",
              "ItemID                                                            \n",
              "7985785  [title, abstract, background, methods, results...      15\n",
              "4837660  [title, abstract, background, case_presentatio...      12\n",
              "4466444  [title, abstract, background, methods, results...      21\n",
              "8620634  [title, abstract, background, case_presentatio...      12\n",
              "8420016  [title, abstract, background, methods, results...      17"
            ]
          },
          "metadata": {
            "tags": []
          },
          "execution_count": 11
        }
      ]
    },
    {
      "cell_type": "markdown",
      "metadata": {
        "id": "ERq4TJZbM4Co"
      },
      "source": [
        "**Check how many are above 15:**"
      ]
    },
    {
      "cell_type": "code",
      "metadata": {
        "colab": {
          "base_uri": "https://localhost:8080/",
          "height": 238
        },
        "id": "oQnmCoDTNv5h",
        "outputId": "93ce2fe3-198e-441f-fbe4-2b5dfe786d8b"
      },
      "source": [
        "df['KeyFifteen'] = df['KeyLen'] > 15\n",
        "df.head()"
      ],
      "execution_count": 12,
      "outputs": [
        {
          "output_type": "execute_result",
          "data": {
            "text/html": [
              "<div>\n",
              "<style scoped>\n",
              "    .dataframe tbody tr th:only-of-type {\n",
              "        vertical-align: middle;\n",
              "    }\n",
              "\n",
              "    .dataframe tbody tr th {\n",
              "        vertical-align: top;\n",
              "    }\n",
              "\n",
              "    .dataframe thead th {\n",
              "        text-align: right;\n",
              "    }\n",
              "</style>\n",
              "<table border=\"1\" class=\"dataframe\">\n",
              "  <thead>\n",
              "    <tr style=\"text-align: right;\">\n",
              "      <th></th>\n",
              "      <th>KeyData</th>\n",
              "      <th>KeyLen</th>\n",
              "      <th>KeyFifteen</th>\n",
              "    </tr>\n",
              "    <tr>\n",
              "      <th>ItemID</th>\n",
              "      <th></th>\n",
              "      <th></th>\n",
              "      <th></th>\n",
              "    </tr>\n",
              "  </thead>\n",
              "  <tbody>\n",
              "    <tr>\n",
              "      <th>7985785</th>\n",
              "      <td>[title, abstract, background, methods, results...</td>\n",
              "      <td>15</td>\n",
              "      <td>False</td>\n",
              "    </tr>\n",
              "    <tr>\n",
              "      <th>4837660</th>\n",
              "      <td>[title, abstract, background, case_presentatio...</td>\n",
              "      <td>12</td>\n",
              "      <td>False</td>\n",
              "    </tr>\n",
              "    <tr>\n",
              "      <th>4466444</th>\n",
              "      <td>[title, abstract, background, methods, results...</td>\n",
              "      <td>21</td>\n",
              "      <td>True</td>\n",
              "    </tr>\n",
              "    <tr>\n",
              "      <th>8620634</th>\n",
              "      <td>[title, abstract, background, case_presentatio...</td>\n",
              "      <td>12</td>\n",
              "      <td>False</td>\n",
              "    </tr>\n",
              "    <tr>\n",
              "      <th>8420016</th>\n",
              "      <td>[title, abstract, background, methods, results...</td>\n",
              "      <td>17</td>\n",
              "      <td>True</td>\n",
              "    </tr>\n",
              "  </tbody>\n",
              "</table>\n",
              "</div>"
            ],
            "text/plain": [
              "                                                   KeyData  KeyLen  KeyFifteen\n",
              "ItemID                                                                        \n",
              "7985785  [title, abstract, background, methods, results...      15       False\n",
              "4837660  [title, abstract, background, case_presentatio...      12       False\n",
              "4466444  [title, abstract, background, methods, results...      21        True\n",
              "8620634  [title, abstract, background, case_presentatio...      12       False\n",
              "8420016  [title, abstract, background, methods, results...      17        True"
            ]
          },
          "metadata": {
            "tags": []
          },
          "execution_count": 12
        }
      ]
    },
    {
      "cell_type": "code",
      "metadata": {
        "colab": {
          "base_uri": "https://localhost:8080/"
        },
        "id": "qHh6l1gsOHGO",
        "outputId": "78ee64e7-45fe-42c1-e863-a0f87b2d692e"
      },
      "source": [
        "df['KeyFifteen'].sum()"
      ],
      "execution_count": 13,
      "outputs": [
        {
          "output_type": "execute_result",
          "data": {
            "text/plain": [
              "1318"
            ]
          },
          "metadata": {
            "tags": []
          },
          "execution_count": 13
        }
      ]
    },
    {
      "cell_type": "code",
      "metadata": {
        "colab": {
          "base_uri": "https://localhost:8080/",
          "height": 313
        },
        "id": "ypYxET6kIgMz",
        "outputId": "bf937b1f-3763-432d-b075-e907b25eb500"
      },
      "source": [
        "df[['KeyData','KeyFifteen']].groupby('KeyFifteen').count().plot(kind='bar')"
      ],
      "execution_count": 14,
      "outputs": [
        {
          "output_type": "execute_result",
          "data": {
            "text/plain": [
              "<matplotlib.axes._subplots.AxesSubplot at 0x7f8f9bcbe5d0>"
            ]
          },
          "metadata": {
            "tags": []
          },
          "execution_count": 14
        },
        {
          "output_type": "display_data",
          "data": {
            "image/png": "[encoded data removed]",
            "text/plain": [
              "<Figure size 432x288 with 1 Axes>"
            ]
          },
          "metadata": {
            "tags": [],
            "needs_background": "light"
          }
        }
      ]
    },
    {
      "cell_type": "markdown",
      "metadata": {
        "id": "_XaH9fzOqp6R"
      },
      "source": [
        "**Check for \"Introduction, Related work, Methods, Discussion, Results, Conclusion\":**"
      ]
    },
    {
      "cell_type": "code",
      "metadata": {
        "colab": {
          "base_uri": "https://localhost:8080/",
          "height": 324
        },
        "id": "JDtzAX52qthV",
        "outputId": "8d42c563-ab79-4f69-a23f-cb3637bcfd94"
      },
      "source": [
        "tmp_arr = [\"abstract\", \"introduction\", \"related_work\", \"methods\", \"discussion\", \"results\", \"conclusion\"]\n",
        "\n",
        "for arr_key in tmp_arr:\n",
        "  df[arr_key] = df['KeyData'].apply(lambda x: arr_key in x)\n",
        " \n",
        "df.head()"
      ],
      "execution_count": 15,
      "outputs": [
        {
          "output_type": "execute_result",
          "data": {
            "text/html": [
              "<div>\n",
              "<style scoped>\n",
              "    .dataframe tbody tr th:only-of-type {\n",
              "        vertical-align: middle;\n",
              "    }\n",
              "\n",
              "    .dataframe tbody tr th {\n",
              "        vertical-align: top;\n",
              "    }\n",
              "\n",
              "    .dataframe thead th {\n",
              "        text-align: right;\n",
              "    }\n",
              "</style>\n",
              "<table border=\"1\" class=\"dataframe\">\n",
              "  <thead>\n",
              "    <tr style=\"text-align: right;\">\n",
              "      <th></th>\n",
              "      <th>KeyData</th>\n",
              "      <th>KeyLen</th>\n",
              "      <th>KeyFifteen</th>\n",
              "      <th>abstract</th>\n",
              "      <th>introduction</th>\n",
              "      <th>related_work</th>\n",
              "      <th>methods</th>\n",
              "      <th>discussion</th>\n",
              "      <th>results</th>\n",
              "      <th>conclusion</th>\n",
              "    </tr>\n",
              "    <tr>\n",
              "      <th>ItemID</th>\n",
              "      <th></th>\n",
              "      <th></th>\n",
              "      <th></th>\n",
              "      <th></th>\n",
              "      <th></th>\n",
              "      <th></th>\n",
              "      <th></th>\n",
              "      <th></th>\n",
              "      <th></th>\n",
              "      <th></th>\n",
              "    </tr>\n",
              "  </thead>\n",
              "  <tbody>\n",
              "    <tr>\n",
              "      <th>7985785</th>\n",
              "      <td>[title, abstract, background, methods, results...</td>\n",
              "      <td>15</td>\n",
              "      <td>False</td>\n",
              "      <td>True</td>\n",
              "      <td>False</td>\n",
              "      <td>False</td>\n",
              "      <td>True</td>\n",
              "      <td>True</td>\n",
              "      <td>True</td>\n",
              "      <td>True</td>\n",
              "    </tr>\n",
              "    <tr>\n",
              "      <th>4837660</th>\n",
              "      <td>[title, abstract, background, case_presentatio...</td>\n",
              "      <td>12</td>\n",
              "      <td>False</td>\n",
              "      <td>True</td>\n",
              "      <td>False</td>\n",
              "      <td>False</td>\n",
              "      <td>False</td>\n",
              "      <td>True</td>\n",
              "      <td>False</td>\n",
              "      <td>False</td>\n",
              "    </tr>\n",
              "    <tr>\n",
              "      <th>4466444</th>\n",
              "      <td>[title, abstract, background, methods, results...</td>\n",
              "      <td>21</td>\n",
              "      <td>True</td>\n",
              "      <td>True</td>\n",
              "      <td>False</td>\n",
              "      <td>False</td>\n",
              "      <td>True</td>\n",
              "      <td>True</td>\n",
              "      <td>True</td>\n",
              "      <td>False</td>\n",
              "    </tr>\n",
              "    <tr>\n",
              "      <th>8620634</th>\n",
              "      <td>[title, abstract, background, case_presentatio...</td>\n",
              "      <td>12</td>\n",
              "      <td>False</td>\n",
              "      <td>True</td>\n",
              "      <td>False</td>\n",
              "      <td>False</td>\n",
              "      <td>False</td>\n",
              "      <td>False</td>\n",
              "      <td>False</td>\n",
              "      <td>False</td>\n",
              "    </tr>\n",
              "    <tr>\n",
              "      <th>8420016</th>\n",
              "      <td>[title, abstract, background, methods, results...</td>\n",
              "      <td>17</td>\n",
              "      <td>True</td>\n",
              "      <td>True</td>\n",
              "      <td>False</td>\n",
              "      <td>False</td>\n",
              "      <td>True</td>\n",
              "      <td>True</td>\n",
              "      <td>True</td>\n",
              "      <td>False</td>\n",
              "    </tr>\n",
              "  </tbody>\n",
              "</table>\n",
              "</div>"
            ],
            "text/plain": [
              "                                                   KeyData  ...  conclusion\n",
              "ItemID                                                      ...            \n",
              "7985785  [title, abstract, background, methods, results...  ...        True\n",
              "4837660  [title, abstract, background, case_presentatio...  ...       False\n",
              "4466444  [title, abstract, background, methods, results...  ...       False\n",
              "8620634  [title, abstract, background, case_presentatio...  ...       False\n",
              "8420016  [title, abstract, background, methods, results...  ...       False\n",
              "\n",
              "[5 rows x 10 columns]"
            ]
          },
          "metadata": {
            "tags": []
          },
          "execution_count": 15
        }
      ]
    },
    {
      "cell_type": "code",
      "metadata": {
        "colab": {
          "base_uri": "https://localhost:8080/"
        },
        "id": "HSpMdOuhtdPm",
        "outputId": "26e46f2f-7c60-43bc-ceab-b1b134976bd5"
      },
      "source": [
        "df.iloc[:,3:].sum()"
      ],
      "execution_count": 16,
      "outputs": [
        {
          "output_type": "execute_result",
          "data": {
            "text/plain": [
              "abstract        5419\n",
              "introduction    3140\n",
              "related_work       0\n",
              "methods         1636\n",
              "discussion      4513\n",
              "results         2648\n",
              "conclusion      1883\n",
              "dtype: int64"
            ]
          },
          "metadata": {
            "tags": []
          },
          "execution_count": 16
        }
      ]
    },
    {
      "cell_type": "markdown",
      "metadata": {
        "id": "LTnR7X_7s8CL"
      },
      "source": [
        "**Generate list of all keys:**"
      ]
    },
    {
      "cell_type": "code",
      "metadata": {
        "colab": {
          "base_uri": "https://localhost:8080/"
        },
        "id": "zFu22DiRs4yR",
        "outputId": "16a363e7-eac8-4e7f-aa0e-4621a988060e"
      },
      "source": [
        "bow = []\n",
        "\n",
        "def add_to_set(key_list):\n",
        "  for k in key_list:\n",
        "    bow.append(k)\n",
        "\n",
        "  return key_list\n",
        "\n",
        "df['KeyData'].apply(add_to_set)\n",
        "\n",
        "len(bow)"
      ],
      "execution_count": 17,
      "outputs": [
        {
          "output_type": "execute_result",
          "data": {
            "text/plain": [
              "115253"
            ]
          },
          "metadata": {
            "tags": []
          },
          "execution_count": 17
        }
      ]
    },
    {
      "cell_type": "markdown",
      "metadata": {
        "id": "kcyILCvTwPE8"
      },
      "source": [
        "**Unique items:**"
      ]
    },
    {
      "cell_type": "code",
      "metadata": {
        "colab": {
          "base_uri": "https://localhost:8080/"
        },
        "id": "5mEdIebbuwes",
        "outputId": "7d54bf6b-1751-4550-aac4-8e31b7a48cdc"
      },
      "source": [
        "set_bow = set(bow)\n",
        "len(set_bow)"
      ],
      "execution_count": 18,
      "outputs": [
        {
          "output_type": "execute_result",
          "data": {
            "text/plain": [
              "17067"
            ]
          },
          "metadata": {
            "tags": []
          },
          "execution_count": 18
        }
      ]
    },
    {
      "cell_type": "markdown",
      "metadata": {
        "id": "WANURZ-7xEh9"
      },
      "source": [
        "**Count values:**"
      ]
    },
    {
      "cell_type": "code",
      "metadata": {
        "id": "_7KCZ03xwaL3"
      },
      "source": [
        "count_bow = pd.Series(bow).value_counts()"
      ],
      "execution_count": 19,
      "outputs": []
    },
    {
      "cell_type": "markdown",
      "metadata": {
        "id": "USEnQRhp3aNs"
      },
      "source": [
        "**Checking related key names and using them to recreate lists:**"
      ]
    },
    {
      "cell_type": "code",
      "metadata": {
        "colab": {
          "base_uri": "https://localhost:8080/"
        },
        "id": "ZTm1oZKzxIj3",
        "outputId": "229c0bf8-23c0-4639-c9df-49102ac40742"
      },
      "source": [
        "count_bow[:40]"
      ],
      "execution_count": 25,
      "outputs": [
        {
          "output_type": "execute_result",
          "data": {
            "text/plain": [
              "title                                         6825\n",
              "abstract                                      5419\n",
              "discussion                                    4513\n",
              "about_this_article                            3856\n",
              "author_information                            3407\n",
              "rights_and_permissions                        3306\n",
              "references                                    3212\n",
              "introduction                                  3141\n",
              "ethics_declarations                           2868\n",
              "funding                                       2717\n",
              "results                                       2684\n",
              "background                                    2320\n",
              "competing_interests                           2140\n",
              "conclusions                                   2009\n",
              "consent_for_publication                       1920\n",
              "ethics_approval_and_consent_to_participate    1908\n",
              "conclusion                                    1885\n",
              "authors_contributions                         1864\n",
              "availability_of_data_and_materials            1821\n",
              "case_presentation                             1653\n",
              "methods                                       1639\n",
              "additional_information                        1543\n",
              "                                              1162\n",
              "publishers_note                                988\n",
              "acknowledgements                               880\n",
              "p                                              819\n",
              "case_report                                    765\n",
              "materials_and_methods                          633\n",
              "discussion_and_conclusions                     582\n",
              "case_                                          554\n",
              "electronic_supplementary_material              550\n",
              "statistical_analysis                           470\n",
              "patients_and_methods                           457\n",
              "compliance_with_ethical_standards              433\n",
              "conflict_of_interest                           419\n",
              "acknowledgments                                303\n",
              "_bucharest                                     276\n",
              "patients                                       264\n",
              "abbreviations                                  251\n",
              "author_contributions                           196\n",
              "dtype: int64"
            ]
          },
          "metadata": {
            "tags": []
          },
          "execution_count": 25
        }
      ]
    },
    {
      "cell_type": "code",
      "metadata": {
        "id": "KQRF4P1Y7Vm7"
      },
      "source": [
        "# count_bow.to_csv('bow.csv')"
      ],
      "execution_count": 26,
      "outputs": []
    },
    {
      "cell_type": "markdown",
      "metadata": {
        "id": "U7-HE7myrPWq"
      },
      "source": [
        "All **6825** articles have titles."
      ]
    },
    {
      "cell_type": "code",
      "metadata": {
        "colab": {
          "base_uri": "https://localhost:8080/",
          "height": 206
        },
        "id": "JP8uarRZ7uDS",
        "outputId": "1735bd92-53fb-4576-b7e6-0c8546673db3"
      },
      "source": [
        "nbow = pd.read_csv('data/bow.csv')\n",
        "nbow.head()"
      ],
      "execution_count": 29,
      "outputs": [
        {
          "output_type": "execute_result",
          "data": {
            "text/html": [
              "<div>\n",
              "<style scoped>\n",
              "    .dataframe tbody tr th:only-of-type {\n",
              "        vertical-align: middle;\n",
              "    }\n",
              "\n",
              "    .dataframe tbody tr th {\n",
              "        vertical-align: top;\n",
              "    }\n",
              "\n",
              "    .dataframe thead th {\n",
              "        text-align: right;\n",
              "    }\n",
              "</style>\n",
              "<table border=\"1\" class=\"dataframe\">\n",
              "  <thead>\n",
              "    <tr style=\"text-align: right;\">\n",
              "      <th></th>\n",
              "      <th>Unnamed: 0</th>\n",
              "      <th>0</th>\n",
              "    </tr>\n",
              "  </thead>\n",
              "  <tbody>\n",
              "    <tr>\n",
              "      <th>0</th>\n",
              "      <td>title</td>\n",
              "      <td>6825</td>\n",
              "    </tr>\n",
              "    <tr>\n",
              "      <th>1</th>\n",
              "      <td>abstract</td>\n",
              "      <td>5419</td>\n",
              "    </tr>\n",
              "    <tr>\n",
              "      <th>2</th>\n",
              "      <td>discussion</td>\n",
              "      <td>4513</td>\n",
              "    </tr>\n",
              "    <tr>\n",
              "      <th>3</th>\n",
              "      <td>about_this_article</td>\n",
              "      <td>3856</td>\n",
              "    </tr>\n",
              "    <tr>\n",
              "      <th>4</th>\n",
              "      <td>author_information</td>\n",
              "      <td>3407</td>\n",
              "    </tr>\n",
              "  </tbody>\n",
              "</table>\n",
              "</div>"
            ],
            "text/plain": [
              "           Unnamed: 0     0\n",
              "0               title  6825\n",
              "1            abstract  5419\n",
              "2          discussion  4513\n",
              "3  about_this_article  3856\n",
              "4  author_information  3407"
            ]
          },
          "metadata": {
            "tags": []
          },
          "execution_count": 29
        }
      ]
    },
    {
      "cell_type": "code",
      "metadata": {
        "colab": {
          "base_uri": "https://localhost:8080/",
          "height": 645
        },
        "id": "277gk57rAYjS",
        "outputId": "b40400f5-a0d9-4b82-d773-97a4b448ca9e"
      },
      "source": [
        "nbow[161:180]"
      ],
      "execution_count": 37,
      "outputs": [
        {
          "output_type": "execute_result",
          "data": {
            "text/html": [
              "<div>\n",
              "<style scoped>\n",
              "    .dataframe tbody tr th:only-of-type {\n",
              "        vertical-align: middle;\n",
              "    }\n",
              "\n",
              "    .dataframe tbody tr th {\n",
              "        vertical-align: top;\n",
              "    }\n",
              "\n",
              "    .dataframe thead th {\n",
              "        text-align: right;\n",
              "    }\n",
              "</style>\n",
              "<table border=\"1\" class=\"dataframe\">\n",
              "  <thead>\n",
              "    <tr style=\"text-align: right;\">\n",
              "      <th></th>\n",
              "      <th>Unnamed: 0</th>\n",
              "      <th>0</th>\n",
              "    </tr>\n",
              "  </thead>\n",
              "  <tbody>\n",
              "    <tr>\n",
              "      <th>161</th>\n",
              "      <td>_mihaela_rdulescu</td>\n",
              "      <td>24</td>\n",
              "    </tr>\n",
              "    <tr>\n",
              "      <th>162</th>\n",
              "      <td>_timioara</td>\n",
              "      <td>24</td>\n",
              "    </tr>\n",
              "    <tr>\n",
              "      <th>163</th>\n",
              "      <td>_cristina_dragomirescu</td>\n",
              "      <td>24</td>\n",
              "    </tr>\n",
              "    <tr>\n",
              "      <th>164</th>\n",
              "      <td>ethical_standards</td>\n",
              "      <td>24</td>\n",
              "    </tr>\n",
              "    <tr>\n",
              "      <th>165</th>\n",
              "      <td>_tokyo</td>\n",
              "      <td>24</td>\n",
              "    </tr>\n",
              "    <tr>\n",
              "      <th>166</th>\n",
              "      <td>_constana</td>\n",
              "      <td>24</td>\n",
              "    </tr>\n",
              "    <tr>\n",
              "      <th>167</th>\n",
              "      <td>_raluca_nstase</td>\n",
              "      <td>24</td>\n",
              "    </tr>\n",
              "    <tr>\n",
              "      <th>168</th>\n",
              "      <td>_hamilton</td>\n",
              "      <td>23</td>\n",
              "    </tr>\n",
              "    <tr>\n",
              "      <th>169</th>\n",
              "      <td>study_limitations</td>\n",
              "      <td>22</td>\n",
              "    </tr>\n",
              "    <tr>\n",
              "      <th>170</th>\n",
              "      <td>consent_to_participate</td>\n",
              "      <td>22</td>\n",
              "    </tr>\n",
              "    <tr>\n",
              "      <th>171</th>\n",
              "      <td>_united_states</td>\n",
              "      <td>22</td>\n",
              "    </tr>\n",
              "    <tr>\n",
              "      <th>172</th>\n",
              "      <td>study_design_and_patients</td>\n",
              "      <td>22</td>\n",
              "    </tr>\n",
              "    <tr>\n",
              "      <th>173</th>\n",
              "      <td>subjects</td>\n",
              "      <td>22</td>\n",
              "    </tr>\n",
              "    <tr>\n",
              "      <th>174</th>\n",
              "      <td>_ma</td>\n",
              "      <td>22</td>\n",
              "    </tr>\n",
              "    <tr>\n",
              "      <th>175</th>\n",
              "      <td>authors_contribution</td>\n",
              "      <td>22</td>\n",
              "    </tr>\n",
              "    <tr>\n",
              "      <th>176</th>\n",
              "      <td>outcome</td>\n",
              "      <td>21</td>\n",
              "    </tr>\n",
              "    <tr>\n",
              "      <th>177</th>\n",
              "      <td>literature_review</td>\n",
              "      <td>21</td>\n",
              "    </tr>\n",
              "    <tr>\n",
              "      <th>178</th>\n",
              "      <td>_madrid</td>\n",
              "      <td>21</td>\n",
              "    </tr>\n",
              "    <tr>\n",
              "      <th>179</th>\n",
              "      <td>_toronto</td>\n",
              "      <td>21</td>\n",
              "    </tr>\n",
              "  </tbody>\n",
              "</table>\n",
              "</div>"
            ],
            "text/plain": [
              "                    Unnamed: 0   0\n",
              "161          _mihaela_rdulescu  24\n",
              "162                  _timioara  24\n",
              "163     _cristina_dragomirescu  24\n",
              "164          ethical_standards  24\n",
              "165                     _tokyo  24\n",
              "166                  _constana  24\n",
              "167             _raluca_nstase  24\n",
              "168                  _hamilton  23\n",
              "169          study_limitations  22\n",
              "170     consent_to_participate  22\n",
              "171             _united_states  22\n",
              "172  study_design_and_patients  22\n",
              "173                   subjects  22\n",
              "174                        _ma  22\n",
              "175       authors_contribution  22\n",
              "176                    outcome  21\n",
              "177          literature_review  21\n",
              "178                    _madrid  21\n",
              "179                   _toronto  21"
            ]
          },
          "metadata": {
            "tags": []
          },
          "execution_count": 37
        }
      ]
    },
    {
      "cell_type": "markdown",
      "metadata": {
        "id": "RxbNO6l9yg_l"
      },
      "source": [
        "**Recreate lists:**"
      ]
    },
    {
      "cell_type": "markdown",
      "metadata": {
        "id": "0dIQdu040XQ6"
      },
      "source": [
        "*Previous*:\n",
        "\n",
        "* abstract        5419\n",
        "* introduction    3140\n",
        "* related_work       0\n",
        "* methods         1636\n",
        "* discussion      4513\n",
        "* results         2648\n",
        "* conclusion      1883"
      ]
    },
    {
      "cell_type": "code",
      "metadata": {
        "id": "mFcnTu6oD5lG"
      },
      "source": [
        "def anykey(names):\n",
        "  return df['KeyData'].apply(lambda x: any(name in x for name in names))"
      ],
      "execution_count": 21,
      "outputs": []
    },
    {
      "cell_type": "code",
      "metadata": {
        "colab": {
          "base_uri": "https://localhost:8080/"
        },
        "id": "8cdgYbMdyklh",
        "outputId": "5e1670e2-4411-4b4f-e63c-3e33ba444c36"
      },
      "source": [
        "df[\"abstract\"]     = anykey([\"abstract\",\"summary\",\"zusammenfassung\"])\n",
        "df[\"methods\"]      = anykey([\"method\",\"methods\",\"study_design\",\"study_design_and_patients\",\"materials_and_methods\",\"patients_and_methods\",\"material_and_methods\",\"subjects_and_methods\",\"procedures\",\"study_procedures\",\"methods_and_results\"])\n",
        "df[\"related_work\"] = anykey([\"related_work\",\"background\"])\n",
        "df[\"discussion\"]   = anykey([\"discussion\",\"diskussion\",\"discussion_and_conclusion\",\"results_and_discussion\",\"discussions\"])\n",
        "df[\"results\"]      = anykey([\"results\",\"outcomes\",\"outcome\",\"result\",\"followup_and_outcomes\",\"outcome_and_followup\",\"methods_and_results\"])\n",
        "df[\"conclusion\"]   = anykey([\"conclusion\",\"conclusions\",\"discussion_and_conclusion\"])\n",
        "\n",
        "df.iloc[:,3:].sum()"
      ],
      "execution_count": 38,
      "outputs": [
        {
          "output_type": "execute_result",
          "data": {
            "text/plain": [
              "abstract        5524\n",
              "introduction    3140\n",
              "related_work    2320\n",
              "methods         2666\n",
              "discussion      4815\n",
              "results         2686\n",
              "conclusion      3509\n",
              "dtype: int64"
            ]
          },
          "metadata": {
            "tags": []
          },
          "execution_count": 38
        }
      ]
    },
    {
      "cell_type": "markdown",
      "metadata": {
        "id": "bIILCY_d4sxg"
      },
      "source": [
        "* abstract        5524\n",
        "* introduction    3140\n",
        "* related_work     316\n",
        "* methods         2665\n",
        "* discussion      4815\n",
        "* results         2686\n",
        "* conclusion      3509"
      ]
    },
    {
      "cell_type": "code",
      "metadata": {
        "colab": {
          "base_uri": "https://localhost:8080/",
          "height": 338
        },
        "id": "fOb2Jm6fhcBW",
        "outputId": "5b381df1-74d0-4630-99bc-d33ee84847a6"
      },
      "source": [
        "df.iloc[:,3:].sum().plot(kind='bar')"
      ],
      "execution_count": 39,
      "outputs": [
        {
          "output_type": "execute_result",
          "data": {
            "text/plain": [
              "<matplotlib.axes._subplots.AxesSubplot at 0x7f8f957b8dd0>"
            ]
          },
          "metadata": {
            "tags": []
          },
          "execution_count": 39
        },
        {
          "output_type": "display_data",
          "data": {
            "image/png": "[encoded data removed]",
            "text/plain": [
              "<Figure size 432x288 with 1 Axes>"
            ]
          },
          "metadata": {
            "tags": [],
            "needs_background": "light"
          }
        }
      ]
    }
  ]
}