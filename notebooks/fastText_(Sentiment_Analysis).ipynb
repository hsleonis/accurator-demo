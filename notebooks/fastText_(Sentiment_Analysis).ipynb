{
  "nbformat": 4,
  "nbformat_minor": 0,
  "metadata": {
    "colab": {
      "name": "fastText (Sentiment Analysis).ipynb",
      "provenance": [],
      "collapsed_sections": []
    },
    "kernelspec": {
      "name": "python3",
      "display_name": "Python 3"
    },
    "language_info": {
      "name": "python"
    }
  },
  "cells": [
    {
      "cell_type": "code",
      "metadata": {
        "id": "MIhxoL2uy954"
      },
      "source": [
        "import pandas as pd\n",
        "import numpy as np\n",
        "import re\n",
        "import itertools\n",
        "import matplotlib.pyplot as plt\n",
        "%matplotlib inline"
      ],
      "execution_count": 10,
      "outputs": []
    },
    {
      "cell_type": "code",
      "metadata": {
        "colab": {
          "base_uri": "https://localhost:8080/"
        },
        "id": "opw-N3i3NVG4",
        "outputId": "438039bc-9072-49f6-e8b2-d7d3d5e304fd"
      },
      "source": [
        "%cd drive/MyDrive/Colab\\ Notebooks/data"
      ],
      "execution_count": 9,
      "outputs": [
        {
          "output_type": "stream",
          "text": [
            "/content/drive/MyDrive/Colab Notebooks/data\n"
          ],
          "name": "stdout"
        }
      ]
    },
    {
      "cell_type": "code",
      "metadata": {
        "colab": {
          "base_uri": "https://localhost:8080/"
        },
        "id": "F8LqLwOyNQFp",
        "outputId": "0aa24f7c-75ac-41e4-9f56-3f7396bcceca"
      },
      "source": [
        "%cd data/"
      ],
      "execution_count": 21,
      "outputs": [
        {
          "output_type": "stream",
          "text": [
            "/content/drive/My Drive/Colab Notebooks/data\n"
          ],
          "name": "stdout"
        }
      ]
    },
    {
      "cell_type": "code",
      "metadata": {
        "id": "uozwm23G26MG"
      },
      "source": [
        "df_new = pd.read_csv('adverse_summary_mod.csv')\n",
        "df_new.head(3)"
      ],
      "execution_count": null,
      "outputs": []
    },
    {
      "cell_type": "code",
      "metadata": {
        "id": "WTPljLwZ2-il"
      },
      "source": [
        "df_new.drop(['Unnamed: 0'], axis=1, inplace=True)"
      ],
      "execution_count": null,
      "outputs": []
    },
    {
      "cell_type": "markdown",
      "metadata": {
        "id": "PF_m08qimVv3"
      },
      "source": [
        "**Preprocess Text**"
      ]
    },
    {
      "cell_type": "markdown",
      "metadata": {
        "id": "gGc3roTEnB7x"
      },
      "source": [
        "1. Remove reference notations:"
      ]
    },
    {
      "cell_type": "code",
      "metadata": {
        "id": "QkZxUQ77mYt3"
      },
      "source": [
        "pattern = r\"\\[[\\d,\\s]*\\]\"\n",
        "txt = re.sub(pattern, '', df_new.loc[0]['Text'])\n",
        "txt"
      ],
      "execution_count": null,
      "outputs": []
    },
    {
      "cell_type": "markdown",
      "metadata": {
        "id": "c7-W0_IKqXwA"
      },
      "source": [
        "2. Remove punctuations with space:"
      ]
    },
    {
      "cell_type": "code",
      "metadata": {
        "id": "zcbfZYMcqcBB"
      },
      "source": [
        "txt = ' '.join(re.sub(\"[\\,\\!\\?\\:\\;\\-\\=\\<\\>\\≦\\≧\\#\\~]\", \" \", txt).split())\n",
        "txt"
      ],
      "execution_count": null,
      "outputs": []
    },
    {
      "cell_type": "code",
      "metadata": {
        "id": "090QaWcF6ESZ"
      },
      "source": [
        "txt = re.sub(r'\\s*\\.', '. ', txt)\n",
        "txt"
      ],
      "execution_count": null,
      "outputs": []
    },
    {
      "cell_type": "markdown",
      "metadata": {
        "id": "SX0-uwC0rG1D"
      },
      "source": [
        "3. Remove (0 :"
      ]
    },
    {
      "cell_type": "code",
      "metadata": {
        "id": "8qliMUkrrJvi"
      },
      "source": [
        "txt = re.sub(r'\\(0', '', txt)\n",
        "txt"
      ],
      "execution_count": null,
      "outputs": []
    },
    {
      "cell_type": "markdown",
      "metadata": {
        "id": "gjJzf8-4vOU-"
      },
      "source": [
        "4. Remove URLs:"
      ]
    },
    {
      "cell_type": "code",
      "metadata": {
        "id": "QLFw97lpvRcH"
      },
      "source": [
        "txt = ' '.join(re.sub(\"(\\w+:\\/\\/\\S+)\", \" \", txt).split())\n",
        "txt"
      ],
      "execution_count": null,
      "outputs": []
    },
    {
      "cell_type": "markdown",
      "metadata": {
        "id": "gPVhm-2fvkZa"
      },
      "source": [
        "5. Lowercase:"
      ]
    },
    {
      "cell_type": "code",
      "metadata": {
        "id": "hN3jFdvuvmas"
      },
      "source": [
        "txt = txt.lower()\n",
        "txt"
      ],
      "execution_count": null,
      "outputs": []
    },
    {
      "cell_type": "markdown",
      "metadata": {
        "id": "FUjts-7av5Fw"
      },
      "source": [
        "6. Fix misspelled words:"
      ]
    },
    {
      "cell_type": "code",
      "metadata": {
        "id": "WF4z56i0v6ox"
      },
      "source": [
        "txt = ''.join(''.join(s)[:2] for _, s in itertools.groupby(txt))\n",
        "txt"
      ],
      "execution_count": null,
      "outputs": []
    },
    {
      "cell_type": "code",
      "metadata": {
        "id": "Z3FWGJJnygbA"
      },
      "source": [
        "def preprocess(txt):\n",
        "  # Handle NaN\n",
        "  if pd.isna(txt):\n",
        "    return txt\n",
        "  \n",
        "  # Remove reference notations\n",
        "  txt = re.sub(r\"\\[[\\d,\\s]*\\]\", '', txt)\n",
        "  # Remove (0\n",
        "  txt = re.sub(r'\\(0', '', txt)\n",
        "  # Replace '.' with space\n",
        "  txt = re.sub(r'\\s*\\.', '. ', txt)\n",
        "  # Lowercase\n",
        "  txt = txt.lower()\n",
        "  # Remove punctuations and numbers with space\n",
        "  txt = re.sub(\"[^A-Za-z\\. ]\", \" \" , txt)\n",
        "  # Remove URLs\n",
        "  txt = re.sub(\"(\\w+:\\/\\/\\S+)\", \" \", txt)\n",
        "  # Fix misspelled words\n",
        "  txt = ''.join(''.join(s)[:2] for _, s in itertools.groupby(txt))\n",
        "  # Remove extra spaces\n",
        "  txt = re.sub(r'\\s+', \" \", txt)\n",
        "\n",
        "  return txt"
      ],
      "execution_count": null,
      "outputs": []
    },
    {
      "cell_type": "code",
      "metadata": {
        "colab": {
          "base_uri": "https://localhost:8080/",
          "height": 146
        },
        "id": "7iCAd5n14u38",
        "outputId": "375ae9fa-aaf1-4382-f564-273e1a4c3cdb"
      },
      "source": [
        "preprocess(df_new.loc[0]['Text']) #encoderr-decoder , seq2seq model (LSTMs), 70-10-20, "
      ],
      "execution_count": null,
      "outputs": [
        {
          "output_type": "execute_result",
          "data": {
            "application/vnd.google.colaboratory.intrinsic+json": {
              "type": "string"
            },
            "text/plain": [
              "'trial of labor after cesarean delivery tolac in japan rates and complications. to determine the rates of trial of labor after cesarean delivery tolac and complications in japan. rates of tolac were investigated by facility type and we calculated the rates of maternal and perinatal complications including uterine rupture in tolac. with regard to complications we identified eight cases. conclusion the tolac rate in japan was considerably lower than that reported in other countries despite comparable complication rates. on the other hand concern is widespread about complications in tolac including uterine rupture. national institutes of health nih has conducted a systematic review of these complications and indicated that tolac is a reasonable option for many women and has encouraged medical institutions to facilitate access to tolac. japanese rates of tolac and associated complications remain unclear. many studies from the united states and elsewhere have focused on complications but close attention should be paid to differences in study subjects and obstetrical practices between each country. indeed the incidence of complications in japan could be quite different from those of other countries. the present study aimed to clarify the rates of tolac and associated complications in japan since this information will be essential for making appropriate clinical decisions. maternal and perinatal outcomes were examined as well as maternal complications which included uterine rupture death pulmonary embolism hysterectomy hemorrhage of ml or more and hemorrhage of ml or more. perinatal complications included stillbirth early neonatal death a min apgar score and min apgar score . next we surveyed the data on maternal and perinatal complications. first we calculated the rates of maternal and perinatal complications in tolac and ercd. we did not compare the complication rates between the two groups because our study revealed that women attempting tolac exhibited much different characteristics from women undergoing ercd. second we compared the complication rates between successful and failed vaginal deliveries. a higher proportion of women years or older and those with gestational complications underwent ercd. rates of maternal and perinatal complications with tolac are presented in table . complications among ercd births are also shown in s for reference. the rates of complications according to the outcome of a trial labor are shown in table . successful vaginal deliveries had lower maternal and perinatal complication rates than failed vaginal deliveries though the differences were not statistically significant except for hemorrhage of ml or more . table characteristics of women undergoing tolac or ercd full size table table rates of complications singleton cephalic presentation during the term of pregnancy full size table table complications of tolac according to the outcome of trial labor a full size table table characteristics and outcomes of births with uterine rupture in tolac full size table the rates of uterine rupture with tolac according to labor status are shown in table . in general there was not much difference in the complication rates of tolac between this and previous studies. given the complication rates in addition to the benefits of tolac it could be worthy to consider offering tolac more to women with a previous cesarean section in the facilities equipped appropriately. taking into consideration the complications rates in tolac and the short and long term complications in repeated cesarean sections tolac could be an alternative to ercd. therefore the rate of complications should be fairly accurate while the tolac rate could be overestimated. in conclusion the tolac rate in japan is considerably lower than that in other countries even though complication rates were comparable. trial of labor after cesarean delivery tolac in japan rates and complications. '"
            ]
          },
          "metadata": {},
          "execution_count": 84
        }
      ]
    },
    {
      "cell_type": "code",
      "metadata": {
        "id": "lCY9MWuZ2VUz"
      },
      "source": [
        "df_new['txt_clean'] = df_new['Text'].apply(preprocess)"
      ],
      "execution_count": null,
      "outputs": []
    },
    {
      "cell_type": "code",
      "metadata": {
        "id": "a7dkQWLZQ2tE"
      },
      "source": [
        "df_new = pd.read_csv('adverse_clean.csv')"
      ],
      "execution_count": 22,
      "outputs": []
    },
    {
      "cell_type": "markdown",
      "metadata": {
        "id": "32bfL2333BGe"
      },
      "source": [
        "**fastText**"
      ]
    },
    {
      "cell_type": "code",
      "metadata": {
        "colab": {
          "base_uri": "https://localhost:8080/"
        },
        "id": "0CnQ-QC432ab",
        "outputId": "a6faf470-d26e-47c7-9dea-cb26e56b3f71"
      },
      "source": [
        "%cd ../fastText/"
      ],
      "execution_count": 12,
      "outputs": [
        {
          "output_type": "stream",
          "text": [
            "/content/drive/MyDrive/Colab Notebooks/fastText\n"
          ],
          "name": "stdout"
        }
      ]
    },
    {
      "cell_type": "code",
      "metadata": {
        "colab": {
          "base_uri": "https://localhost:8080/"
        },
        "id": "1Nf64Ulu3XBy",
        "outputId": "0622183f-3ed3-429d-aec9-7536646242f5"
      },
      "source": [
        "# !git clone https://github.com/facebookresearch/fastText.git\n",
        "%cd fastText\n",
        "!sudo pip install ."
      ],
      "execution_count": 17,
      "outputs": [
        {
          "output_type": "stream",
          "text": [
            "[Errno 2] No such file or directory: 'fastText'\n",
            "/content/drive/MyDrive/Colab Notebooks/fastText\n",
            "Processing /content/drive/My Drive/Colab Notebooks/fastText\n",
            "\u001b[33m  DEPRECATION: A future pip version will change local packages to be built in-place without first copying to a temporary directory. We recommend you use --use-feature=in-tree-build to test your packages with this new behavior before it becomes the default.\n",
            "   pip 21.3 will remove support for this functionality. You can find discussion regarding this at https://github.com/pypa/pip/issues/7555.\u001b[0m\n",
            "Collecting pybind11>=2.2\n",
            "  Using cached pybind11-2.7.1-py2.py3-none-any.whl (200 kB)\n",
            "Requirement already satisfied: setuptools>=0.7.0 in /usr/local/lib/python3.7/dist-packages (from fasttext==0.9.2) (57.4.0)\n",
            "Requirement already satisfied: numpy in /usr/local/lib/python3.7/dist-packages (from fasttext==0.9.2) (1.19.5)\n",
            "Building wheels for collected packages: fasttext\n",
            "  Building wheel for fasttext (setup.py) ... \u001b[?25l\u001b[?25hdone\n",
            "  Created wheel for fasttext: filename=fasttext-0.9.2-cp37-cp37m-linux_x86_64.whl size=3082146 sha256=2742fce5a918b962c0d2f6d9b30765180233db3cdf2a5e37b29481daec2f1a94\n",
            "  Stored in directory: /tmp/pip-ephem-wheel-cache-n4b69fce/wheels/79/2d/d8/7c11b7753e2835286ebc5528f4a3a8730504305facf670b4ca\n",
            "Successfully built fasttext\n",
            "Installing collected packages: pybind11, fasttext\n",
            "Successfully installed fasttext-0.9.2 pybind11-2.7.1\n"
          ],
          "name": "stdout"
        }
      ]
    },
    {
      "cell_type": "code",
      "metadata": {
        "id": "mi4PwC2w4TSW"
      },
      "source": [
        "import fasttext\n",
        "import fasttext.util\n",
        "\n",
        "# download model\n",
        "# fasttext.util.download_model('en', if_exists='ignore')  # English\n",
        "try:\n",
        "  ft = fasttext.load_model('sogou_news.bin')\n",
        "except ValueError:\n",
        "  print('Model not found.')"
      ],
      "execution_count": 18,
      "outputs": []
    },
    {
      "cell_type": "code",
      "metadata": {
        "id": "7PvC_MW_GUZz"
      },
      "source": [
        "# reduce model\n",
        "fasttext.util.reduce_model(ft, 100)\n",
        "ft.save_model('dbpedia.bin')"
      ],
      "execution_count": null,
      "outputs": []
    },
    {
      "cell_type": "code",
      "metadata": {
        "id": "QAubGbZGnw6-"
      },
      "source": [
        "df_new['label'] = df_new['txt_clean'].apply(lambda x: 'No_text' if pd.isna(x) else ft.predict(x, k=1)[0][0])"
      ],
      "execution_count": 29,
      "outputs": []
    },
    {
      "cell_type": "code",
      "metadata": {
        "colab": {
          "base_uri": "https://localhost:8080/",
          "height": 339
        },
        "id": "V6y_WQj1FYq1",
        "outputId": "750d2df8-b928-4409-a20d-dd80790ea2a4"
      },
      "source": [
        "plt.hist(df_new['label'])"
      ],
      "execution_count": 32,
      "outputs": [
        {
          "output_type": "execute_result",
          "data": {
            "text/plain": [
              "(array([3113.,    0., 1697.,    0., 1806.,    0.,   40.,    0.,  113.,\n",
              "          56.]),\n",
              " array([0. , 0.5, 1. , 1.5, 2. , 2.5, 3. , 3.5, 4. , 4.5, 5. ]),\n",
              " <a list of 10 Patch objects>)"
            ]
          },
          "metadata": {},
          "execution_count": 32
        },
        {
          "output_type": "display_data",
          "data": {
            "image/png": "[encoded data removed]",
            "text/plain": [
              "<Figure size 432x288 with 1 Axes>"
            ]
          },
          "metadata": {
            "needs_background": "light"
          }
        }
      ]
    },
    {
      "cell_type": "code",
      "metadata": {
        "colab": {
          "base_uri": "https://localhost:8080/",
          "height": 36
        },
        "id": "0Ay_OeITWQju",
        "outputId": "31c9a6a0-2c04-45ef-ef45-c3afc50e16b2"
      },
      "source": [
        "df_new.loc[0]['label']"
      ],
      "execution_count": 43,
      "outputs": [
        {
          "output_type": "execute_result",
          "data": {
            "application/vnd.google.colaboratory.intrinsic+json": {
              "type": "string"
            },
            "text/plain": [
              "'__label__2'"
            ]
          },
          "metadata": {},
          "execution_count": 43
        }
      ]
    },
    {
      "cell_type": "code",
      "metadata": {
        "colab": {
          "base_uri": "https://localhost:8080/",
          "height": 146
        },
        "id": "Ru0DsBV6V3D_",
        "outputId": "ade18b0a-0cef-41c9-ca02-a236aa3a539f"
      },
      "source": [
        "df_new.loc[0]['txt_clean']"
      ],
      "execution_count": 42,
      "outputs": [
        {
          "output_type": "execute_result",
          "data": {
            "application/vnd.google.colaboratory.intrinsic+json": {
              "type": "string"
            },
            "text/plain": [
              "'trial of labor after cesarean delivery tolac in japan rates and complications. to determine the rates of trial of labor after cesarean delivery tolac and complications in japan. rates of tolac were investigated by facility type and we calculated the rates of maternal and perinatal complications including uterine rupture in tolac. with regard to complications we identified eight cases. conclusion the tolac rate in japan was considerably lower than that reported in other countries despite comparable complication rates. on the other hand concern is widespread about complications in tolac including uterine rupture. national institutes of health nih has conducted a systematic review of these complications and indicated that tolac is a reasonable option for many women and has encouraged medical institutions to facilitate access to tolac. japanese rates of tolac and associated complications remain unclear. many studies from the united states and elsewhere have focused on complications but close attention should be paid to differences in study subjects and obstetrical practices between each country. indeed the incidence of complications in japan could be quite different from those of other countries. the present study aimed to clarify the rates of tolac and associated complications in japan since this information will be essential for making appropriate clinical decisions. maternal and perinatal outcomes were examined as well as maternal complications which included uterine rupture death pulmonary embolism hysterectomy hemorrhage of ml or more and hemorrhage of ml or more. perinatal complications included stillbirth early neonatal death a min apgar score and min apgar score . next we surveyed the data on maternal and perinatal complications. first we calculated the rates of maternal and perinatal complications in tolac and ercd. we did not compare the complication rates between the two groups because our study revealed that women attempting tolac exhibited much different characteristics from women undergoing ercd. second we compared the complication rates between successful and failed vaginal deliveries. a higher proportion of women years or older and those with gestational complications underwent ercd. rates of maternal and perinatal complications with tolac are presented in table . complications among ercd births are also shown in s for reference. the rates of complications according to the outcome of a trial labor are shown in table . successful vaginal deliveries had lower maternal and perinatal complication rates than failed vaginal deliveries though the differences were not statistically significant except for hemorrhage of ml or more . table characteristics of women undergoing tolac or ercd full size table table rates of complications singleton cephalic presentation during the term of pregnancy full size table table complications of tolac according to the outcome of trial labor a full size table table characteristics and outcomes of births with uterine rupture in tolac full size table the rates of uterine rupture with tolac according to labor status are shown in table . in general there was not much difference in the complication rates of tolac between this and previous studies. given the complication rates in addition to the benefits of tolac it could be worthy to consider offering tolac more to women with a previous cesarean section in the facilities equipped appropriately. taking into consideration the complications rates in tolac and the short and long term complications in repeated cesarean sections tolac could be an alternative to ercd. therefore the rate of complications should be fairly accurate while the tolac rate could be overestimated. in conclusion the tolac rate in japan is considerably lower than that in other countries even though complication rates were comparable. trial of labor after cesarean delivery tolac in japan rates and complications. '"
            ]
          },
          "metadata": {},
          "execution_count": 42
        }
      ]
    },
    {
      "cell_type": "code",
      "metadata": {
        "colab": {
          "base_uri": "https://localhost:8080/",
          "height": 36
        },
        "id": "FvGrljtfWWFZ",
        "outputId": "f167b7b7-8317-4320-9115-fe556875f5b6"
      },
      "source": [
        "df_new.loc[1]['label']"
      ],
      "execution_count": 44,
      "outputs": [
        {
          "output_type": "execute_result",
          "data": {
            "application/vnd.google.colaboratory.intrinsic+json": {
              "type": "string"
            },
            "text/plain": [
              "'__label__5'"
            ]
          },
          "metadata": {},
          "execution_count": 44
        }
      ]
    },
    {
      "cell_type": "code",
      "metadata": {
        "colab": {
          "base_uri": "https://localhost:8080/",
          "height": 36
        },
        "id": "0vDa0GwiWYl7",
        "outputId": "8cec7671-a3bf-4997-b097-f2da981d3715"
      },
      "source": [
        "df_new.loc[1]['txt_clean']"
      ],
      "execution_count": 45,
      "outputs": [
        {
          "output_type": "execute_result",
          "data": {
            "application/vnd.google.colaboratory.intrinsic+json": {
              "type": "string"
            },
            "text/plain": [
              "'visual symptoms are well recognized as a side effect of sildenafil when used for erectile dysfunction. '"
            ]
          },
          "metadata": {},
          "execution_count": 45
        }
      ]
    },
    {
      "cell_type": "markdown",
      "metadata": {
        "id": "s0PL0ftjK1kr"
      },
      "source": [
        "\n",
        "\n",
        "---\n",
        "\n"
      ]
    },
    {
      "cell_type": "code",
      "metadata": {
        "id": "itiSPTocHGNy"
      },
      "source": [
        "from gensim import corpora, models, similarities"
      ],
      "execution_count": null,
      "outputs": []
    },
    {
      "cell_type": "code",
      "metadata": {
        "id": "Sm9tkayxG0Yu"
      },
      "source": [
        "doc = [\n",
        "    \"Human machine interface for lab abc computer applications\"\n",
        "]"
      ],
      "execution_count": null,
      "outputs": []
    },
    {
      "cell_type": "code",
      "metadata": {
        "id": "gsa6EvgBTWLR"
      },
      "source": [
        "texts = [\n",
        "    [word for word in document.lower().split()] for document in doc\n",
        "]"
      ],
      "execution_count": null,
      "outputs": []
    },
    {
      "cell_type": "code",
      "metadata": {
        "id": "KyFIelF9J3b4"
      },
      "source": [
        "dictionary = corpora.Dictionary(texts)\n",
        "corpus = [dictionary.doc2bow(text) for text in texts]"
      ],
      "execution_count": null,
      "outputs": []
    },
    {
      "cell_type": "code",
      "metadata": {
        "id": "2EIberSJKFs9"
      },
      "source": [
        "lsi = models.LsiModel(corpus, id2word=dictionary, num_topics=2)"
      ],
      "execution_count": null,
      "outputs": []
    },
    {
      "cell_type": "code",
      "metadata": {
        "colab": {
          "base_uri": "https://localhost:8080/"
        },
        "id": "KcWgiGSTHPto",
        "outputId": "d922a94e-0f86-4474-e9c0-526305b12e37"
      },
      "source": [
        "doc = \"Human computer interaction\"\n",
        "vec_bow = dictionary.doc2bow(doc.lower().split())\n",
        "vec_lsi = lsi[vec_bow]  # convert the query to LSI space\n",
        "print(vec_lsi)"
      ],
      "execution_count": null,
      "outputs": [
        {
          "output_type": "stream",
          "text": [
            "[(0, 0.7559289460184545)]\n"
          ],
          "name": "stdout"
        }
      ]
    },
    {
      "cell_type": "code",
      "metadata": {
        "id": "xG78A-aIH7eh"
      },
      "source": [
        "index = similarities.MatrixSimilarity(lsi[corpus])"
      ],
      "execution_count": null,
      "outputs": []
    },
    {
      "cell_type": "code",
      "metadata": {
        "colab": {
          "base_uri": "https://localhost:8080/"
        },
        "id": "Mt346AWFKTKO",
        "outputId": "1e9a00c2-7796-456d-aca8-c33df4fbeb37"
      },
      "source": [
        "sims = index[vec_lsi]\n",
        "print(list(enumerate(sims)))"
      ],
      "execution_count": null,
      "outputs": [
        {
          "output_type": "stream",
          "text": [
            "[(0, 1.0)]\n"
          ],
          "name": "stdout"
        }
      ]
    },
    {
      "cell_type": "markdown",
      "metadata": {
        "id": "2Bj0YtM5eRK9"
      },
      "source": [
        "\n",
        "\n",
        "---\n",
        "\n"
      ]
    },
    {
      "cell_type": "code",
      "metadata": {
        "id": "7iqzV6IGeR1L"
      },
      "source": [
        "import nltk\n",
        "import re"
      ],
      "execution_count": 1,
      "outputs": []
    },
    {
      "cell_type": "code",
      "metadata": {
        "colab": {
          "base_uri": "https://localhost:8080/"
        },
        "id": "v1HIYOnOe4CI",
        "outputId": "0e81ed7f-5633-4af0-d813-ff02fd084fcf"
      },
      "source": [
        "nltk.download('punkt')\n",
        "nltk.download('stopwords')"
      ],
      "execution_count": 2,
      "outputs": [
        {
          "output_type": "stream",
          "text": [
            "[nltk_data] Downloading package punkt to /root/nltk_data...\n",
            "[nltk_data]   Unzipping tokenizers/punkt.zip.\n",
            "[nltk_data] Downloading package stopwords to /root/nltk_data...\n",
            "[nltk_data]   Unzipping corpora/stopwords.zip.\n"
          ],
          "name": "stdout"
        },
        {
          "output_type": "execute_result",
          "data": {
            "text/plain": [
              "True"
            ]
          },
          "metadata": {},
          "execution_count": 2
        }
      ]
    },
    {
      "cell_type": "markdown",
      "metadata": {
        "id": "JmkhKQE4fEOu"
      },
      "source": [
        "**Preprocessing**"
      ]
    },
    {
      "cell_type": "code",
      "metadata": {
        "id": "deFSAg-6jV4e"
      },
      "source": [
        "article_text = \"trial of labor after cesarean delivery tolac in japan rates and complications. to determine the rates of trial of labor after cesarean delivery tolac and complications in japan. rates of tolac were investigated by facility type and we calculated the rates of maternal and perinatal complications including uterine rupture in tolac. with regard to complications we identified eight cases. conclusion the tolac rate in japan was considerably lower than that reported in other countries despite comparable complication rates. on the other hand concern is widespread about complications in tolac including uterine rupture. national institutes of health nih has conducted a systematic review of these complications and indicated that tolac is a reasonable option for many women and has encouraged medical institutions to facilitate access to tolac. japanese rates of tolac and associated complications remain unclear. many studies from the united states and elsewhere have focused on complications but close attention should be paid to differences in study subjects and obstetrical practices between each country. indeed the incidence of complications in japan could be quite different from those of other countries. the present study aimed to clarify the rates of tolac and associated complications in japan since this information will be essential for making appropriate clinical decisions. maternal and perinatal outcomes were examined as well as maternal complications which included uterine rupture death pulmonary embolism hysterectomy hemorrhage of ml or more and hemorrhage of ml or more. perinatal complications included stillbirth early neonatal death a min apgar score and min apgar score . next we surveyed the data on maternal and perinatal complications. first we calculated the rates of maternal and perinatal complications in tolac and ercd. we did not compare the complication rates between the two groups because our study revealed that women attempting tolac exhibited much different characteristics from women undergoing ercd. second we compared the complication rates between successful and failed vaginal deliveries. a higher proportion of women years or older and those with gestational complications underwent ercd. rates of maternal and perinatal complications with tolac are presented in table . complications among ercd births are also shown in s for reference. the rates of complications according to the outcome of a trial labor are shown in table . successful vaginal deliveries had lower maternal and perinatal complication rates than failed vaginal deliveries though the differences were not statistically significant except for hemorrhage of ml or more . table characteristics of women undergoing tolac or ercd full size table table rates of complications singleton cephalic presentation during the term of pregnancy full size table table complications of tolac according to the outcome of trial labor a full size table table characteristics and outcomes of births with uterine rupture in tolac full size table the rates of uterine rupture with tolac according to labor status are shown in table . in general there was not much difference in the complication rates of tolac between this and previous studies. given the complication rates in addition to the benefits of tolac it could be worthy to consider offering tolac more to women with a previous cesarean section in the facilities equipped appropriately. taking into consideration the complications rates in tolac and the short and long term complications in repeated cesarean sections tolac could be an alternative to ercd. therefore the rate of complications should be fairly accurate while the tolac rate could be overestimated. in conclusion the tolac rate in japan is considerably lower than that in other countries even though complication rates were comparable. trial of labor after cesarean delivery tolac in japan rates and complications.\""
      ],
      "execution_count": null,
      "outputs": []
    },
    {
      "cell_type": "code",
      "metadata": {
        "id": "isj3QOl7ea6X"
      },
      "source": [
        "def process(t):\n",
        "  # Cleaing the text\n",
        "  processed_article = t.lower()\n",
        "  processed_article = re.sub('[^a-zA-Z]', ' ', processed_article)\n",
        "  processed_article = re.sub(r'\\s+', ' ', processed_article)\n",
        "\n",
        "  # Preparing the dataset\n",
        "  all_sentences = nltk.sent_tokenize(processed_article)\n",
        "\n",
        "  all_words = [nltk.word_tokenize(sent) for sent in all_sentences]\n",
        "\n",
        "  # Removing Stop Words\n",
        "  from nltk.corpus import stopwords\n",
        "  for i in range(len(all_words)):\n",
        "      all_words[i] = [w for w in all_words[i] if w not in stopwords.words('english')]\n",
        "\n",
        "  return all_words"
      ],
      "execution_count": 3,
      "outputs": []
    },
    {
      "cell_type": "code",
      "metadata": {
        "id": "g5Xk2BtdzOdD"
      },
      "source": [
        "def tidy_sentence(sentence, vocabulary):\n",
        "    return [word for word in simple_preprocess(sentence) if word in vocabulary] "
      ],
      "execution_count": null,
      "outputs": []
    },
    {
      "cell_type": "markdown",
      "metadata": {
        "id": "422X4xHWfcw1"
      },
      "source": [
        "**Creating Word2Vec Model**"
      ]
    },
    {
      "cell_type": "code",
      "metadata": {
        "id": "75-yZ2ERfNGA"
      },
      "source": [
        "from gensim.models import Word2Vec\n",
        "\n",
        "word2vec = Word2Vec(process(article_text), min_count=2)"
      ],
      "execution_count": 4,
      "outputs": []
    },
    {
      "cell_type": "code",
      "metadata": {
        "colab": {
          "base_uri": "https://localhost:8080/",
          "height": 489
        },
        "id": "75hxieSWfu2T",
        "outputId": "b508bc50-cd2a-4b0e-83da-ee80809e0a2f"
      },
      "source": [
        "word2vec.wv.similarity(article_text, article_text)"
      ],
      "execution_count": 6,
      "outputs": [
        {
          "output_type": "error",
          "ename": "KeyError",
          "evalue": "ignored",
          "traceback": [
            "\u001b[0;31m---------------------------------------------------------------------------\u001b[0m",
            "\u001b[0;31mKeyError\u001b[0m                                  Traceback (most recent call last)",
            "\u001b[0;32m<ipython-input-6-fa32595c35d4>\u001b[0m in \u001b[0;36m<module>\u001b[0;34m()\u001b[0m\n\u001b[0;32m----> 1\u001b[0;31m \u001b[0mword2vec\u001b[0m\u001b[0;34m.\u001b[0m\u001b[0mwv\u001b[0m\u001b[0;34m.\u001b[0m\u001b[0msimilarity\u001b[0m\u001b[0;34m(\u001b[0m\u001b[0marticle_text\u001b[0m\u001b[0;34m,\u001b[0m \u001b[0marticle_text\u001b[0m\u001b[0;34m)\u001b[0m\u001b[0;34m\u001b[0m\u001b[0;34m\u001b[0m\u001b[0m\n\u001b[0m",
            "\u001b[0;32m/usr/local/lib/python3.7/dist-packages/gensim/models/keyedvectors.py\u001b[0m in \u001b[0;36msimilarity\u001b[0;34m(self, w1, w2)\u001b[0m\n\u001b[1;32m    990\u001b[0m \u001b[0;34m\u001b[0m\u001b[0m\n\u001b[1;32m    991\u001b[0m         \"\"\"\n\u001b[0;32m--> 992\u001b[0;31m         \u001b[0;32mreturn\u001b[0m \u001b[0mdot\u001b[0m\u001b[0;34m(\u001b[0m\u001b[0mmatutils\u001b[0m\u001b[0;34m.\u001b[0m\u001b[0munitvec\u001b[0m\u001b[0;34m(\u001b[0m\u001b[0mself\u001b[0m\u001b[0;34m[\u001b[0m\u001b[0mw1\u001b[0m\u001b[0;34m]\u001b[0m\u001b[0;34m)\u001b[0m\u001b[0;34m,\u001b[0m \u001b[0mmatutils\u001b[0m\u001b[0;34m.\u001b[0m\u001b[0munitvec\u001b[0m\u001b[0;34m(\u001b[0m\u001b[0mself\u001b[0m\u001b[0;34m[\u001b[0m\u001b[0mw2\u001b[0m\u001b[0;34m]\u001b[0m\u001b[0;34m)\u001b[0m\u001b[0;34m)\u001b[0m\u001b[0;34m\u001b[0m\u001b[0;34m\u001b[0m\u001b[0m\n\u001b[0m\u001b[1;32m    993\u001b[0m \u001b[0;34m\u001b[0m\u001b[0m\n\u001b[1;32m    994\u001b[0m     \u001b[0;32mdef\u001b[0m \u001b[0mn_similarity\u001b[0m\u001b[0;34m(\u001b[0m\u001b[0mself\u001b[0m\u001b[0;34m,\u001b[0m \u001b[0mws1\u001b[0m\u001b[0;34m,\u001b[0m \u001b[0mws2\u001b[0m\u001b[0;34m)\u001b[0m\u001b[0;34m:\u001b[0m\u001b[0;34m\u001b[0m\u001b[0;34m\u001b[0m\u001b[0m\n",
            "\u001b[0;32m/usr/local/lib/python3.7/dist-packages/gensim/models/keyedvectors.py\u001b[0m in \u001b[0;36m__getitem__\u001b[0;34m(self, entities)\u001b[0m\n\u001b[1;32m    335\u001b[0m         \u001b[0;32mif\u001b[0m \u001b[0misinstance\u001b[0m\u001b[0;34m(\u001b[0m\u001b[0mentities\u001b[0m\u001b[0;34m,\u001b[0m \u001b[0mstring_types\u001b[0m\u001b[0;34m)\u001b[0m\u001b[0;34m:\u001b[0m\u001b[0;34m\u001b[0m\u001b[0;34m\u001b[0m\u001b[0m\n\u001b[1;32m    336\u001b[0m             \u001b[0;31m# allow calls like trained_model['office'], as a shorthand for trained_model[['office']]\u001b[0m\u001b[0;34m\u001b[0m\u001b[0;34m\u001b[0m\u001b[0;34m\u001b[0m\u001b[0m\n\u001b[0;32m--> 337\u001b[0;31m             \u001b[0;32mreturn\u001b[0m \u001b[0mself\u001b[0m\u001b[0;34m.\u001b[0m\u001b[0mget_vector\u001b[0m\u001b[0;34m(\u001b[0m\u001b[0mentities\u001b[0m\u001b[0;34m)\u001b[0m\u001b[0;34m\u001b[0m\u001b[0;34m\u001b[0m\u001b[0m\n\u001b[0m\u001b[1;32m    338\u001b[0m \u001b[0;34m\u001b[0m\u001b[0m\n\u001b[1;32m    339\u001b[0m         \u001b[0;32mreturn\u001b[0m \u001b[0mvstack\u001b[0m\u001b[0;34m(\u001b[0m\u001b[0;34m[\u001b[0m\u001b[0mself\u001b[0m\u001b[0;34m.\u001b[0m\u001b[0mget_vector\u001b[0m\u001b[0;34m(\u001b[0m\u001b[0mentity\u001b[0m\u001b[0;34m)\u001b[0m \u001b[0;32mfor\u001b[0m \u001b[0mentity\u001b[0m \u001b[0;32min\u001b[0m \u001b[0mentities\u001b[0m\u001b[0;34m]\u001b[0m\u001b[0;34m)\u001b[0m\u001b[0;34m\u001b[0m\u001b[0;34m\u001b[0m\u001b[0m\n",
            "\u001b[0;32m/usr/local/lib/python3.7/dist-packages/gensim/models/keyedvectors.py\u001b[0m in \u001b[0;36mget_vector\u001b[0;34m(self, word)\u001b[0m\n\u001b[1;32m    453\u001b[0m \u001b[0;34m\u001b[0m\u001b[0m\n\u001b[1;32m    454\u001b[0m     \u001b[0;32mdef\u001b[0m \u001b[0mget_vector\u001b[0m\u001b[0;34m(\u001b[0m\u001b[0mself\u001b[0m\u001b[0;34m,\u001b[0m \u001b[0mword\u001b[0m\u001b[0;34m)\u001b[0m\u001b[0;34m:\u001b[0m\u001b[0;34m\u001b[0m\u001b[0;34m\u001b[0m\u001b[0m\n\u001b[0;32m--> 455\u001b[0;31m         \u001b[0;32mreturn\u001b[0m \u001b[0mself\u001b[0m\u001b[0;34m.\u001b[0m\u001b[0mword_vec\u001b[0m\u001b[0;34m(\u001b[0m\u001b[0mword\u001b[0m\u001b[0;34m)\u001b[0m\u001b[0;34m\u001b[0m\u001b[0;34m\u001b[0m\u001b[0m\n\u001b[0m\u001b[1;32m    456\u001b[0m \u001b[0;34m\u001b[0m\u001b[0m\n\u001b[1;32m    457\u001b[0m     \u001b[0;32mdef\u001b[0m \u001b[0mwords_closer_than\u001b[0m\u001b[0;34m(\u001b[0m\u001b[0mself\u001b[0m\u001b[0;34m,\u001b[0m \u001b[0mw1\u001b[0m\u001b[0;34m,\u001b[0m \u001b[0mw2\u001b[0m\u001b[0;34m)\u001b[0m\u001b[0;34m:\u001b[0m\u001b[0;34m\u001b[0m\u001b[0;34m\u001b[0m\u001b[0m\n",
            "\u001b[0;32m/usr/local/lib/python3.7/dist-packages/gensim/models/keyedvectors.py\u001b[0m in \u001b[0;36mword_vec\u001b[0;34m(self, word, use_norm)\u001b[0m\n\u001b[1;32m    450\u001b[0m             \u001b[0;32mreturn\u001b[0m \u001b[0mresult\u001b[0m\u001b[0;34m\u001b[0m\u001b[0;34m\u001b[0m\u001b[0m\n\u001b[1;32m    451\u001b[0m         \u001b[0;32melse\u001b[0m\u001b[0;34m:\u001b[0m\u001b[0;34m\u001b[0m\u001b[0;34m\u001b[0m\u001b[0m\n\u001b[0;32m--> 452\u001b[0;31m             \u001b[0;32mraise\u001b[0m \u001b[0mKeyError\u001b[0m\u001b[0;34m(\u001b[0m\u001b[0;34m\"word '%s' not in vocabulary\"\u001b[0m \u001b[0;34m%\u001b[0m \u001b[0mword\u001b[0m\u001b[0;34m)\u001b[0m\u001b[0;34m\u001b[0m\u001b[0;34m\u001b[0m\u001b[0m\n\u001b[0m\u001b[1;32m    453\u001b[0m \u001b[0;34m\u001b[0m\u001b[0m\n\u001b[1;32m    454\u001b[0m     \u001b[0;32mdef\u001b[0m \u001b[0mget_vector\u001b[0m\u001b[0;34m(\u001b[0m\u001b[0mself\u001b[0m\u001b[0;34m,\u001b[0m \u001b[0mword\u001b[0m\u001b[0;34m)\u001b[0m\u001b[0;34m:\u001b[0m\u001b[0;34m\u001b[0m\u001b[0;34m\u001b[0m\u001b[0m\n",
            "\u001b[0;31mKeyError\u001b[0m: \"word 'trial of labor after cesarean delivery tolac in japan rates and complications. to determine the rates of trial of labor after cesarean delivery tolac and complications in japan. rates of tolac were investigated by facility type and we calculated the rates of maternal and perinatal complications including uterine rupture in tolac. with regard to complications we identified eight cases. conclusion the tolac rate in japan was considerably lower than that reported in other countries despite comparable complication rates. on the other hand concern is widespread about complications in tolac including uterine rupture. national institutes of health nih has conducted a systematic review of these complications and indicated that tolac is a reasonable option for many women and has encouraged medical institutions to facilitate access to tolac. japanese rates of tolac and associated complications remain unclear. many studies from the united states and elsewhere have focused on complications but close attention should be paid to differences in study subjects and obstetrical practices between each country. indeed the incidence of complications in japan could be quite different from those of other countries. the present study aimed to clarify the rates of tolac and associated complications in japan since this information will be essential for making appropriate clinical decisions. maternal and perinatal outcomes were examined as well as maternal complications w..."
          ]
        }
      ]
    },
    {
      "cell_type": "markdown",
      "metadata": {
        "id": "4u_m-Dq3jJe9"
      },
      "source": [
        "\n",
        "\n",
        "---\n",
        "\n"
      ]
    },
    {
      "cell_type": "code",
      "metadata": {
        "id": "4emt9rBKjOJD"
      },
      "source": [
        "from gensim.models import Doc2Vec"
      ],
      "execution_count": 46,
      "outputs": []
    },
    {
      "cell_type": "code",
      "metadata": {
        "id": "K1AimyLUjXWS"
      },
      "source": [
        "article_text = \"trial of labor after cesarean delivery tolac in japan rates and complications. to determine the rates of trial of labor after cesarean delivery tolac and complications in japan. rates of tolac were investigated by facility type and we calculated the rates of maternal and perinatal complications including uterine rupture in tolac. with regard to complications we identified eight cases. conclusion the tolac rate in japan was considerably lower than that reported in other countries despite comparable complication rates. on the other hand concern is widespread about complications in tolac including uterine rupture. national institutes of health nih has conducted a systematic review of these complications and indicated that tolac is a reasonable option for many women and has encouraged medical institutions to facilitate access to tolac. japanese rates of tolac and associated complications remain unclear. many studies from the united states and elsewhere have focused on complications but close attention should be paid to differences in study subjects and obstetrical practices between each country. indeed the incidence of complications in japan could be quite different from those of other countries. the present study aimed to clarify the rates of tolac and associated complications in japan since this information will be essential for making appropriate clinical decisions. maternal and perinatal outcomes were examined as well as maternal complications which included uterine rupture death pulmonary embolism hysterectomy hemorrhage of ml or more and hemorrhage of ml or more. perinatal complications included stillbirth early neonatal death a min apgar score and min apgar score . next we surveyed the data on maternal and perinatal complications. first we calculated the rates of maternal and perinatal complications in tolac and ercd. we did not compare the complication rates between the two groups because our study revealed that women attempting tolac exhibited much different characteristics from women undergoing ercd. second we compared the complication rates between successful and failed vaginal deliveries. a higher proportion of women years or older and those with gestational complications underwent ercd. rates of maternal and perinatal complications with tolac are presented in table . complications among ercd births are also shown in s for reference. the rates of complications according to the outcome of a trial labor are shown in table . successful vaginal deliveries had lower maternal and perinatal complication rates than failed vaginal deliveries though the differences were not statistically significant except for hemorrhage of ml or more . table characteristics of women undergoing tolac or ercd full size table table rates of complications singleton cephalic presentation during the term of pregnancy full size table table complications of tolac according to the outcome of trial labor a full size table table characteristics and outcomes of births with uterine rupture in tolac full size table the rates of uterine rupture with tolac according to labor status are shown in table . in general there was not much difference in the complication rates of tolac between this and previous studies. given the complication rates in addition to the benefits of tolac it could be worthy to consider offering tolac more to women with a previous cesarean section in the facilities equipped appropriately. taking into consideration the complications rates in tolac and the short and long term complications in repeated cesarean sections tolac could be an alternative to ercd. therefore the rate of complications should be fairly accurate while the tolac rate could be overestimated. in conclusion the tolac rate in japan is considerably lower than that in other countries even though complication rates were comparable. trial of labor after cesarean delivery tolac in japan rates and complications.\".split('.')"
      ],
      "execution_count": 51,
      "outputs": []
    },
    {
      "cell_type": "code",
      "metadata": {
        "colab": {
          "base_uri": "https://localhost:8080/",
          "height": 171
        },
        "id": "WFhqCyuRjKV1",
        "outputId": "9a1b1f6f-64ad-426d-93db-695f87261144"
      },
      "source": [
        "Doc2Vec.similarity_unseen_docs(article_text, article_text)"
      ],
      "execution_count": 48,
      "outputs": [
        {
          "output_type": "error",
          "ename": "AttributeError",
          "evalue": "ignored",
          "traceback": [
            "\u001b[0;31m---------------------------------------------------------------------------\u001b[0m",
            "\u001b[0;31mAttributeError\u001b[0m                            Traceback (most recent call last)",
            "\u001b[0;32m<ipython-input-48-df11fa0384ba>\u001b[0m in \u001b[0;36m<module>\u001b[0;34m()\u001b[0m\n\u001b[0;32m----> 1\u001b[0;31m \u001b[0mDoc2Vec\u001b[0m\u001b[0;34m.\u001b[0m\u001b[0msimilarity_unseen_docs\u001b[0m\u001b[0;34m(\u001b[0m\u001b[0marticle_text\u001b[0m\u001b[0;34m,\u001b[0m \u001b[0marticle_text\u001b[0m\u001b[0;34m)\u001b[0m\u001b[0;34m\u001b[0m\u001b[0;34m\u001b[0m\u001b[0m\n\u001b[0m",
            "\u001b[0;31mAttributeError\u001b[0m: type object 'Doc2Vec' has no attribute 'similarity_unseen_docs'"
          ]
        }
      ]
    },
    {
      "cell_type": "markdown",
      "metadata": {
        "id": "tOMn_lG1mJkD"
      },
      "source": [
        "\n",
        "\n",
        "---\n",
        "\n"
      ]
    },
    {
      "cell_type": "code",
      "metadata": {
        "id": "UMrq-WE5mKVo"
      },
      "source": [
        "import pandas as pd\n",
        "import re\n",
        "from gensim.models.doc2vec import TaggedDocument\n",
        "from gensim.models import Doc2Vec"
      ],
      "execution_count": 49,
      "outputs": []
    },
    {
      "cell_type": "code",
      "metadata": {
        "id": "r7wvVSgkmTn0"
      },
      "source": [
        "labeled_questions=[]\n",
        "labeled_questions.append(TaggedDocument(article_text, '1'))\n",
        "labeled_questions.append(TaggedDocument(article_text, '2'))"
      ],
      "execution_count": 55,
      "outputs": []
    },
    {
      "cell_type": "code",
      "metadata": {
        "id": "XpVpapM9mwP3"
      },
      "source": [
        "model = Doc2Vec(dm = 1, min_count=1, window=10, vector_size=150, sample=1e-4, negative=10)\n",
        "model.build_vocab(labeled_questions)"
      ],
      "execution_count": 59,
      "outputs": []
    },
    {
      "cell_type": "code",
      "metadata": {
        "colab": {
          "base_uri": "https://localhost:8080/"
        },
        "id": "HdjoOc2mm6zt",
        "outputId": "57162f41-4e0a-4edc-9d0b-1d634121abb8"
      },
      "source": [
        "for epoch in range(20):\n",
        "    model.train(labeled_questions,epochs=model.iter,total_examples=model.corpus_count)\n",
        "    print(\"Epoch #{} is complete.\".format(epoch+1))"
      ],
      "execution_count": 60,
      "outputs": [
        {
          "output_type": "stream",
          "text": [
            "Epoch #1 is complete.\n",
            "Epoch #2 is complete.\n",
            "Epoch #3 is complete.\n",
            "Epoch #4 is complete.\n",
            "Epoch #5 is complete.\n",
            "Epoch #6 is complete.\n",
            "Epoch #7 is complete.\n",
            "Epoch #8 is complete.\n",
            "Epoch #9 is complete.\n",
            "Epoch #10 is complete.\n",
            "Epoch #11 is complete.\n",
            "Epoch #12 is complete.\n",
            "Epoch #13 is complete.\n",
            "Epoch #14 is complete.\n",
            "Epoch #15 is complete.\n",
            "Epoch #16 is complete.\n",
            "Epoch #17 is complete.\n",
            "Epoch #18 is complete.\n",
            "Epoch #19 is complete.\n",
            "Epoch #20 is complete.\n"
          ],
          "name": "stdout"
        },
        {
          "output_type": "stream",
          "text": [
            "/usr/local/lib/python3.7/dist-packages/ipykernel_launcher.py:2: DeprecationWarning: Call to deprecated `iter` (Attribute will be removed in 4.0.0, use self.epochs instead).\n",
            "  \n"
          ],
          "name": "stderr"
        }
      ]
    },
    {
      "cell_type": "code",
      "metadata": {
        "colab": {
          "base_uri": "https://localhost:8080/"
        },
        "id": "bhI8ospHm_6N",
        "outputId": "0631a2c4-d005-4223-9b33-d60775eac428"
      },
      "source": [
        "model.n_similarity(article_text, article_text)"
      ],
      "execution_count": 61,
      "outputs": [
        {
          "output_type": "stream",
          "text": [
            "/usr/local/lib/python3.7/dist-packages/ipykernel_launcher.py:1: DeprecationWarning: Call to deprecated `n_similarity` (Method will be removed in 4.0.0, use self.wv.n_similarity() instead).\n",
            "  \"\"\"Entry point for launching an IPython kernel.\n"
          ],
          "name": "stderr"
        },
        {
          "output_type": "execute_result",
          "data": {
            "text/plain": [
              "0.99999994"
            ]
          },
          "metadata": {},
          "execution_count": 61
        }
      ]
    },
    {
      "cell_type": "markdown",
      "metadata": {
        "id": "IT98KSBFzt9A"
      },
      "source": [
        "\n",
        "\n",
        "---\n",
        "\n"
      ]
    },
    {
      "cell_type": "markdown",
      "metadata": {
        "id": "xAsGtiId1NE4"
      },
      "source": [
        "### **Cosine similarity:**"
      ]
    },
    {
      "cell_type": "code",
      "metadata": {
        "id": "vfng-C7j0Gjp"
      },
      "source": [
        "df_sim = pd.read_csv('compare.csv')"
      ],
      "execution_count": 62,
      "outputs": []
    },
    {
      "cell_type": "code",
      "metadata": {
        "colab": {
          "base_uri": "https://localhost:8080/",
          "height": 739
        },
        "id": "lM71mvEH0MFv",
        "outputId": "0c61406e-2dd8-427a-f2f0-4d7602f7274a"
      },
      "source": [
        "df2 = df_sim[df_sim['isPresent'] == 1].sort_values('Similarity')\n",
        "df2"
      ],
      "execution_count": 73,
      "outputs": [
        {
          "output_type": "execute_result",
          "data": {
            "text/html": [
              "<div>\n",
              "<style scoped>\n",
              "    .dataframe tbody tr th:only-of-type {\n",
              "        vertical-align: middle;\n",
              "    }\n",
              "\n",
              "    .dataframe tbody tr th {\n",
              "        vertical-align: top;\n",
              "    }\n",
              "\n",
              "    .dataframe thead th {\n",
              "        text-align: right;\n",
              "    }\n",
              "</style>\n",
              "<table border=\"1\" class=\"dataframe\">\n",
              "  <thead>\n",
              "    <tr style=\"text-align: right;\">\n",
              "      <th></th>\n",
              "      <th>ItemID</th>\n",
              "      <th>isPresent</th>\n",
              "      <th>Similarity</th>\n",
              "    </tr>\n",
              "  </thead>\n",
              "  <tbody>\n",
              "    <tr>\n",
              "      <th>4240</th>\n",
              "      <td>8637008</td>\n",
              "      <td>1</td>\n",
              "      <td>0.094984</td>\n",
              "    </tr>\n",
              "    <tr>\n",
              "      <th>4389</th>\n",
              "      <td>6047811</td>\n",
              "      <td>1</td>\n",
              "      <td>0.113694</td>\n",
              "    </tr>\n",
              "    <tr>\n",
              "      <th>2009</th>\n",
              "      <td>7367353</td>\n",
              "      <td>1</td>\n",
              "      <td>0.115219</td>\n",
              "    </tr>\n",
              "    <tr>\n",
              "      <th>6141</th>\n",
              "      <td>4733917</td>\n",
              "      <td>1</td>\n",
              "      <td>0.133247</td>\n",
              "    </tr>\n",
              "    <tr>\n",
              "      <th>3435</th>\n",
              "      <td>6276171</td>\n",
              "      <td>1</td>\n",
              "      <td>0.157692</td>\n",
              "    </tr>\n",
              "    <tr>\n",
              "      <th>4071</th>\n",
              "      <td>5679917</td>\n",
              "      <td>1</td>\n",
              "      <td>0.162422</td>\n",
              "    </tr>\n",
              "    <tr>\n",
              "      <th>1452</th>\n",
              "      <td>6162507</td>\n",
              "      <td>1</td>\n",
              "      <td>0.172320</td>\n",
              "    </tr>\n",
              "    <tr>\n",
              "      <th>4659</th>\n",
              "      <td>7712561</td>\n",
              "      <td>1</td>\n",
              "      <td>0.182106</td>\n",
              "    </tr>\n",
              "    <tr>\n",
              "      <th>1549</th>\n",
              "      <td>6964110</td>\n",
              "      <td>1</td>\n",
              "      <td>0.193175</td>\n",
              "    </tr>\n",
              "    <tr>\n",
              "      <th>2975</th>\n",
              "      <td>8327012</td>\n",
              "      <td>1</td>\n",
              "      <td>0.245837</td>\n",
              "    </tr>\n",
              "    <tr>\n",
              "      <th>3640</th>\n",
              "      <td>4840807</td>\n",
              "      <td>1</td>\n",
              "      <td>0.251736</td>\n",
              "    </tr>\n",
              "    <tr>\n",
              "      <th>1869</th>\n",
              "      <td>8636894</td>\n",
              "      <td>1</td>\n",
              "      <td>0.253800</td>\n",
              "    </tr>\n",
              "    <tr>\n",
              "      <th>3851</th>\n",
              "      <td>8793411</td>\n",
              "      <td>1</td>\n",
              "      <td>0.271920</td>\n",
              "    </tr>\n",
              "    <tr>\n",
              "      <th>1699</th>\n",
              "      <td>4735160</td>\n",
              "      <td>1</td>\n",
              "      <td>0.278491</td>\n",
              "    </tr>\n",
              "    <tr>\n",
              "      <th>3093</th>\n",
              "      <td>6516599</td>\n",
              "      <td>1</td>\n",
              "      <td>0.305666</td>\n",
              "    </tr>\n",
              "    <tr>\n",
              "      <th>1809</th>\n",
              "      <td>4310332</td>\n",
              "      <td>1</td>\n",
              "      <td>0.345647</td>\n",
              "    </tr>\n",
              "    <tr>\n",
              "      <th>6092</th>\n",
              "      <td>4706970</td>\n",
              "      <td>1</td>\n",
              "      <td>0.398761</td>\n",
              "    </tr>\n",
              "    <tr>\n",
              "      <th>3079</th>\n",
              "      <td>7168555</td>\n",
              "      <td>1</td>\n",
              "      <td>0.408038</td>\n",
              "    </tr>\n",
              "    <tr>\n",
              "      <th>1050</th>\n",
              "      <td>4601415</td>\n",
              "      <td>1</td>\n",
              "      <td>0.463921</td>\n",
              "    </tr>\n",
              "    <tr>\n",
              "      <th>134</th>\n",
              "      <td>5011742</td>\n",
              "      <td>1</td>\n",
              "      <td>0.502529</td>\n",
              "    </tr>\n",
              "    <tr>\n",
              "      <th>3015</th>\n",
              "      <td>6647222</td>\n",
              "      <td>1</td>\n",
              "      <td>0.735404</td>\n",
              "    </tr>\n",
              "    <tr>\n",
              "      <th>6027</th>\n",
              "      <td>4669061</td>\n",
              "      <td>1</td>\n",
              "      <td>0.974400</td>\n",
              "    </tr>\n",
              "  </tbody>\n",
              "</table>\n",
              "</div>"
            ],
            "text/plain": [
              "       ItemID  isPresent  Similarity\n",
              "4240  8637008          1    0.094984\n",
              "4389  6047811          1    0.113694\n",
              "2009  7367353          1    0.115219\n",
              "6141  4733917          1    0.133247\n",
              "3435  6276171          1    0.157692\n",
              "4071  5679917          1    0.162422\n",
              "1452  6162507          1    0.172320\n",
              "4659  7712561          1    0.182106\n",
              "1549  6964110          1    0.193175\n",
              "2975  8327012          1    0.245837\n",
              "3640  4840807          1    0.251736\n",
              "1869  8636894          1    0.253800\n",
              "3851  8793411          1    0.271920\n",
              "1699  4735160          1    0.278491\n",
              "3093  6516599          1    0.305666\n",
              "1809  4310332          1    0.345647\n",
              "6092  4706970          1    0.398761\n",
              "3079  7168555          1    0.408038\n",
              "1050  4601415          1    0.463921\n",
              "134   5011742          1    0.502529\n",
              "3015  6647222          1    0.735404\n",
              "6027  4669061          1    0.974400"
            ]
          },
          "metadata": {},
          "execution_count": 73
        }
      ]
    },
    {
      "cell_type": "code",
      "metadata": {
        "colab": {
          "base_uri": "https://localhost:8080/",
          "height": 357
        },
        "id": "xR1KJFT80dQH",
        "outputId": "165efbda-53b4-4ca6-b3c1-8a15369d8a48"
      },
      "source": [
        "plt.hist(df2['Similarity'])"
      ],
      "execution_count": 74,
      "outputs": [
        {
          "output_type": "execute_result",
          "data": {
            "text/plain": [
              "(array([8., 4., 4., 2., 2., 0., 0., 1., 0., 1.]),\n",
              " array([0.09498365, 0.18292524, 0.27086682, 0.3588084 , 0.44674999,\n",
              "        0.53469158, 0.62263316, 0.71057475, 0.79851633, 0.88645792,\n",
              "        0.9743995 ]),\n",
              " <a list of 10 Patch objects>)"
            ]
          },
          "metadata": {},
          "execution_count": 74
        },
        {
          "output_type": "display_data",
          "data": {
            "image/png": "[encoded data removed]",
            "text/plain": [
              "<Figure size 432x288 with 1 Axes>"
            ]
          },
          "metadata": {
            "needs_background": "light"
          }
        }
      ]
    }
  ]
}