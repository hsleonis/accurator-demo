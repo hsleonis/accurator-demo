{
  "nbformat": 4,
  "nbformat_minor": 0,
  "metadata": {
    "colab": {
      "name": "Seq2Seq.ipynb",
      "provenance": []
    },
    "kernelspec": {
      "name": "python3",
      "display_name": "Python 3"
    },
    "language_info": {
      "name": "python"
    }
  },
  "cells": [
    {
      "cell_type": "code",
      "metadata": {
        "colab": {
          "base_uri": "https://localhost:8080/"
        },
        "id": "mRmTmYstdUZM",
        "outputId": "ffa87ada-beaf-42eb-8cab-ffa71e37d30f"
      },
      "source": [
        "import numpy as np\n",
        "import pandas as pd \n",
        "import re\n",
        "from keras.preprocessing.text import Tokenizer \n",
        "from nltk import download\n",
        "download('stopwords')\n",
        "download('wordnet')\n",
        "from nltk.corpus import stopwords\n",
        "import tensorflow\n",
        "from tensorflow.keras.layers import Input, LSTM, Embedding, Dense, Concatenate, TimeDistributed, Attention\n",
        "from tensorflow.keras.models import Model\n",
        "from tensorflow.keras.callbacks import EarlyStopping, ModelCheckpoint\n",
        "from tensorflow.keras.optimizers import Adam\n",
        "import warnings\n",
        "from gensim.models.fasttext import FastText\n",
        "\n",
        "pd.set_option(\"display.max_colwidth\", -1)\n",
        "warnings.filterwarnings(\"ignore\")"
      ],
      "execution_count": null,
      "outputs": [
        {
          "output_type": "stream",
          "name": "stdout",
          "text": [
            "[nltk_data] Downloading package stopwords to /root/nltk_data...\n",
            "[nltk_data]   Package stopwords is already up-to-date!\n",
            "[nltk_data] Downloading package wordnet to /root/nltk_data...\n",
            "[nltk_data]   Package wordnet is already up-to-date!\n"
          ]
        }
      ]
    },
    {
      "cell_type": "code",
      "metadata": {
        "colab": {
          "base_uri": "https://localhost:8080/"
        },
        "id": "rN9PYaCZdKen",
        "outputId": "6b74c6f9-efb2-4c33-96d7-c11c4a45632f"
      },
      "source": [
        "%cd /content/drive/MyDrive/Colab Notebooks/data"
      ],
      "execution_count": null,
      "outputs": [
        {
          "output_type": "stream",
          "name": "stdout",
          "text": [
            "/content/drive/MyDrive/Colab Notebooks/data\n"
          ]
        }
      ]
    },
    {
      "cell_type": "code",
      "metadata": {
        "id": "evKvuB_MdTNw"
      },
      "source": [
        "data=pd.read_csv(\"abstract_summary.csv\")"
      ],
      "execution_count": null,
      "outputs": []
    },
    {
      "cell_type": "code",
      "metadata": {
        "id": "ZBZ92dDQdj4W"
      },
      "source": [
        "data.dropna(axis=0,inplace=True) #dropping na"
      ],
      "execution_count": null,
      "outputs": []
    },
    {
      "cell_type": "code",
      "metadata": {
        "id": "RZzq8g43dmcD"
      },
      "source": [
        "all_stopwords = stopwords.words('english')\n",
        "\n",
        "def text_cleaner(text):\n",
        "    newString = text.lower()\n",
        "    newString = re.sub(r'\\([^)]*\\)', '', newString)\n",
        "    newString = re.sub('\"','', newString)\n",
        "    newString = re.sub(\"[^a-zA-Z]\", \" \", newString)\n",
        "    newString = re.sub('[m]{2,}', 'mm', newString)\n",
        "    newString = re.sub(r\"'s\\b\",\"\",newString)\n",
        "    text_tokens = newString.split()\n",
        "    tokens_without_sw = [word for word in text_tokens if not word in all_stopwords]\n",
        "    newString = \" \".join(tokens_without_sw)\n",
        "    newString = re.sub(r\"\\s+\",\" \",newString)\n",
        "    \n",
        "    return newString"
      ],
      "execution_count": null,
      "outputs": []
    },
    {
      "cell_type": "code",
      "metadata": {
        "id": "uf97vnWydo1V"
      },
      "source": [
        "#call the function\n",
        "cleaned_text = [text_cleaner(t) for t in data['Text']]\n",
        "cleaned_summary = [text_cleaner(t) for t in data['Summary']]\n",
        "\n",
        "data['cleaned_text'] = cleaned_text\n",
        "data['cleaned_summary'] = cleaned_summary"
      ],
      "execution_count": null,
      "outputs": []
    },
    {
      "cell_type": "code",
      "metadata": {
        "colab": {
          "base_uri": "https://localhost:8080/",
          "height": 281
        },
        "id": "BeOJ3nRXd78_",
        "outputId": "d43c2076-5843-44d5-c547-f9c342376448"
      },
      "source": [
        "# distribution of sequences\n",
        "import matplotlib.pyplot as plt\n",
        "\n",
        "text_word_count = []\n",
        "summary_word_count = []\n",
        "\n",
        "for i in cleaned_text:\n",
        "    text_word_count.append(len(i.split()))\n",
        "for i in cleaned_summary:\n",
        "    summary_word_count.append(len(i.split()))\n",
        "\n",
        "length_df = pd.DataFrame({'text': text_word_count, 'summary': summary_word_count})\n",
        "length_df.hist(bins=15)\n",
        "plt.show()"
      ],
      "execution_count": null,
      "outputs": [
        {
          "output_type": "display_data",
          "data": {
            "image/png": "[encoded data removed]",
            "text/plain": [
              "<Figure size 432x288 with 2 Axes>"
            ]
          },
          "metadata": {
            "needs_background": "light"
          }
        }
      ]
    },
    {
      "cell_type": "code",
      "metadata": {
        "colab": {
          "base_uri": "https://localhost:8080/"
        },
        "id": "j-jq8y72eSYv",
        "outputId": "0294bd5b-0809-4984-99a3-c8074df80776"
      },
      "source": [
        "count = 0\n",
        "for i in cleaned_text:\n",
        "    if(len(i.split())<=250):\n",
        "        count += 1\n",
        "print(count/len(cleaned_text))"
      ],
      "execution_count": null,
      "outputs": [
        {
          "output_type": "stream",
          "name": "stdout",
          "text": [
            "0.9090909090909091\n"
          ]
        }
      ]
    },
    {
      "cell_type": "code",
      "metadata": {
        "colab": {
          "base_uri": "https://localhost:8080/"
        },
        "id": "H6TCIOp0enar",
        "outputId": "5ea778dd-4228-4b8d-9344-01e32574f4c8"
      },
      "source": [
        "count = 0\n",
        "for i in cleaned_summary:\n",
        "    if(len(i.split())<=120):\n",
        "        count += 1\n",
        "print(count/len(cleaned_summary))"
      ],
      "execution_count": null,
      "outputs": [
        {
          "output_type": "stream",
          "name": "stdout",
          "text": [
            "0.8181818181818182\n"
          ]
        }
      ]
    },
    {
      "cell_type": "code",
      "metadata": {
        "id": "lfkemd7Ke6ti"
      },
      "source": [
        "max_summary_len = 120\n",
        "max_text_len = 250\n",
        "\n",
        "cleaned_text = np.array(cleaned_text)\n",
        "cleaned_summary = np.array(cleaned_summary)\n",
        "\n",
        "short_text=[]\n",
        "short_summary=[]\n",
        "\n",
        "for i in range(len(cleaned_text)):\n",
        "    \n",
        "    if(len(cleaned_summary[i].split())<=max_summary_len and len(cleaned_text[i].split())<=max_text_len):\n",
        "        short_text.append(cleaned_text[i])\n",
        "        short_summary.append(cleaned_summary[i])\n",
        "\n",
        "df=pd.DataFrame({'text':short_text, 'summary':short_summary})"
      ],
      "execution_count": null,
      "outputs": []
    },
    {
      "cell_type": "markdown",
      "metadata": {
        "id": "_RHef468y5cc"
      },
      "source": [
        "Text:"
      ]
    },
    {
      "cell_type": "code",
      "metadata": {
        "id": "DbsWk--LxVSN"
      },
      "source": [
        "# define dummy data and precproces them\n",
        "docs = short_text\n",
        "\n",
        "# train fasttext from gensim api\n",
        "ft = FastText(size=10, window=2, min_count=1, seed=33)\n",
        "ft.build_vocab(docs)\n",
        "ft.train(docs, total_examples=ft.corpus_count, epochs=10)"
      ],
      "execution_count": null,
      "outputs": []
    },
    {
      "cell_type": "code",
      "metadata": {
        "id": "lmmGUCQHxQsD"
      },
      "source": [
        "# prepare text for keras neural network\n",
        "MAX_LEN = 120\n",
        "\n",
        "tokenizer = tensorflow.keras.preprocessing.text.Tokenizer(lower=True)\n",
        "tokenizer.fit_on_texts(docs)\n",
        "\n",
        "sequence_docs = tokenizer.texts_to_sequences(docs)\n",
        "sequence_docs = tensorflow.keras.preprocessing.sequence.pad_sequences(sequence_docs, maxlen=MAX_LEN)\n",
        "\n",
        "# extract fasttext learned embedding and put them in a numpy array\n",
        "embedding_matrix_ft = np.random.random((len(tokenizer.word_index) + 1, ft.vector_size))"
      ],
      "execution_count": null,
      "outputs": []
    },
    {
      "cell_type": "code",
      "metadata": {
        "colab": {
          "base_uri": "https://localhost:8080/"
        },
        "id": "L3sI8wlE4GG6",
        "outputId": "b1c9b1c0-413a-48d2-d6f6-58c682bb33eb"
      },
      "source": [
        "sequence_docs"
      ],
      "execution_count": null,
      "outputs": [
        {
          "output_type": "execute_result",
          "data": {
            "text/plain": [
              "array([[   0,    0,    0, ...,   30,  396,  397],\n",
              "       [   0,    0,    0, ...,   57,  221,  212],\n",
              "       [   0,    0,    0, ...,   41,   33,  138],\n",
              "       ...,\n",
              "       [  74,    1,  191, ...,  932,  120,    1],\n",
              "       [ 367,   12,    1, ...,  186,  969,  970],\n",
              "       [ 369,  994,    8, ..., 1034, 1035, 1036]], dtype=int32)"
            ]
          },
          "metadata": {},
          "execution_count": 135
        }
      ]
    },
    {
      "cell_type": "code",
      "metadata": {
        "id": "mWe20K58xxw4"
      },
      "source": [
        "pas = 0\n",
        "for word,i in tokenizer.word_index.items():\n",
        "    try:\n",
        "        embedding_matrix_ft[i] = ft.wv[word]\n",
        "    except:\n",
        "        pas+=1\n",
        "\n",
        "HIDDEN_UNITS = 32"
      ],
      "execution_count": null,
      "outputs": []
    },
    {
      "cell_type": "markdown",
      "metadata": {
        "id": "U89qmWA7y7OI"
      },
      "source": [
        "Summary:"
      ]
    },
    {
      "cell_type": "code",
      "metadata": {
        "id": "m2rT8NDyy9Jm"
      },
      "source": [
        "# define dummy data and precproces them\n",
        "docs2 = short_summary\n",
        "\n",
        "# train fasttext from gensim api\n",
        "ft2 = FastText(size=10, window=2, min_count=1, seed=33)\n",
        "ft2.build_vocab(docs2)\n",
        "ft2.train(docs2, total_examples=ft2.corpus_count, epochs=10)"
      ],
      "execution_count": null,
      "outputs": []
    },
    {
      "cell_type": "code",
      "metadata": {
        "id": "7JDiEpozzDxS"
      },
      "source": [
        "tokenizer2 = tensorflow.keras.preprocessing.text.Tokenizer(lower=True)\n",
        "tokenizer2.fit_on_texts(docs2)\n",
        "\n",
        "sequence_docs2 = tokenizer2.texts_to_sequences(docs2)\n",
        "sequence_docs2 = tensorflow.keras.preprocessing.sequence.pad_sequences(sequence_docs2, maxlen=MAX_LEN)\n",
        "\n",
        "# extract fasttext learned embedding and put them in a numpy array\n",
        "embedding_matrix_ft2 = np.random.random((len(tokenizer2.word_index) + 1, ft2.vector_size))"
      ],
      "execution_count": null,
      "outputs": []
    },
    {
      "cell_type": "code",
      "metadata": {
        "colab": {
          "base_uri": "https://localhost:8080/"
        },
        "id": "pTeMyo4x1ZDw",
        "outputId": "8d63ff8a-037b-47e6-e4c1-91e2fc323b40"
      },
      "source": [
        "len(tokenizer2.word_index)"
      ],
      "execution_count": null,
      "outputs": [
        {
          "output_type": "execute_result",
          "data": {
            "text/plain": [
              "506"
            ]
          },
          "metadata": {},
          "execution_count": 139
        }
      ]
    },
    {
      "cell_type": "code",
      "metadata": {
        "id": "ZGmpI3xRzmu8"
      },
      "source": [
        "pas2 = 0\n",
        "for word,i in tokenizer2.word_index.items():\n",
        "    try:\n",
        "        embedding_matrix_ft2[i] = ft2.wv[word]\n",
        "    except:\n",
        "        pas2 += 1\n",
        "\n",
        "HIDDEN_UNITS = 32"
      ],
      "execution_count": null,
      "outputs": []
    },
    {
      "cell_type": "markdown",
      "metadata": {
        "id": "qdz132E865wy"
      },
      "source": [
        "Corpus:"
      ]
    },
    {
      "cell_type": "code",
      "metadata": {
        "colab": {
          "base_uri": "https://localhost:8080/"
        },
        "id": "QQtXX9Of4tOu",
        "outputId": "a2e99334-3cc2-42cc-8094-67caaa6c6f30"
      },
      "source": [
        "corpus = short_text + short_summary\n",
        "len(corpus)"
      ],
      "execution_count": null,
      "outputs": [
        {
          "output_type": "execute_result",
          "data": {
            "text/plain": [
              "34"
            ]
          },
          "metadata": {},
          "execution_count": 141
        }
      ]
    },
    {
      "cell_type": "code",
      "metadata": {
        "id": "oyhcc1Rp6-b5"
      },
      "source": [
        "# train fasttext from gensim api\n",
        "ft3 = FastText(size=10, window=3, min_count=1, seed=33)\n",
        "ft3.build_vocab(corpus)\n",
        "ft3.train(corpus, total_examples=ft2.corpus_count, epochs=10)\n",
        "\n",
        "tokenizer3 = tensorflow.keras.preprocessing.text.Tokenizer(lower=True)\n",
        "tokenizer3.fit_on_texts(corpus)\n",
        "\n",
        "# text\n",
        "sequence_text = tokenizer3.texts_to_sequences(corpus)\n",
        "sequence_text = tensorflow.keras.preprocessing.sequence.pad_sequences(sequence_text, maxlen=MAX_LEN)\n",
        "\n",
        "# summary\n",
        "sequence_summary = tokenizer3.texts_to_sequences(corpus)\n",
        "sequence_summary = tensorflow.keras.preprocessing.sequence.pad_sequences(sequence_summary, maxlen=MAX_LEN)\n",
        "\n",
        "# extract fasttext learned embedding and put them in a numpy array\n",
        "embedding_matrix_ft3 = np.random.random((len(tokenizer3.word_index) + 1, ft3.vector_size))\n",
        "\n",
        "pas3 = 0\n",
        "for word,i in tokenizer3.word_index.items():\n",
        "    try:\n",
        "        embedding_matrix_ft3[i] = ft3.wv[word]\n",
        "    except:\n",
        "        pas3 += 1\n",
        "\n",
        "HIDDEN_UNITS = 32"
      ],
      "execution_count": null,
      "outputs": []
    },
    {
      "cell_type": "markdown",
      "metadata": {
        "id": "ALwX9Up0znqJ"
      },
      "source": [
        "Model:"
      ]
    },
    {
      "cell_type": "code",
      "metadata": {
        "id": "dEjk015qxKbZ",
        "colab": {
          "base_uri": "https://localhost:8080/"
        },
        "outputId": "afa589aa-0ef6-4027-fe73-96c3b0a84139"
      },
      "source": [
        "# define a keras model and load the pretrained fasttext weights matrix\n",
        "encoder_inputs = Input(shape=(MAX_LEN,))\n",
        "\n",
        "# embedding layer\n",
        "enc_emb = Embedding(len(tokenizer3.word_index) + 1, ft.vector_size, \n",
        "                weights=[embedding_matrix_ft3], trainable=False)(encoder_inputs)\n",
        "\n",
        "# encoder lstm 1\n",
        "encoder_lstm1 = LSTM(HIDDEN_UNITS, return_sequences=True,return_state=True,dropout=0.4,recurrent_dropout=0.4)\n",
        "encoder_output1, state_h1, state_c1 = encoder_lstm1(enc_emb)\n",
        "\n",
        "# encoder lstm 2\n",
        "encoder_lstm2 = LSTM(HIDDEN_UNITS, return_sequences=True,return_state=True,dropout=0.2,recurrent_dropout=0.2)\n",
        "encoder_output2, state_h2, state_c2 = encoder_lstm2(encoder_output1)\n",
        "\n",
        "# encoder lstm 3\n",
        "encoder_lstm3 = LSTM(HIDDEN_UNITS, return_state=True, return_sequences=True,dropout=0.4,recurrent_dropout=0.4)\n",
        "encoder_outputs, state_h, state_c = encoder_lstm3(encoder_output2)\n",
        "\n",
        "# Set up the decoder, using `encoder_states` as initial state.\n",
        "decoder_inputs = Input(shape=(MAX_LEN,))\n",
        "\n",
        "# embedding layer\n",
        "dec_emb = Embedding(len(tokenizer3.word_index) + 1, ft2.vector_size, \n",
        "                weights=[embedding_matrix_ft3], trainable=False)(decoder_inputs)\n",
        "\n",
        "decoder_lstm = LSTM(HIDDEN_UNITS, return_sequences=True, return_state=True,dropout=0.3,recurrent_dropout=0.1)\n",
        "decoder_outputs1, decoder_fwd_state, decoder_back_state = decoder_lstm(dec_emb, initial_state=[state_h, state_c])\n",
        "\n",
        "# Attention layer\n",
        "attn_layer = Attention(name='attention_layer')\n",
        "attn_out = attn_layer([encoder_outputs, decoder_outputs1])\n",
        "\n",
        "# Concat attention input and decoder LSTM output\n",
        "decoder_concat_input = Concatenate(axis=-1, name='concat_layer')([decoder_outputs1, attn_out])\n",
        "\n",
        "# dense layer\n",
        "decoder_dense =  TimeDistributed(Dense(len(tokenizer3.word_index) + 1, activation='softmax'))\n",
        "decoder_outputs2 = decoder_dense(decoder_concat_input)\n",
        "\n",
        "# Define the model \n",
        "model = Model(inputs=[encoder_inputs, decoder_inputs], outputs=decoder_outputs2)\n",
        "\n",
        "model.summary()"
      ],
      "execution_count": null,
      "outputs": [
        {
          "output_type": "stream",
          "name": "stdout",
          "text": [
            "Model: \"model_7\"\n",
            "__________________________________________________________________________________________________\n",
            "Layer (type)                    Output Shape         Param #     Connected to                     \n",
            "==================================================================================================\n",
            "input_15 (InputLayer)           [(None, 120)]        0                                            \n",
            "__________________________________________________________________________________________________\n",
            "embedding_14 (Embedding)        (None, 120, 10)      11980       input_15[0][0]                   \n",
            "__________________________________________________________________________________________________\n",
            "lstm_28 (LSTM)                  [(None, 120, 32), (N 5504        embedding_14[0][0]               \n",
            "__________________________________________________________________________________________________\n",
            "input_16 (InputLayer)           [(None, 120)]        0                                            \n",
            "__________________________________________________________________________________________________\n",
            "lstm_29 (LSTM)                  [(None, 120, 32), (N 8320        lstm_28[0][0]                    \n",
            "__________________________________________________________________________________________________\n",
            "embedding_15 (Embedding)        (None, 120, 10)      11980       input_16[0][0]                   \n",
            "__________________________________________________________________________________________________\n",
            "lstm_30 (LSTM)                  [(None, 120, 32), (N 8320        lstm_29[0][0]                    \n",
            "__________________________________________________________________________________________________\n",
            "lstm_31 (LSTM)                  [(None, 120, 32), (N 5504        embedding_15[0][0]               \n",
            "                                                                 lstm_30[0][1]                    \n",
            "                                                                 lstm_30[0][2]                    \n",
            "__________________________________________________________________________________________________\n",
            "attention_layer (Attention)     (None, 120, 32)      0           lstm_30[0][0]                    \n",
            "                                                                 lstm_31[0][0]                    \n",
            "__________________________________________________________________________________________________\n",
            "concat_layer (Concatenate)      (None, 120, 64)      0           lstm_31[0][0]                    \n",
            "                                                                 attention_layer[0][0]            \n",
            "__________________________________________________________________________________________________\n",
            "time_distributed_7 (TimeDistrib (None, 120, 1198)    77870       concat_layer[0][0]               \n",
            "==================================================================================================\n",
            "Total params: 129,478\n",
            "Trainable params: 105,518\n",
            "Non-trainable params: 23,960\n",
            "__________________________________________________________________________________________________\n"
          ]
        }
      ]
    },
    {
      "cell_type": "code",
      "metadata": {
        "id": "pvKVjouxXjiT"
      },
      "source": [
        "model.compile(optimizer=Adam(lr=0.0001), \n",
        "              loss='sparse_categorical_crossentropy', \n",
        "              metrics=['accuracy'])"
      ],
      "execution_count": null,
      "outputs": []
    },
    {
      "cell_type": "code",
      "metadata": {
        "colab": {
          "base_uri": "https://localhost:8080/",
          "height": 54
        },
        "id": "RxOO036ZfumC",
        "outputId": "7abd2cb8-9dca-4115-f06d-8465220b74b3"
      },
      "source": [
        "\"\"\"es = [EarlyStopping(monitor='val_loss', mode='min', verbose=1,patience=2), \n",
        "      ModelCheckpoint('./MyModel_tf',monitor='val_loss', verbose=1,\n",
        "                      save_best_only=True, mode='min', save_weights_only = False)]\"\"\""
      ],
      "execution_count": null,
      "outputs": [
        {
          "output_type": "execute_result",
          "data": {
            "application/vnd.google.colaboratory.intrinsic+json": {
              "type": "string"
            },
            "text/plain": [
              "\"es = [EarlyStopping(monitor='val_loss', mode='min', verbose=1,patience=2), \\n      ModelCheckpoint('./MyModel_tf',monitor='val_loss', verbose=1,\\n                      save_best_only=True, mode='min', save_weights_only = False)]\""
            ]
          },
          "metadata": {},
          "execution_count": 145
        }
      ]
    },
    {
      "cell_type": "code",
      "metadata": {
        "colab": {
          "base_uri": "https://localhost:8080/"
        },
        "id": "doZE-Zuob1m9",
        "outputId": "a2b59add-b912-40bb-a364-3f7f169a88b6"
      },
      "source": [
        "model.fit([sequence_text, sequence_summary], sequence_summary,\n",
        "          batch_size=16,\n",
        "          epochs=50,\n",
        "          validation_split=0.2)"
      ],
      "execution_count": null,
      "outputs": [
        {
          "output_type": "stream",
          "name": "stdout",
          "text": [
            "Epoch 1/50\n",
            "2/2 [==============================] - 12s 2s/step - loss: 7.0682 - accuracy: 0.0012 - val_loss: 7.0426 - val_accuracy: 0.0036\n",
            "Epoch 2/50\n",
            "2/2 [==============================] - 1s 613ms/step - loss: 7.0662 - accuracy: 0.0012 - val_loss: 7.0388 - val_accuracy: 0.0036\n",
            "Epoch 3/50\n",
            "2/2 [==============================] - 1s 591ms/step - loss: 7.0625 - accuracy: 0.0015 - val_loss: 7.0348 - val_accuracy: 0.0036\n",
            "Epoch 4/50\n",
            "2/2 [==============================] - 1s 590ms/step - loss: 7.0605 - accuracy: 0.0028 - val_loss: 7.0309 - val_accuracy: 0.0048\n",
            "Epoch 5/50\n",
            "2/2 [==============================] - 1s 638ms/step - loss: 7.0576 - accuracy: 0.0025 - val_loss: 7.0269 - val_accuracy: 0.0048\n",
            "Epoch 6/50\n",
            "2/2 [==============================] - 1s 584ms/step - loss: 7.0551 - accuracy: 0.0025 - val_loss: 7.0229 - val_accuracy: 0.0048\n",
            "Epoch 7/50\n",
            "2/2 [==============================] - 1s 582ms/step - loss: 7.0526 - accuracy: 0.0031 - val_loss: 7.0188 - val_accuracy: 0.0048\n",
            "Epoch 8/50\n",
            "2/2 [==============================] - 1s 575ms/step - loss: 7.0500 - accuracy: 0.0025 - val_loss: 7.0147 - val_accuracy: 0.0048\n",
            "Epoch 9/50\n",
            "2/2 [==============================] - 1s 574ms/step - loss: 7.0471 - accuracy: 0.0031 - val_loss: 7.0106 - val_accuracy: 0.0060\n",
            "Epoch 10/50\n",
            "2/2 [==============================] - 1s 575ms/step - loss: 7.0448 - accuracy: 0.0028 - val_loss: 7.0064 - val_accuracy: 0.0060\n",
            "Epoch 11/50\n",
            "2/2 [==============================] - 1s 578ms/step - loss: 7.0411 - accuracy: 0.0028 - val_loss: 7.0021 - val_accuracy: 0.0060\n",
            "Epoch 12/50\n",
            "2/2 [==============================] - 1s 591ms/step - loss: 7.0386 - accuracy: 0.0022 - val_loss: 6.9978 - val_accuracy: 0.0060\n",
            "Epoch 13/50\n",
            "2/2 [==============================] - 1s 610ms/step - loss: 7.0351 - accuracy: 0.0022 - val_loss: 6.9934 - val_accuracy: 0.0060\n",
            "Epoch 14/50\n",
            "2/2 [==============================] - 1s 569ms/step - loss: 7.0326 - accuracy: 0.0028 - val_loss: 6.9888 - val_accuracy: 0.0060\n",
            "Epoch 15/50\n",
            "2/2 [==============================] - 1s 597ms/step - loss: 7.0296 - accuracy: 0.0037 - val_loss: 6.9843 - val_accuracy: 0.0060\n",
            "Epoch 16/50\n",
            "2/2 [==============================] - 1s 596ms/step - loss: 7.0271 - accuracy: 0.0031 - val_loss: 6.9795 - val_accuracy: 0.0060\n",
            "Epoch 17/50\n",
            "2/2 [==============================] - 1s 590ms/step - loss: 7.0239 - accuracy: 0.0034 - val_loss: 6.9748 - val_accuracy: 0.0060\n",
            "Epoch 18/50\n",
            "2/2 [==============================] - 1s 591ms/step - loss: 7.0203 - accuracy: 0.0028 - val_loss: 6.9698 - val_accuracy: 0.0060\n",
            "Epoch 19/50\n",
            "2/2 [==============================] - 1s 613ms/step - loss: 7.0165 - accuracy: 0.0031 - val_loss: 6.9647 - val_accuracy: 0.0060\n",
            "Epoch 20/50\n",
            "2/2 [==============================] - 1s 590ms/step - loss: 7.0138 - accuracy: 0.0099 - val_loss: 6.9595 - val_accuracy: 0.0060\n",
            "Epoch 21/50\n",
            "2/2 [==============================] - 1s 579ms/step - loss: 7.0102 - accuracy: 0.0114 - val_loss: 6.9542 - val_accuracy: 0.0060\n",
            "Epoch 22/50\n",
            "2/2 [==============================] - 1s 584ms/step - loss: 7.0065 - accuracy: 0.0228 - val_loss: 6.9487 - val_accuracy: 0.0060\n",
            "Epoch 23/50\n",
            "2/2 [==============================] - 1s 578ms/step - loss: 7.0032 - accuracy: 0.0269 - val_loss: 6.9431 - val_accuracy: 0.0429\n",
            "Epoch 24/50\n",
            "2/2 [==============================] - 1s 586ms/step - loss: 7.0006 - accuracy: 0.0386 - val_loss: 6.9373 - val_accuracy: 0.0488\n",
            "Epoch 25/50\n",
            "2/2 [==============================] - 1s 581ms/step - loss: 6.9961 - accuracy: 0.0840 - val_loss: 6.9314 - val_accuracy: 0.0571\n",
            "Epoch 26/50\n",
            "2/2 [==============================] - 1s 589ms/step - loss: 6.9907 - accuracy: 0.1136 - val_loss: 6.9252 - val_accuracy: 0.2357\n",
            "Epoch 27/50\n",
            "2/2 [==============================] - 1s 586ms/step - loss: 6.9867 - accuracy: 0.1688 - val_loss: 6.9188 - val_accuracy: 0.3964\n",
            "Epoch 28/50\n",
            "2/2 [==============================] - 1s 602ms/step - loss: 6.9834 - accuracy: 0.2059 - val_loss: 6.9122 - val_accuracy: 0.5905\n",
            "Epoch 29/50\n",
            "2/2 [==============================] - 1s 583ms/step - loss: 6.9773 - accuracy: 0.2747 - val_loss: 6.9053 - val_accuracy: 0.5952\n",
            "Epoch 30/50\n",
            "2/2 [==============================] - 1s 600ms/step - loss: 6.9742 - accuracy: 0.2793 - val_loss: 6.8981 - val_accuracy: 0.5964\n",
            "Epoch 31/50\n",
            "2/2 [==============================] - 1s 591ms/step - loss: 6.9705 - accuracy: 0.2932 - val_loss: 6.8907 - val_accuracy: 0.6000\n",
            "Epoch 32/50\n",
            "2/2 [==============================] - 1s 561ms/step - loss: 6.9644 - accuracy: 0.3022 - val_loss: 6.8831 - val_accuracy: 0.6000\n",
            "Epoch 33/50\n",
            "2/2 [==============================] - 1s 598ms/step - loss: 6.9601 - accuracy: 0.3046 - val_loss: 6.8752 - val_accuracy: 0.6000\n",
            "Epoch 34/50\n",
            "2/2 [==============================] - 1s 578ms/step - loss: 6.9546 - accuracy: 0.3056 - val_loss: 6.8671 - val_accuracy: 0.6000\n",
            "Epoch 35/50\n",
            "2/2 [==============================] - 1s 578ms/step - loss: 6.9486 - accuracy: 0.3059 - val_loss: 6.8586 - val_accuracy: 0.6000\n",
            "Epoch 36/50\n",
            "2/2 [==============================] - 1s 580ms/step - loss: 6.9430 - accuracy: 0.3056 - val_loss: 6.8498 - val_accuracy: 0.6000\n",
            "Epoch 37/50\n",
            "2/2 [==============================] - 1s 605ms/step - loss: 6.9367 - accuracy: 0.3059 - val_loss: 6.8407 - val_accuracy: 0.6000\n",
            "Epoch 38/50\n",
            "2/2 [==============================] - 1s 587ms/step - loss: 6.9309 - accuracy: 0.3062 - val_loss: 6.8312 - val_accuracy: 0.6000\n",
            "Epoch 39/50\n",
            "2/2 [==============================] - 1s 623ms/step - loss: 6.9243 - accuracy: 0.3062 - val_loss: 6.8215 - val_accuracy: 0.6000\n",
            "Epoch 40/50\n",
            "2/2 [==============================] - 1s 585ms/step - loss: 6.9176 - accuracy: 0.3062 - val_loss: 6.8114 - val_accuracy: 0.6000\n",
            "Epoch 41/50\n",
            "2/2 [==============================] - 1s 597ms/step - loss: 6.9109 - accuracy: 0.3062 - val_loss: 6.8008 - val_accuracy: 0.6000\n",
            "Epoch 42/50\n",
            "2/2 [==============================] - 1s 588ms/step - loss: 6.9046 - accuracy: 0.3062 - val_loss: 6.7899 - val_accuracy: 0.6000\n",
            "Epoch 43/50\n",
            "2/2 [==============================] - 1s 629ms/step - loss: 6.8962 - accuracy: 0.3062 - val_loss: 6.7786 - val_accuracy: 0.6000\n",
            "Epoch 44/50\n",
            "2/2 [==============================] - 1s 583ms/step - loss: 6.8879 - accuracy: 0.3062 - val_loss: 6.7671 - val_accuracy: 0.6000\n",
            "Epoch 45/50\n",
            "2/2 [==============================] - 1s 591ms/step - loss: 6.8809 - accuracy: 0.3062 - val_loss: 6.7551 - val_accuracy: 0.6000\n",
            "Epoch 46/50\n",
            "2/2 [==============================] - 1s 584ms/step - loss: 6.8727 - accuracy: 0.3062 - val_loss: 6.7428 - val_accuracy: 0.6000\n",
            "Epoch 47/50\n",
            "2/2 [==============================] - 1s 580ms/step - loss: 6.8646 - accuracy: 0.3062 - val_loss: 6.7301 - val_accuracy: 0.6000\n",
            "Epoch 48/50\n",
            "2/2 [==============================] - 1s 614ms/step - loss: 6.8542 - accuracy: 0.3062 - val_loss: 6.7171 - val_accuracy: 0.6000\n",
            "Epoch 49/50\n",
            "2/2 [==============================] - 1s 585ms/step - loss: 6.8483 - accuracy: 0.3062 - val_loss: 6.7036 - val_accuracy: 0.6000\n",
            "Epoch 50/50\n",
            "2/2 [==============================] - 1s 595ms/step - loss: 6.8383 - accuracy: 0.3062 - val_loss: 6.6899 - val_accuracy: 0.6000\n"
          ]
        },
        {
          "output_type": "execute_result",
          "data": {
            "text/plain": [
              "<keras.callbacks.History at 0x7fe495ada890>"
            ]
          },
          "metadata": {},
          "execution_count": 227
        }
      ]
    },
    {
      "cell_type": "code",
      "metadata": {
        "id": "Ta4FzFGHccD6"
      },
      "source": [
        "# Save model\n",
        "model.save('myAttentionSeq2seq_125.h5')"
      ],
      "execution_count": null,
      "outputs": []
    },
    {
      "cell_type": "code",
      "metadata": {
        "colab": {
          "base_uri": "https://localhost:8080/"
        },
        "id": "lwXqc3dJlNYr",
        "outputId": "ddeee446-214d-4252-cbf2-ba80f098ebe9"
      },
      "source": [
        "pred = model.predict([sequence_text[0], sequence_summary[0]])\n",
        "pred"
      ],
      "execution_count": null,
      "outputs": [
        {
          "output_type": "stream",
          "name": "stdout",
          "text": [
            "WARNING:tensorflow:Model was constructed with shape (None, 120) for input KerasTensor(type_spec=TensorSpec(shape=(None, 120), dtype=tf.float32, name='input_15'), name='input_15', description=\"created by layer 'input_15'\"), but it was called on an input with incompatible shape (None, 1).\n",
            "WARNING:tensorflow:Model was constructed with shape (None, 120) for input KerasTensor(type_spec=TensorSpec(shape=(None, 120), dtype=tf.float32, name='input_16'), name='input_16', description=\"created by layer 'input_16'\"), but it was called on an input with incompatible shape (None, 1).\n"
          ]
        },
        {
          "output_type": "execute_result",
          "data": {
            "text/plain": [
              "array([[[0.00090695, 0.00087093, 0.00086491, ..., 0.00079503,\n",
              "         0.00079808, 0.00082482]],\n",
              "\n",
              "       [[0.00090695, 0.00087093, 0.00086491, ..., 0.00079503,\n",
              "         0.00079808, 0.00082482]],\n",
              "\n",
              "       [[0.00090695, 0.00087093, 0.00086491, ..., 0.00079503,\n",
              "         0.00079808, 0.00082482]],\n",
              "\n",
              "       ...,\n",
              "\n",
              "       [[0.00093567, 0.00087686, 0.00088251, ..., 0.00076209,\n",
              "         0.00077493, 0.00082434]],\n",
              "\n",
              "       [[0.00094849, 0.00088099, 0.00087884, ..., 0.00076659,\n",
              "         0.00078043, 0.00083117]],\n",
              "\n",
              "       [[0.00092717, 0.00087626, 0.00087345, ..., 0.00077441,\n",
              "         0.00078738, 0.00083236]]], dtype=float32)"
            ]
          },
          "metadata": {},
          "execution_count": 229
        }
      ]
    },
    {
      "cell_type": "code",
      "metadata": {
        "id": "E-MYDIAhQ-v9"
      },
      "source": [
        "reverse_word_index = dict(\n",
        "    (i, word) for word, i in tokenizer3.word_index.items())"
      ],
      "execution_count": null,
      "outputs": []
    },
    {
      "cell_type": "code",
      "metadata": {
        "id": "h3F085CWHnWA"
      },
      "source": [
        "def prediction_text(some_text):\n",
        "  pred_text = tokenizer3.texts_to_sequences(text_cleaner(some_text))\n",
        "  pred_text = tensorflow.keras.preprocessing.sequence.pad_sequences(pred_text, maxlen=MAX_LEN)\n",
        "\n",
        "  pred_seq = model.predict([pred_text, pred_text])\n",
        "\n",
        "  t = \"\"\n",
        "  for p in pred_seq:\n",
        "    t += reverse_word_index[np.argmax(p[0]) + 1] + \" \"\n",
        "\n",
        "  return t"
      ],
      "execution_count": null,
      "outputs": []
    },
    {
      "cell_type": "code",
      "metadata": {
        "colab": {
          "base_uri": "https://localhost:8080/",
          "height": 146
        },
        "id": "AxDbIP1TTGWq",
        "outputId": "e9c1e9cc-c622-4f20-94b0-9f654042850b"
      },
      "source": [
        "short_text[0]"
      ],
      "execution_count": null,
      "outputs": [
        {
          "output_type": "execute_result",
          "data": {
            "application/vnd.google.colaboratory.intrinsic+json": {
              "type": "string"
            },
            "text/plain": [
              "'summarythis case report describes year old woman presented bilateral femoral stress fractures osteoporosis years excessive levothyroxine treatment bone health restored rapidly long lasting reduction levothyroxine dosage bone active treatment warranted introductionhyperthyroidism known risk factor osteoporosis fractures recent studies patients serum thyrotropin suppressive therapy however indicated adverse effects bone long term follow case report describes long term follow data clinically euthyreoid patient developed symptomatic osteoporosis due excessive levothyroxine treatment correction levothyroxine dosage bone mineral density previously elevated serum osteocalcin levels normalized rapidly remained free fractures years follow menopause conclusionexcessive tsh suppression contributed secondary osteoporosis patient bmd normalized dose reduction levothyroxine fractures occurred years follow patients develop severe osteoporosis substituted levothyroxine decent follow patients levothyroxine supplementation mandatory'"
            ]
          },
          "metadata": {},
          "execution_count": 172
        }
      ]
    },
    {
      "cell_type": "code",
      "metadata": {
        "id": "dzPTw0a1RvKI"
      },
      "source": [
        "pred = model.predict([sequence_text[2], sequence_summary[2]])"
      ],
      "execution_count": null,
      "outputs": []
    },
    {
      "cell_type": "code",
      "metadata": {
        "colab": {
          "base_uri": "https://localhost:8080/",
          "height": 146
        },
        "id": "Cukkfj9Ra6ar",
        "outputId": "07bc7d82-c09f-4f33-ad71-be4daa45059d"
      },
      "source": [
        "t = \"\"\n",
        "for p in pred:\n",
        "  t += reverse_word_index[np.argmax(p[0]) + 1] + \" \"\n",
        "\n",
        "t"
      ],
      "execution_count": null,
      "outputs": [
        {
          "output_type": "execute_result",
          "data": {
            "application/vnd.google.colaboratory.intrinsic+json": {
              "type": "string"
            },
            "text/plain": [
              "'months months months months months months months months months months months months months months months months months months months months months months months months months months months months months months months months months months months months months months months months months months months months months osteoporosis second osteoporosis second patients months patients months months months second patients months patients months patients patients second osteoporosis months months patients patients osteoporosis osteoporosis patients osteoporosis second months patients patients second osteoporosis second patients osteoporosis second osteoporosis patients osteoporosis months months osteoporosis patients months patients months second osteoporosis months patients patients months osteoporosis patients second months months patients second months osteoporosis patients months months second months patients osteoporosis second patients osteoporosis patients second months '"
            ]
          },
          "metadata": {},
          "execution_count": 237
        }
      ]
    }
  ]
}