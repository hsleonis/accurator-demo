{
  "nbformat": 4,
  "nbformat_minor": 0,
  "metadata": {
    "kernelspec": {
      "display_name": "Python 3",
      "language": "python",
      "name": "python3"
    },
    "language_info": {
      "codemirror_mode": {
        "name": "ipython",
        "version": 3
      },
      "file_extension": ".py",
      "mimetype": "text/x-python",
      "name": "python",
      "nbconvert_exporter": "python",
      "pygments_lexer": "ipython3",
      "version": "3.6.3"
    },
    "colab": {
      "name": "Encoder (Word).ipynb",
      "provenance": []
    }
  },
  "cells": [
    {
      "cell_type": "markdown",
      "metadata": {
        "id": "41dbMyOrY8WF"
      },
      "source": [
        "### Neural Machine Translation using word level language model and embeddings in Keras"
      ]
    },
    {
      "cell_type": "code",
      "metadata": {
        "id": "ttJ021XcY8WP"
      },
      "source": [
        "import pandas as pd\n",
        "import numpy as np\n",
        "import string\n",
        "from string import digits\n",
        "import matplotlib.pyplot as plt\n",
        "%matplotlib inline\n",
        "import re\n",
        "from sklearn.model_selection import train_test_split"
      ],
      "execution_count": 16,
      "outputs": []
    },
    {
      "cell_type": "code",
      "metadata": {
        "colab": {
          "base_uri": "https://localhost:8080/",
          "height": 17
        },
        "id": "-8VBFYgAY8WT",
        "outputId": "aabd1d82-7cfc-46bd-ec97-95fe3b60f90e"
      },
      "source": [
        "from IPython.core.display import display, HTML\n",
        "display(HTML(\"<style>.container { width:100% !important; }</style>\"))"
      ],
      "execution_count": 17,
      "outputs": [
        {
          "output_type": "display_data",
          "data": {
            "text/html": [
              "<style>.container { width:100% !important; }</style>"
            ],
            "text/plain": [
              "<IPython.core.display.HTML object>"
            ]
          },
          "metadata": {}
        }
      ]
    },
    {
      "cell_type": "code",
      "metadata": {
        "colab": {
          "base_uri": "https://localhost:8080/"
        },
        "id": "pmYLg-dSaSml",
        "outputId": "8f254a78-b378-4197-90d4-c913ee73b7de"
      },
      "source": [
        "%cd drive/MyDrive/Colab\\ Notebooks/data"
      ],
      "execution_count": 18,
      "outputs": [
        {
          "output_type": "stream",
          "name": "stdout",
          "text": [
            "[Errno 2] No such file or directory: 'drive/MyDrive/Colab Notebooks/data'\n",
            "/content/drive/MyDrive/Colab Notebooks/data\n"
          ]
        }
      ]
    },
    {
      "cell_type": "code",
      "metadata": {
        "id": "87AoCtGAY8WV"
      },
      "source": [
        "f = open(\"abstract_mod.txt\", \"r\")\n",
        "lines = f.read().split(',')"
      ],
      "execution_count": 19,
      "outputs": []
    },
    {
      "cell_type": "code",
      "metadata": {
        "id": "lRUgN6e1caMR"
      },
      "source": [
        "lines = lines[:4000]"
      ],
      "execution_count": 20,
      "outputs": []
    },
    {
      "cell_type": "code",
      "metadata": {
        "colab": {
          "base_uri": "https://localhost:8080/"
        },
        "id": "2SwUIWnbY8WX",
        "outputId": "540f2720-c2a1-4ed6-9272-497a97bdc678"
      },
      "source": [
        "len(lines)"
      ],
      "execution_count": 21,
      "outputs": [
        {
          "output_type": "execute_result",
          "data": {
            "text/plain": [
              "4000"
            ]
          },
          "metadata": {},
          "execution_count": 21
        }
      ]
    },
    {
      "cell_type": "markdown",
      "metadata": {
        "id": "DuQkDf4RY8Wh"
      },
      "source": [
        "#### Generate synthetic data"
      ]
    },
    {
      "cell_type": "code",
      "metadata": {
        "id": "N-E3itRuY8Wi"
      },
      "source": [
        "all_eng_words = set()\n",
        "for eng in lines:\n",
        "    for word in eng.split():\n",
        "        all_eng_words.add(word)"
      ],
      "execution_count": 22,
      "outputs": []
    },
    {
      "cell_type": "code",
      "metadata": {
        "colab": {
          "base_uri": "https://localhost:8080/"
        },
        "id": "_fjwmJaXY8Wj",
        "outputId": "4d6272cd-8081-4a74-80b8-dad60787f91d"
      },
      "source": [
        "len(all_eng_words)"
      ],
      "execution_count": 23,
      "outputs": [
        {
          "output_type": "execute_result",
          "data": {
            "text/plain": [
              "6462"
            ]
          },
          "metadata": {},
          "execution_count": 23
        }
      ]
    },
    {
      "cell_type": "code",
      "metadata": {
        "colab": {
          "base_uri": "https://localhost:8080/"
        },
        "id": "Dr7617NvY8Wk",
        "outputId": "1e5b0ab4-3fcd-4477-d00c-52750b79d115"
      },
      "source": [
        "lenght_list=[]\n",
        "for l in lines:\n",
        "    lenght_list.append(len(l.split(' ')))\n",
        "np.max(lenght_list)"
      ],
      "execution_count": 24,
      "outputs": [
        {
          "output_type": "execute_result",
          "data": {
            "text/plain": [
              "47"
            ]
          },
          "metadata": {},
          "execution_count": 24
        }
      ]
    },
    {
      "cell_type": "code",
      "metadata": {
        "id": "i9Jc0jAVY8Wl"
      },
      "source": [
        "input_words = sorted(list(all_eng_words))\n",
        "target_words = sorted(list(all_eng_words))\n",
        "num_encoder_tokens = len(all_eng_words)\n",
        "num_decoder_tokens = len(all_eng_words)\n",
        "# del all_eng_words, all_french_words"
      ],
      "execution_count": 25,
      "outputs": []
    },
    {
      "cell_type": "code",
      "metadata": {
        "id": "lqDk-3Y7Y8Wl"
      },
      "source": [
        "input_token_index = dict(\n",
        "    [(word, i) for i, word in enumerate(input_words)])\n",
        "target_token_index = input_token_index.copy()"
      ],
      "execution_count": 26,
      "outputs": []
    },
    {
      "cell_type": "code",
      "metadata": {
        "colab": {
          "base_uri": "https://localhost:8080/"
        },
        "id": "qiD9KtUvY8Wl",
        "outputId": "54d9b9b6-8402-47fe-b1da-344bd2c9224d"
      },
      "source": [
        "len(lines)*16*num_decoder_tokens"
      ],
      "execution_count": 27,
      "outputs": [
        {
          "output_type": "execute_result",
          "data": {
            "text/plain": [
              "413568000"
            ]
          },
          "metadata": {},
          "execution_count": 27
        }
      ]
    },
    {
      "cell_type": "code",
      "metadata": {
        "id": "ss8DhFPPY8Wm"
      },
      "source": [
        "encoder_input_data = np.zeros(\n",
        "    (len(lines), 47),\n",
        "    dtype='float32')\n",
        "decoder_input_data = np.zeros(\n",
        "    (len(lines), 47),\n",
        "    dtype='float32')\n",
        "decoder_target_data = np.zeros(\n",
        "    (len(lines), 47, num_decoder_tokens),\n",
        "    dtype='float32')"
      ],
      "execution_count": 28,
      "outputs": []
    },
    {
      "cell_type": "code",
      "metadata": {
        "id": "iVA5QrEhY8Wm"
      },
      "source": [
        "for i, (input_text, target_text) in enumerate(zip(lines, lines)):\n",
        "    for t, word in enumerate(input_text.split()):\n",
        "        encoder_input_data[i, t] = input_token_index[word]\n",
        "    for t, word in enumerate(target_text.split()):\n",
        "        # decoder_target_data is ahead of decoder_input_data by one timestep\n",
        "        decoder_input_data[i, t] = target_token_index[word]\n",
        "        if t > 0:\n",
        "            # decoder_target_data will be ahead by one timestep\n",
        "            # and will not include the start character.\n",
        "            decoder_target_data[i, t - 1, target_token_index[word]] = 1."
      ],
      "execution_count": 29,
      "outputs": []
    },
    {
      "cell_type": "code",
      "metadata": {
        "colab": {
          "base_uri": "https://localhost:8080/"
        },
        "id": "ChWo1q_cZx9M",
        "outputId": "154074f8-11a8-4096-d888-868fb6575cb6"
      },
      "source": [
        "encoder_input_data"
      ],
      "execution_count": 53,
      "outputs": [
        {
          "output_type": "execute_result",
          "data": {
            "text/plain": [
              "array([[1536., 4861., 6039., ...,    0.,    0.,    0.],\n",
              "       [1159., 1512., 5633., ...,    0.,    0.,    0.],\n",
              "       [1398., 3834., 3022., ...,    0.,    0.,    0.],\n",
              "       ...,\n",
              "       [5032., 2235.,  812., ...,    0.,    0.,    0.],\n",
              "       [ 812., 4598., 6432., ...,    0.,    0.,    0.],\n",
              "       [1401., 2235., 1361., ...,    0.,    0.,    0.]], dtype=float32)"
            ]
          },
          "metadata": {},
          "execution_count": 53
        }
      ]
    },
    {
      "cell_type": "code",
      "metadata": {
        "colab": {
          "base_uri": "https://localhost:8080/"
        },
        "id": "uBa93FghXfEm",
        "outputId": "bb9fb8b4-c445-4e43-c438-10ea666494ef"
      },
      "source": [
        "decoder_input_data"
      ],
      "execution_count": 34,
      "outputs": [
        {
          "output_type": "execute_result",
          "data": {
            "text/plain": [
              "array([[1536., 4861., 6039., ...,    0.,    0.,    0.],\n",
              "       [1159., 1512., 5633., ...,    0.,    0.,    0.],\n",
              "       [1398., 3834., 3022., ...,    0.,    0.,    0.],\n",
              "       ...,\n",
              "       [5032., 2235.,  812., ...,    0.,    0.,    0.],\n",
              "       [ 812., 4598., 6432., ...,    0.,    0.,    0.],\n",
              "       [1401., 2235., 1361., ...,    0.,    0.,    0.]], dtype=float32)"
            ]
          },
          "metadata": {},
          "execution_count": 34
        }
      ]
    },
    {
      "cell_type": "markdown",
      "metadata": {
        "id": "IK-CoYpLY8Wm"
      },
      "source": [
        "### Build keras encoder-decoder model"
      ]
    },
    {
      "cell_type": "code",
      "metadata": {
        "id": "Z3hj_03mY8Wm"
      },
      "source": [
        "embedding_size = 50"
      ],
      "execution_count": 15,
      "outputs": []
    },
    {
      "cell_type": "code",
      "metadata": {
        "id": "0mpRd-FBY8Wn"
      },
      "source": [
        "from tensorflow.keras.layers import Input, LSTM, Embedding, Dense\n",
        "from tensorflow.keras.models import Model\n",
        "from tensorflow.keras.utils import plot_model\n",
        "from tensorflow.keras.models import load_model"
      ],
      "execution_count": 42,
      "outputs": []
    },
    {
      "cell_type": "markdown",
      "metadata": {
        "id": "S_gJKnPUY8Wp"
      },
      "source": [
        "#### Encoder model"
      ]
    },
    {
      "cell_type": "code",
      "metadata": {
        "id": "QNHhFwDIY8Wq"
      },
      "source": [
        "encoder_inputs = Input(shape=(None,))\n",
        "en_x=  Embedding(num_encoder_tokens, embedding_size)(encoder_inputs)\n",
        "encoder = LSTM(50, return_state=True)\n",
        "encoder_outputs, state_h, state_c = encoder(en_x)\n",
        "# We discard `encoder_outputs` and only keep the states.\n",
        "encoder_states = [state_h, state_c]"
      ],
      "execution_count": 36,
      "outputs": []
    },
    {
      "cell_type": "markdown",
      "metadata": {
        "id": "pjYA33VJY8Wr"
      },
      "source": [
        "#### Decoder model"
      ]
    },
    {
      "cell_type": "code",
      "metadata": {
        "id": "IPruo5qRY8Wr"
      },
      "source": [
        "# Set up the decoder, using `encoder_states` as initial state.\n",
        "decoder_inputs = Input(shape=(None,))\n",
        "\n",
        "dex=  Embedding(num_decoder_tokens, embedding_size)\n",
        "\n",
        "final_dex= dex(decoder_inputs)\n",
        "decoder_lstm = LSTM(50, return_sequences=True, return_state=True)\n",
        "\n",
        "decoder_outputs, _, _ = decoder_lstm(final_dex,\n",
        "                                     initial_state=encoder_states)\n",
        "\n",
        "decoder_dense = Dense(num_decoder_tokens, activation='softmax')\n",
        "\n",
        "decoder_outputs = decoder_dense(decoder_outputs)\n",
        "\n",
        "model = Model([encoder_inputs, decoder_inputs], decoder_outputs)\n",
        "\n",
        "model.compile(optimizer='rmsprop', loss='categorical_crossentropy', metrics=['acc'])\n"
      ],
      "execution_count": 37,
      "outputs": []
    },
    {
      "cell_type": "code",
      "metadata": {
        "scrolled": false,
        "colab": {
          "base_uri": "https://localhost:8080/"
        },
        "id": "vGLar28-Y8Ws",
        "outputId": "2184ed84-5d6e-4c0b-b152-3f6071002874"
      },
      "source": [
        "model.summary()"
      ],
      "execution_count": 38,
      "outputs": [
        {
          "output_type": "stream",
          "name": "stdout",
          "text": [
            "Model: \"model\"\n",
            "__________________________________________________________________________________________________\n",
            "Layer (type)                    Output Shape         Param #     Connected to                     \n",
            "==================================================================================================\n",
            "input_1 (InputLayer)            [(None, None)]       0                                            \n",
            "__________________________________________________________________________________________________\n",
            "input_2 (InputLayer)            [(None, None)]       0                                            \n",
            "__________________________________________________________________________________________________\n",
            "embedding (Embedding)           (None, None, 50)     323100      input_1[0][0]                    \n",
            "__________________________________________________________________________________________________\n",
            "embedding_1 (Embedding)         (None, None, 50)     323100      input_2[0][0]                    \n",
            "__________________________________________________________________________________________________\n",
            "lstm (LSTM)                     [(None, 50), (None,  20200       embedding[0][0]                  \n",
            "__________________________________________________________________________________________________\n",
            "lstm_1 (LSTM)                   [(None, None, 50), ( 20200       embedding_1[0][0]                \n",
            "                                                                 lstm[0][1]                       \n",
            "                                                                 lstm[0][2]                       \n",
            "__________________________________________________________________________________________________\n",
            "dense (Dense)                   (None, None, 6462)   329562      lstm_1[0][0]                     \n",
            "==================================================================================================\n",
            "Total params: 1,016,162\n",
            "Trainable params: 1,016,162\n",
            "Non-trainable params: 0\n",
            "__________________________________________________________________________________________________\n"
          ]
        }
      ]
    },
    {
      "cell_type": "markdown",
      "metadata": {
        "id": "O6t4KfSOY8Wx"
      },
      "source": [
        "#### Fit the model"
      ]
    },
    {
      "cell_type": "code",
      "metadata": {
        "scrolled": false,
        "colab": {
          "base_uri": "https://localhost:8080/"
        },
        "id": "Znw__6tkY8Wz",
        "outputId": "263d33fb-c5f9-4119-9fb8-a028abceb832"
      },
      "source": [
        "model.fit([encoder_input_data, decoder_input_data], decoder_target_data,\n",
        "          batch_size=128,\n",
        "          epochs=10,\n",
        "          validation_split=0.05)"
      ],
      "execution_count": null,
      "outputs": [
        {
          "output_type": "stream",
          "name": "stdout",
          "text": [
            "Epoch 1/10\n",
            "30/30 [==============================] - 32s 873ms/step - loss: 1.6210 - acc: 0.0037 - val_loss: 1.6413 - val_acc: 0.0038\n",
            "Epoch 2/10\n",
            "30/30 [==============================] - 25s 841ms/step - loss: 1.5580 - acc: 0.0042 - val_loss: 1.6275 - val_acc: 0.0038\n",
            "Epoch 3/10\n",
            "30/30 [==============================] - 25s 833ms/step - loss: 1.5445 - acc: 0.0042 - val_loss: 1.6223 - val_acc: 0.0038\n",
            "Epoch 4/10\n",
            "30/30 [==============================] - 25s 842ms/step - loss: 1.5371 - acc: 0.0042 - val_loss: 1.6207 - val_acc: 0.0038\n",
            "Epoch 5/10\n",
            "30/30 [==============================] - 25s 835ms/step - loss: 1.5322 - acc: 0.0042 - val_loss: 1.6196 - val_acc: 0.0038\n",
            "Epoch 6/10\n",
            "30/30 [==============================] - 25s 836ms/step - loss: 1.5284 - acc: 0.0042 - val_loss: 1.6200 - val_acc: 0.0038\n",
            "Epoch 7/10\n",
            "30/30 [==============================] - 25s 838ms/step - loss: 1.5256 - acc: 0.0042 - val_loss: 1.6206 - val_acc: 0.0038\n",
            "Epoch 8/10\n",
            "30/30 [==============================] - 25s 838ms/step - loss: 1.5235 - acc: 0.0042 - val_loss: 1.6220 - val_acc: 0.0038\n",
            "Epoch 9/10\n",
            "30/30 [==============================] - 25s 834ms/step - loss: 1.5217 - acc: 0.0042 - val_loss: 1.6229 - val_acc: 0.0038\n",
            "Epoch 10/10\n",
            "30/30 [==============================] - 25s 833ms/step - loss: 1.5200 - acc: 0.0042 - val_loss: 1.6250 - val_acc: 0.0038\n"
          ]
        },
        {
          "output_type": "execute_result",
          "data": {
            "text/plain": [
              "<keras.callbacks.History at 0x7eff053c6310>"
            ]
          },
          "metadata": {},
          "execution_count": 37
        }
      ]
    },
    {
      "cell_type": "code",
      "metadata": {
        "id": "ESAmujp_w-LO"
      },
      "source": [
        "#model.save('encoder_word.h5')\n",
        "\n",
        "model = load_model('encoder_word.h5')"
      ],
      "execution_count": 43,
      "outputs": []
    },
    {
      "cell_type": "code",
      "metadata": {
        "colab": {
          "base_uri": "https://localhost:8080/"
        },
        "id": "LnD5bCZLY8Wz",
        "outputId": "a18f314e-dd0d-437f-bda0-ce4b03eafc46"
      },
      "source": [
        "encoder_model = Model(encoder_inputs, encoder_states)\n",
        "encoder_model.summary()"
      ],
      "execution_count": 44,
      "outputs": [
        {
          "output_type": "stream",
          "name": "stdout",
          "text": [
            "Model: \"model_1\"\n",
            "_________________________________________________________________\n",
            "Layer (type)                 Output Shape              Param #   \n",
            "=================================================================\n",
            "input_1 (InputLayer)         [(None, None)]            0         \n",
            "_________________________________________________________________\n",
            "embedding (Embedding)        (None, None, 50)          323100    \n",
            "_________________________________________________________________\n",
            "lstm (LSTM)                  [(None, 50), (None, 50),  20200     \n",
            "=================================================================\n",
            "Total params: 343,300\n",
            "Trainable params: 343,300\n",
            "Non-trainable params: 0\n",
            "_________________________________________________________________\n"
          ]
        }
      ]
    },
    {
      "cell_type": "markdown",
      "metadata": {
        "id": "VGZYcSqwY8Wz"
      },
      "source": [
        "#### Create sampling model"
      ]
    },
    {
      "cell_type": "code",
      "metadata": {
        "id": "nMQqAYjPY8Wz"
      },
      "source": [
        "decoder_state_input_h = Input(shape=(50,))\n",
        "decoder_state_input_c = Input(shape=(50,))\n",
        "decoder_states_inputs = [decoder_state_input_h, decoder_state_input_c]\n",
        "\n",
        "final_dex2= dex(decoder_inputs)\n",
        "\n",
        "decoder_outputs2, state_h2, state_c2 = decoder_lstm(final_dex2, initial_state=decoder_states_inputs)\n",
        "decoder_states2 = [state_h2, state_c2]\n",
        "decoder_outputs2 = decoder_dense(decoder_outputs2)\n",
        "decoder_model = Model(\n",
        "    [decoder_inputs] + decoder_states_inputs,\n",
        "    [decoder_outputs2] + decoder_states2)\n",
        "\n",
        "# Reverse-lookup token index to decode sequences back to\n",
        "# something readable.\n",
        "reverse_input_char_index = dict(\n",
        "    (i, char) for char, i in input_token_index.items())\n",
        "reverse_target_char_index = dict(\n",
        "    (i, char) for char, i in target_token_index.items())\n"
      ],
      "execution_count": 45,
      "outputs": []
    },
    {
      "cell_type": "code",
      "metadata": {
        "colab": {
          "base_uri": "https://localhost:8080/"
        },
        "id": "3o1rT3Z7am5G",
        "outputId": "9221cc9e-fa5b-4dab-d108-7f3e86d4b8e9"
      },
      "source": [
        "reverse_input_char_index"
      ],
      "execution_count": 54,
      "outputs": [
        {
          "output_type": "execute_result",
          "data": {
            "text/plain": [
              "{0: 'aa',\n",
              " 1: 'aac',\n",
              " 2: 'aarhus',\n",
              " 3: 'aase',\n",
              " 4: 'aav',\n",
              " 5: 'ab',\n",
              " 6: 'abated',\n",
              " 7: 'abc',\n",
              " 8: 'abdomen',\n",
              " 9: 'abdominal',\n",
              " 10: 'aberration',\n",
              " 11: 'ability',\n",
              " 12: 'abl',\n",
              " 13: 'ablation',\n",
              " 14: 'able',\n",
              " 15: 'abnormal',\n",
              " 16: 'abnormalities',\n",
              " 17: 'abnormality',\n",
              " 18: 'abortion',\n",
              " 19: 'abovementioned',\n",
              " 20: 'abpa',\n",
              " 21: 'abrupt',\n",
              " 22: 'abruption',\n",
              " 23: 'abscess',\n",
              " 24: 'abscesses',\n",
              " 25: 'absence',\n",
              " 26: 'absent',\n",
              " 27: 'absolute',\n",
              " 28: 'absorptiometry',\n",
              " 29: 'absorption',\n",
              " 30: 'abstract',\n",
              " 31: 'abundant',\n",
              " 32: 'abuse',\n",
              " 33: 'ac',\n",
              " 34: 'academy',\n",
              " 35: 'accelerated',\n",
              " 36: 'acceleration',\n",
              " 37: 'acceptable',\n",
              " 38: 'accepted',\n",
              " 39: 'access',\n",
              " 40: 'accessibility',\n",
              " 41: 'accompanied',\n",
              " 42: 'accompanying',\n",
              " 43: 'accordance',\n",
              " 44: 'according',\n",
              " 45: 'accordingly',\n",
              " 46: 'account',\n",
              " 47: 'accountability',\n",
              " 48: 'accounting',\n",
              " 49: 'accounts',\n",
              " 50: 'accumulate',\n",
              " 51: 'accumulating',\n",
              " 52: 'accumulation',\n",
              " 53: 'accuracy',\n",
              " 54: 'accurate',\n",
              " 55: 'acd',\n",
              " 56: 'ace',\n",
              " 57: 'acetaminophen',\n",
              " 58: 'acetate',\n",
              " 59: 'acetazolamide',\n",
              " 60: 'acetonide',\n",
              " 61: 'acetylcholine',\n",
              " 62: 'acetyltransferase',\n",
              " 63: 'achieve',\n",
              " 64: 'achieved',\n",
              " 65: 'achievement',\n",
              " 66: 'achieving',\n",
              " 67: 'aching',\n",
              " 68: 'achr',\n",
              " 69: 'acid',\n",
              " 70: 'acidosis',\n",
              " 71: 'acitretin',\n",
              " 72: 'aclarubicin',\n",
              " 73: 'acne',\n",
              " 74: 'acquired',\n",
              " 75: 'acquires',\n",
              " 76: 'acquiring',\n",
              " 77: 'acquisition',\n",
              " 78: 'acral',\n",
              " 79: 'acromegalic',\n",
              " 80: 'acromegaly',\n",
              " 81: 'across',\n",
              " 82: 'act',\n",
              " 83: 'actcttccccc',\n",
              " 84: 'acted',\n",
              " 85: 'acth',\n",
              " 86: 'acting',\n",
              " 87: 'action',\n",
              " 88: 'actionable',\n",
              " 89: 'actions',\n",
              " 90: 'activated',\n",
              " 91: 'activating',\n",
              " 92: 'activation',\n",
              " 93: 'activator',\n",
              " 94: 'active',\n",
              " 95: 'activities',\n",
              " 96: 'activity',\n",
              " 97: 'acts',\n",
              " 98: 'actual',\n",
              " 99: 'actualized',\n",
              " 100: 'acuity',\n",
              " 101: 'acute',\n",
              " 102: 'ad',\n",
              " 103: 'adalimumab',\n",
              " 104: 'adaptation',\n",
              " 105: 'adapted',\n",
              " 106: 'adc',\n",
              " 107: 'add',\n",
              " 108: 'added',\n",
              " 109: 'addiction',\n",
              " 110: 'addictions',\n",
              " 111: 'addictovigilance',\n",
              " 112: 'adding',\n",
              " 113: 'addition',\n",
              " 114: 'additional',\n",
              " 115: 'additionally',\n",
              " 116: 'addressed',\n",
              " 117: 'ade',\n",
              " 118: 'adefovir',\n",
              " 119: 'adenocarcinoma',\n",
              " 120: 'adenoma',\n",
              " 121: 'adenomas',\n",
              " 122: 'adenosine',\n",
              " 123: 'adenovirus',\n",
              " 124: 'adequate',\n",
              " 125: 'adequately',\n",
              " 126: 'adherence',\n",
              " 127: 'adjacent',\n",
              " 128: 'adjudicated',\n",
              " 129: 'adjunct',\n",
              " 130: 'adjunctive',\n",
              " 131: 'adjusted',\n",
              " 132: 'adjustment',\n",
              " 133: 'adjustments',\n",
              " 134: 'adjuvant',\n",
              " 135: 'administer',\n",
              " 136: 'administered',\n",
              " 137: 'administrating',\n",
              " 138: 'administration',\n",
              " 139: 'administrations',\n",
              " 140: 'admission',\n",
              " 141: 'admissions',\n",
              " 142: 'admitted',\n",
              " 143: 'ado',\n",
              " 144: 'adolescent',\n",
              " 145: 'adolescents',\n",
              " 146: 'adopts',\n",
              " 147: 'adrenal',\n",
              " 148: 'adrenergic',\n",
              " 149: 'adrs',\n",
              " 150: 'adsorption',\n",
              " 151: 'adult',\n",
              " 152: 'adulthood',\n",
              " 153: 'adults',\n",
              " 154: 'adv',\n",
              " 155: 'advanced',\n",
              " 156: 'advances',\n",
              " 157: 'advantage',\n",
              " 158: 'advantageable',\n",
              " 159: 'advantages',\n",
              " 160: 'adverse',\n",
              " 161: 'advised',\n",
              " 162: 'ae',\n",
              " 163: 'aerobic',\n",
              " 164: 'aes',\n",
              " 165: 'afatinib',\n",
              " 166: 'afebrile',\n",
              " 167: 'aff',\n",
              " 168: 'affect',\n",
              " 169: 'affected',\n",
              " 170: 'affecting',\n",
              " 171: 'affects',\n",
              " 172: 'affiliated',\n",
              " 173: 'affinity',\n",
              " 174: 'affordability',\n",
              " 175: 'affs',\n",
              " 176: 'aflibercept',\n",
              " 177: 'africa',\n",
              " 178: 'african',\n",
              " 179: 'afterwards',\n",
              " 180: 'age',\n",
              " 181: 'aged',\n",
              " 182: 'agenesis',\n",
              " 183: 'agent',\n",
              " 184: 'agents',\n",
              " 185: 'ages',\n",
              " 186: 'agglutinin',\n",
              " 187: 'aggravated',\n",
              " 188: 'aggravation',\n",
              " 189: 'aggressive',\n",
              " 190: 'aggressiveness',\n",
              " 191: 'aging',\n",
              " 192: 'ago',\n",
              " 193: 'agonist',\n",
              " 194: 'agonists',\n",
              " 195: 'agreement',\n",
              " 196: 'agv',\n",
              " 197: 'ahc',\n",
              " 198: 'ahct',\n",
              " 199: 'ahmed',\n",
              " 200: 'ahr',\n",
              " 201: 'ahus',\n",
              " 202: 'aichi',\n",
              " 203: 'aih',\n",
              " 204: 'aim',\n",
              " 205: 'aimed',\n",
              " 206: 'aimlong',\n",
              " 207: 'aims',\n",
              " 208: 'air',\n",
              " 209: 'airway',\n",
              " 210: 'al',\n",
              " 211: 'alanine',\n",
              " 212: 'albeit',\n",
              " 213: 'albumin',\n",
              " 214: 'alcl',\n",
              " 215: 'aldosteronism',\n",
              " 216: 'aldrete',\n",
              " 217: 'alert',\n",
              " 218: 'alertness',\n",
              " 219: 'alexandra',\n",
              " 220: 'alfa',\n",
              " 221: 'algerian',\n",
              " 222: 'algorithm',\n",
              " 223: 'algorithms',\n",
              " 224: 'alitretinoin',\n",
              " 225: 'alive',\n",
              " 226: 'alk',\n",
              " 227: 'allele',\n",
              " 228: 'allergan',\n",
              " 229: 'allergen',\n",
              " 230: 'allergens',\n",
              " 231: 'allergic',\n",
              " 232: 'allergies',\n",
              " 233: 'allergy',\n",
              " 234: 'alleviated',\n",
              " 235: 'alleviating',\n",
              " 236: 'alleviation',\n",
              " 237: 'allo',\n",
              " 238: 'allocated',\n",
              " 239: 'allogeneic',\n",
              " 240: 'allograft',\n",
              " 241: 'alloreactive',\n",
              " 242: 'allosct',\n",
              " 243: 'allow',\n",
              " 244: 'allowed',\n",
              " 245: 'allowing',\n",
              " 246: 'allows',\n",
              " 247: 'almost',\n",
              " 248: 'alobar',\n",
              " 249: 'alone',\n",
              " 250: 'along',\n",
              " 251: 'alopecia',\n",
              " 252: 'alpha',\n",
              " 253: 'alport',\n",
              " 254: 'alpps',\n",
              " 255: 'already',\n",
              " 256: 'als',\n",
              " 257: 'also',\n",
              " 258: 'alt',\n",
              " 259: 'alteration',\n",
              " 260: 'alterations',\n",
              " 261: 'altered',\n",
              " 262: 'alternate',\n",
              " 263: 'alternated',\n",
              " 264: 'alternative',\n",
              " 265: 'alternatives',\n",
              " 266: 'although',\n",
              " 267: 'altogether',\n",
              " 268: 'alveolar',\n",
              " 269: 'always',\n",
              " 270: 'alzheimer',\n",
              " 271: 'amantadine',\n",
              " 272: 'amenorrhea',\n",
              " 273: 'america',\n",
              " 274: 'american',\n",
              " 275: 'amhara',\n",
              " 276: 'aminotransferase',\n",
              " 277: 'amitriptyline',\n",
              " 278: 'aml',\n",
              " 279: 'ammoniak',\n",
              " 280: 'among',\n",
              " 281: 'amongst',\n",
              " 282: 'amount',\n",
              " 283: 'amphotericin',\n",
              " 284: 'ample',\n",
              " 285: 'amplitude',\n",
              " 286: 'ampules',\n",
              " 287: 'amr',\n",
              " 288: 'anaemia',\n",
              " 289: 'anaesthesia',\n",
              " 290: 'anagrelide',\n",
              " 291: 'anakinra',\n",
              " 292: 'anal',\n",
              " 293: 'analgesia',\n",
              " 294: 'analgesic',\n",
              " 295: 'analog',\n",
              " 296: 'analogue',\n",
              " 297: 'analogues',\n",
              " 298: 'analyse',\n",
              " 299: 'analysed',\n",
              " 300: 'analyses',\n",
              " 301: 'analysis',\n",
              " 302: 'analyzable',\n",
              " 303: 'analyze',\n",
              " 304: 'analyzed',\n",
              " 305: 'analyzing',\n",
              " 306: 'anaphylactic',\n",
              " 307: 'anaphylaxis',\n",
              " 308: 'anaplastic',\n",
              " 309: 'anastomoses',\n",
              " 310: 'anastomosis',\n",
              " 311: 'anatomical',\n",
              " 312: 'anca',\n",
              " 313: 'ancova',\n",
              " 314: 'andererseits',\n",
              " 315: 'andexanet',\n",
              " 316: 'anemia',\n",
              " 317: 'anemic',\n",
              " 318: 'anesthesia',\n",
              " 319: 'anesthesiologists',\n",
              " 320: 'anesthetist',\n",
              " 321: 'aneurysmal',\n",
              " 322: 'aneurysmatic',\n",
              " 323: 'angioedema',\n",
              " 324: 'angiogenesis',\n",
              " 325: 'angiogenic',\n",
              " 326: 'angiographic',\n",
              " 327: 'angiography',\n",
              " 328: 'angiosarcoma',\n",
              " 329: 'angiosarcomas',\n",
              " 330: 'angle',\n",
              " 331: 'angola',\n",
              " 332: 'anhydrase',\n",
              " 333: 'anion',\n",
              " 334: 'ankylosing',\n",
              " 335: 'annual',\n",
              " 336: 'anomalies',\n",
              " 337: 'anonymized',\n",
              " 338: 'anorexia',\n",
              " 339: 'anorgasmia',\n",
              " 340: 'another',\n",
              " 341: 'antagonist',\n",
              " 342: 'antagonists',\n",
              " 343: 'antenatal',\n",
              " 344: 'anterior',\n",
              " 345: 'anti',\n",
              " 346: 'antibiotic',\n",
              " 347: 'antibiotics',\n",
              " 348: 'antibodies',\n",
              " 349: 'antibody',\n",
              " 350: 'anticancer',\n",
              " 351: 'anticholinergic',\n",
              " 352: 'anticoagulant',\n",
              " 353: 'anticoagulants',\n",
              " 354: 'anticoagulation',\n",
              " 355: 'antidepressant',\n",
              " 356: 'antidepressants',\n",
              " 357: 'antidiabetic',\n",
              " 358: 'antiepileptic',\n",
              " 359: 'antifungal',\n",
              " 360: 'antifungals',\n",
              " 361: 'antigen',\n",
              " 362: 'antiglaucoma',\n",
              " 363: 'antihelminthic',\n",
              " 364: 'antihistamines',\n",
              " 365: 'antihypertensive',\n",
              " 366: 'antimetabolite',\n",
              " 367: 'antimicrobial',\n",
              " 368: 'antimicrobials',\n",
              " 369: 'antineoplastic',\n",
              " 370: 'antineutrophil',\n",
              " 371: 'antiphospholipid',\n",
              " 372: 'antiplatelet',\n",
              " 373: 'antipsoriatic',\n",
              " 374: 'antipsychotics',\n",
              " 375: 'antiresorptive',\n",
              " 376: 'antiretroviral',\n",
              " 377: 'antirheumatic',\n",
              " 378: 'antisynthetase',\n",
              " 379: 'antithrombotic',\n",
              " 380: 'antithyroid',\n",
              " 381: 'antituberculosis',\n",
              " 382: 'antitumor',\n",
              " 383: 'antiviral',\n",
              " 384: 'antivirals',\n",
              " 385: 'anus',\n",
              " 386: 'anxiety',\n",
              " 387: 'aor',\n",
              " 388: 'apart',\n",
              " 389: 'aphasia',\n",
              " 390: 'aplasia',\n",
              " 391: 'aplastic',\n",
              " 392: 'apolipoprotein',\n",
              " 393: 'aponeurosis',\n",
              " 394: 'apoptosis',\n",
              " 395: 'apparent',\n",
              " 396: 'apparently',\n",
              " 397: 'appealing',\n",
              " 398: 'appear',\n",
              " 399: 'appearance',\n",
              " 400: 'appeared',\n",
              " 401: 'appears',\n",
              " 402: 'applicable',\n",
              " 403: 'application',\n",
              " 404: 'applications',\n",
              " 405: 'applied',\n",
              " 406: 'appreciable',\n",
              " 407: 'approach',\n",
              " 408: 'approaches',\n",
              " 409: 'appropriate',\n",
              " 410: 'appropriateness',\n",
              " 411: 'approval',\n",
              " 412: 'approved',\n",
              " 413: 'approximate',\n",
              " 414: 'approximately',\n",
              " 415: 'april',\n",
              " 416: 'aprop',\n",
              " 417: 'aprs',\n",
              " 418: 'aptt',\n",
              " 419: 'aquaport',\n",
              " 420: 'aqueous',\n",
              " 421: 'area',\n",
              " 422: 'areas',\n",
              " 423: 'arena',\n",
              " 424: 'argue',\n",
              " 425: 'aripazine',\n",
              " 426: 'arising',\n",
              " 427: 'arm',\n",
              " 428: 'arms',\n",
              " 429: 'arose',\n",
              " 430: 'around',\n",
              " 431: 'arrest',\n",
              " 432: 'arrhythmia',\n",
              " 433: 'art',\n",
              " 434: 'artemether',\n",
              " 435: 'artemisinin',\n",
              " 436: 'arterial',\n",
              " 437: 'arteries',\n",
              " 438: 'arteriogram',\n",
              " 439: 'arteriolar',\n",
              " 440: 'arteriosus',\n",
              " 441: 'arteritis',\n",
              " 442: 'artery',\n",
              " 443: 'artesunate',\n",
              " 444: 'arthralgia',\n",
              " 445: 'arthralgias',\n",
              " 446: 'arthritis',\n",
              " 447: 'arthropathy',\n",
              " 448: 'article',\n",
              " 449: 'articles',\n",
              " 450: 'articular',\n",
              " 451: 'arytenoid',\n",
              " 452: 'asaps',\n",
              " 453: 'ascites',\n",
              " 454: 'ascospores',\n",
              " 455: 'asian',\n",
              " 456: 'asked',\n",
              " 457: 'asks',\n",
              " 458: 'asleep',\n",
              " 459: 'aspect',\n",
              " 460: 'aspects',\n",
              " 461: 'aspergillosis',\n",
              " 462: 'aspergillus',\n",
              " 463: 'aspirate',\n",
              " 464: 'aspiration',\n",
              " 465: 'assay',\n",
              " 466: 'assays',\n",
              " 467: 'assess',\n",
              " 468: 'assessed',\n",
              " 469: 'assessing',\n",
              " 470: 'assessment',\n",
              " 471: 'assessments',\n",
              " 472: 'assigned',\n",
              " 473: 'assignments',\n",
              " 474: 'assisted',\n",
              " 475: 'associated',\n",
              " 476: 'associating',\n",
              " 477: 'association',\n",
              " 478: 'associations',\n",
              " 479: 'assume',\n",
              " 480: 'assumed',\n",
              " 481: 'assumptions',\n",
              " 482: 'asthenia',\n",
              " 483: 'asthma',\n",
              " 484: 'asymmetric',\n",
              " 485: 'asymptomatic',\n",
              " 486: 'ata',\n",
              " 487: 'ataxia',\n",
              " 488: 'atezolizumab',\n",
              " 489: 'atopic',\n",
              " 490: 'atrial',\n",
              " 491: 'atrioventricular',\n",
              " 492: 'attack',\n",
              " 493: 'attacks',\n",
              " 494: 'attempt',\n",
              " 495: 'attempted',\n",
              " 496: 'attempting',\n",
              " 497: 'attended',\n",
              " 498: 'attending',\n",
              " 499: 'attention',\n",
              " 500: 'attenuated',\n",
              " 501: 'attractive',\n",
              " 502: 'attributable',\n",
              " 503: 'attributed',\n",
              " 504: 'attrition',\n",
              " 505: 'atypical',\n",
              " 506: 'auc',\n",
              " 507: 'audit',\n",
              " 508: 'august',\n",
              " 509: 'aureus',\n",
              " 510: 'austin',\n",
              " 511: 'australia',\n",
              " 512: 'australian',\n",
              " 513: 'austrian',\n",
              " 514: 'authorities',\n",
              " 515: 'authorization',\n",
              " 516: 'authors',\n",
              " 517: 'autoantibodies',\n",
              " 518: 'autofluorescence',\n",
              " 519: 'autoimmune',\n",
              " 520: 'autoimmunity',\n",
              " 521: 'autologous',\n",
              " 522: 'autonomic',\n",
              " 523: 'autopsy',\n",
              " 524: 'autosomal',\n",
              " 525: 'av',\n",
              " 526: 'availability',\n",
              " 527: 'available',\n",
              " 528: 'average',\n",
              " 529: 'aversion',\n",
              " 530: 'avibactam',\n",
              " 531: 'avidity',\n",
              " 532: 'avocado',\n",
              " 533: 'avoid',\n",
              " 534: 'avoiding',\n",
              " 535: 'awake',\n",
              " 536: 'aware',\n",
              " 537: 'awareness',\n",
              " 538: 'axi',\n",
              " 539: 'axial',\n",
              " 540: 'axicabtagene',\n",
              " 541: 'axillary',\n",
              " 542: 'axis',\n",
              " 543: 'axitinib',\n",
              " 544: 'azacitidine',\n",
              " 545: 'azar',\n",
              " 546: 'azathioprine',\n",
              " 547: 'azd',\n",
              " 548: 'azithromycin',\n",
              " 549: 'azole',\n",
              " 550: 'azyter',\n",
              " 551: 'b',\n",
              " 552: 'baby',\n",
              " 553: 'back',\n",
              " 554: 'backbone',\n",
              " 555: 'background',\n",
              " 556: 'bacteremia',\n",
              " 557: 'bacteria',\n",
              " 558: 'bacterial',\n",
              " 559: 'bacteriological',\n",
              " 560: 'balance',\n",
              " 561: 'balloon',\n",
              " 562: 'banana',\n",
              " 563: 'banded',\n",
              " 564: 'barrett',\n",
              " 565: 'barrier',\n",
              " 566: 'barré',\n",
              " 567: 'basal',\n",
              " 568: 'based',\n",
              " 569: 'baseline',\n",
              " 570: 'basement',\n",
              " 571: 'basic',\n",
              " 572: 'basiliximab',\n",
              " 573: 'basis',\n",
              " 574: 'basophil',\n",
              " 575: 'basophils',\n",
              " 576: 'bat',\n",
              " 577: 'bats',\n",
              " 578: 'bb',\n",
              " 579: 'bcg',\n",
              " 580: 'bcr',\n",
              " 581: 'bcva',\n",
              " 582: 'beats',\n",
              " 583: 'became',\n",
              " 584: 'become',\n",
              " 585: 'becomes',\n",
              " 586: 'becoming',\n",
              " 587: 'bee',\n",
              " 588: 'began',\n",
              " 589: 'begin',\n",
              " 590: 'beginning',\n",
              " 591: 'behçet',\n",
              " 592: 'bei',\n",
              " 593: 'beijing',\n",
              " 594: 'belatacept',\n",
              " 595: 'believe',\n",
              " 596: 'believed',\n",
              " 597: 'belimumab',\n",
              " 598: 'belonged',\n",
              " 599: 'bendamustine',\n",
              " 600: 'beneficial',\n",
              " 601: 'benefit',\n",
              " 602: 'benefited',\n",
              " 603: 'benefits',\n",
              " 604: 'benign',\n",
              " 605: 'benlysta',\n",
              " 606: 'berinert',\n",
              " 607: 'beside',\n",
              " 608: 'besides',\n",
              " 609: 'best',\n",
              " 610: 'beta',\n",
              " 611: 'betracht',\n",
              " 612: 'better',\n",
              " 613: 'bev',\n",
              " 614: 'bevacizumab',\n",
              " 615: 'beyond',\n",
              " 616: 'bicarbonate',\n",
              " 617: 'bicytopenia',\n",
              " 618: 'bid',\n",
              " 619: 'bilateral',\n",
              " 620: 'bilaterally',\n",
              " 621: 'biliary',\n",
              " 622: 'bilirubin',\n",
              " 623: 'bilobectomy',\n",
              " 624: 'binary',\n",
              " 625: 'binding',\n",
              " 626: 'binocular',\n",
              " 627: 'biochemical',\n",
              " 628: 'biochemically',\n",
              " 629: 'biologic',\n",
              " 630: 'biological',\n",
              " 631: 'biologics',\n",
              " 632: 'biomarker',\n",
              " 633: 'biomarkers',\n",
              " 634: 'biomicroscopy',\n",
              " 635: 'biopsies',\n",
              " 636: 'biopsy',\n",
              " 637: 'bioresorbable',\n",
              " 638: 'biotechnological',\n",
              " 639: 'biphasic',\n",
              " 640: 'bipolar',\n",
              " 641: 'birth',\n",
              " 642: 'births',\n",
              " 643: 'birthweight',\n",
              " 644: 'bismuth',\n",
              " 645: 'bisphosphonate',\n",
              " 646: 'bisphosphonates',\n",
              " 647: 'bite',\n",
              " 648: 'biventricular',\n",
              " 649: 'biweekly',\n",
              " 650: 'bk',\n",
              " 651: 'bkpyv',\n",
              " 652: 'bkpyvan',\n",
              " 653: 'bl',\n",
              " 654: 'black',\n",
              " 655: 'blast',\n",
              " 656: 'blasts',\n",
              " 657: 'bleed',\n",
              " 658: 'bleeding',\n",
              " 659: 'bleeds',\n",
              " 660: 'bleomycin',\n",
              " 661: 'blepharitis',\n",
              " 662: 'blepharokeratoconjunctivitis',\n",
              " 663: 'blepharoptosis',\n",
              " 664: 'blind',\n",
              " 665: 'blinded',\n",
              " 666: 'blindness',\n",
              " 667: 'blistering',\n",
              " 668: 'bloc',\n",
              " 669: 'block',\n",
              " 670: 'blockade',\n",
              " 671: 'blocker',\n",
              " 672: 'blockers',\n",
              " 673: 'blocking',\n",
              " 674: 'blocks',\n",
              " 675: 'blood',\n",
              " 676: 'bloodstream',\n",
              " 677: 'bloody',\n",
              " 678: 'blurred',\n",
              " 679: 'blurring',\n",
              " 680: 'bm',\n",
              " 681: 'bmd',\n",
              " 682: 'bmi',\n",
              " 683: 'bmt',\n",
              " 684: 'body',\n",
              " 685: 'bodyweight',\n",
              " 686: 'bolus',\n",
              " 687: 'boluses',\n",
              " 688: 'bone',\n",
              " 689: 'bones',\n",
              " 690: 'boost',\n",
              " 691: 'boosted',\n",
              " 692: 'booster',\n",
              " 693: 'borderline',\n",
              " 694: 'borders',\n",
              " 695: 'born',\n",
              " 696: 'bortezomib',\n",
              " 697: 'bound',\n",
              " 698: 'bowel',\n",
              " 699: 'bowing',\n",
              " 700: 'boy',\n",
              " 701: 'boys',\n",
              " 702: 'bp',\n",
              " 703: 'bpm',\n",
              " 704: 'bradford',\n",
              " 705: 'bradycardia',\n",
              " 706: 'bradykinesia',\n",
              " 707: 'braf',\n",
              " 708: 'brain',\n",
              " 709: 'brainstem',\n",
              " 710: 'branch',\n",
              " 711: 'branching',\n",
              " 712: 'brazil',\n",
              " 713: 'brca',\n",
              " 714: 'break',\n",
              " 715: 'breakfast',\n",
              " 716: 'breaking',\n",
              " 717: 'breast',\n",
              " 718: 'breath',\n",
              " 719: 'breslow',\n",
              " 720: 'briefly',\n",
              " 721: 'bring',\n",
              " 722: 'brings',\n",
              " 723: 'brisbane',\n",
              " 724: 'broad',\n",
              " 725: 'bromocriptine',\n",
              " 726: 'bronchoalveolar',\n",
              " 727: 'bronchopulmonary',\n",
              " 728: 'bronchospasm',\n",
              " 729: 'bronx',\n",
              " 730: 'brothers',\n",
              " 731: 'brucellosis',\n",
              " 732: 'bruising',\n",
              " 733: 'bruton',\n",
              " 734: 'brvo',\n",
              " 735: 'bsi',\n",
              " 736: 'btc',\n",
              " 737: 'btk',\n",
              " 738: 'buildup',\n",
              " 739: 'bulbar',\n",
              " 740: 'bulbous',\n",
              " 741: 'bullous',\n",
              " 742: 'bundle',\n",
              " 743: 'bupivacaine',\n",
              " 744: 'burden',\n",
              " 745: 'burdened',\n",
              " 746: 'burdens',\n",
              " 747: 'burdensome',\n",
              " 748: 'burkitt',\n",
              " 749: 'burning',\n",
              " 750: 'bvs',\n",
              " 751: 'bvss',\n",
              " 752: 'c',\n",
              " 753: 'cabergoline',\n",
              " 754: 'cad',\n",
              " 755: 'cadaveric',\n",
              " 756: 'calcineurin',\n",
              " 757: 'calcitonin',\n",
              " 758: 'calcium',\n",
              " 759: 'calculate',\n",
              " 760: 'calculated',\n",
              " 761: 'callosum',\n",
              " 762: 'calmodulin',\n",
              " 763: 'calorimetry',\n",
              " 764: 'calprotectin',\n",
              " 765: 'cameroonian',\n",
              " 766: 'canal',\n",
              " 767: 'cancer',\n",
              " 768: 'cancers',\n",
              " 769: 'candida',\n",
              " 770: 'candidates',\n",
              " 771: 'candidiasis',\n",
              " 772: 'cannot',\n",
              " 773: 'capability',\n",
              " 774: 'capacities',\n",
              " 775: 'capgras',\n",
              " 776: 'capillaries',\n",
              " 777: 'capillary',\n",
              " 778: 'capping',\n",
              " 779: 'capsid',\n",
              " 780: 'capsule',\n",
              " 781: 'capsulized',\n",
              " 782: 'carbapenem',\n",
              " 783: 'carbapenemase',\n",
              " 784: 'carbonic',\n",
              " 785: 'carboplatin',\n",
              " 786: 'carcinogenesis',\n",
              " 787: 'carcinoma',\n",
              " 788: 'carcinomas',\n",
              " 789: 'carcinomatosis',\n",
              " 790: 'cardiac',\n",
              " 791: 'cardio',\n",
              " 792: 'cardiologist',\n",
              " 793: 'cardiology',\n",
              " 794: 'cardiomyopathy',\n",
              " 795: 'cardioprotective',\n",
              " 796: 'cardiotoxicities',\n",
              " 797: 'cardiotoxicity',\n",
              " 798: 'cardiovascular',\n",
              " 799: 'care',\n",
              " 800: 'careful',\n",
              " 801: 'carefully',\n",
              " 802: 'caregiver',\n",
              " 803: 'caregivers',\n",
              " 804: 'carfilzomib',\n",
              " 805: 'caring',\n",
              " 806: 'carotid',\n",
              " 807: 'carried',\n",
              " 808: 'carriers',\n",
              " 809: 'carries',\n",
              " 810: 'carrying',\n",
              " 811: 'cascades',\n",
              " 812: 'case',\n",
              " 813: 'cases',\n",
              " 814: 'castrate',\n",
              " 815: 'category',\n",
              " 816: 'catheter',\n",
              " 817: 'catheterization',\n",
              " 818: 'caucasian',\n",
              " 819: 'caudate',\n",
              " 820: 'causal',\n",
              " 821: 'causality',\n",
              " 822: 'causative',\n",
              " 823: 'cause',\n",
              " 824: 'caused',\n",
              " 825: 'causes',\n",
              " 826: 'causing',\n",
              " 827: 'caution',\n",
              " 828: 'cautious',\n",
              " 829: 'cava',\n",
              " 830: 'cavernous',\n",
              " 831: 'ccl',\n",
              " 832: 'ccr',\n",
              " 833: 'ccrt',\n",
              " 834: 'cd',\n",
              " 835: 'cdai',\n",
              " 836: 'cdc',\n",
              " 837: 'cdlow',\n",
              " 838: 'cdro',\n",
              " 839: 'ce',\n",
              " 840: 'ceased',\n",
              " 841: 'cebocephaly',\n",
              " 842: 'cefazolin',\n",
              " 843: 'cefepime',\n",
              " 844: 'ceftazidime',\n",
              " 845: 'ceftriaxone',\n",
              " 846: 'cel',\n",
              " 847: 'cell',\n",
              " 848: 'cells',\n",
              " 849: 'cellular',\n",
              " 850: 'cellulitis',\n",
              " 851: 'cent',\n",
              " 852: 'center',\n",
              " 853: 'centered',\n",
              " 854: 'centers',\n",
              " 855: 'central',\n",
              " 856: 'centre',\n",
              " 857: 'centres',\n",
              " 858: 'century',\n",
              " 859: 'cephalic',\n",
              " 860: 'cerebellar',\n",
              " 861: 'cerebral',\n",
              " 862: 'cerebri',\n",
              " 863: 'cerebro',\n",
              " 864: 'cerebrospinal',\n",
              " 865: 'cerebrovascular',\n",
              " 866: 'certain',\n",
              " 867: 'cervical',\n",
              " 868: 'cesarean',\n",
              " 869: 'cessation',\n",
              " 870: 'cetirizine',\n",
              " 871: 'cetuximab',\n",
              " 872: 'cf',\n",
              " 873: 'cfdna',\n",
              " 874: 'cfe',\n",
              " 875: 'cg',\n",
              " 876: 'cgm',\n",
              " 877: 'cgy',\n",
              " 878: 'ch',\n",
              " 879: 'chain',\n",
              " 880: 'challenge',\n",
              " 881: 'challenges',\n",
              " 882: 'challenging',\n",
              " 883: 'chamber',\n",
              " 884: 'chance',\n",
              " 885: 'chances',\n",
              " 886: 'change',\n",
              " 887: 'changed',\n",
              " 888: 'changes',\n",
              " 889: 'characteristic',\n",
              " 890: 'characteristics',\n",
              " 891: 'characterization',\n",
              " 892: 'characterize',\n",
              " 893: 'characterized',\n",
              " 894: 'characterizing',\n",
              " 895: 'chart',\n",
              " 896: 'charts',\n",
              " 897: 'check',\n",
              " 898: 'checked',\n",
              " 899: 'checkpoint',\n",
              " 900: 'checkup',\n",
              " 901: 'chelating',\n",
              " 902: 'chelation',\n",
              " 903: 'chelator',\n",
              " 904: 'chemical',\n",
              " 905: 'chemistry',\n",
              " 906: 'chemo',\n",
              " 907: 'chemoembolization',\n",
              " 908: 'chemokine',\n",
              " 909: 'chemoradiation',\n",
              " 910: 'chemoradiotherapy',\n",
              " 911: 'chemorefractory',\n",
              " 912: 'chemoresistance',\n",
              " 913: 'chemotherapeutic',\n",
              " 914: 'chemotherapy',\n",
              " 915: 'chest',\n",
              " 916: 'chi',\n",
              " 917: 'chicken',\n",
              " 918: 'child',\n",
              " 919: 'childbearing',\n",
              " 920: 'childhood',\n",
              " 921: 'children',\n",
              " 922: 'chimeric',\n",
              " 923: 'china',\n",
              " 924: 'chinese',\n",
              " 925: 'chlorhexidine',\n",
              " 926: 'chloride',\n",
              " 927: 'chloroquine',\n",
              " 928: 'choice',\n",
              " 929: 'cholecystitis',\n",
              " 930: 'cholestatic',\n",
              " 931: 'cholesterol',\n",
              " 932: 'chondrosarcoma',\n",
              " 933: 'chongqing',\n",
              " 934: 'choosing',\n",
              " 935: 'chop',\n",
              " 936: 'chordoma',\n",
              " 937: 'chorionic',\n",
              " 938: 'choroidal',\n",
              " 939: 'chosen',\n",
              " 940: 'chromatography',\n",
              " 941: 'chromosomal',\n",
              " 942: 'chromosome',\n",
              " 943: 'chronic',\n",
              " 944: 'chronically',\n",
              " 945: 'chronotropic',\n",
              " 946: 'chx',\n",
              " 947: 'ci',\n",
              " 948: 'cilengitide',\n",
              " 949: 'ciloleucel',\n",
              " 950: 'cin',\n",
              " 951: 'ciprofloxacin',\n",
              " 952: 'circles',\n",
              " 953: 'circular',\n",
              " 954: 'circulation',\n",
              " 955: 'circulatory',\n",
              " 956: 'circumstance',\n",
              " 957: 'cirrhosis',\n",
              " 958: 'cirrhotic',\n",
              " 959: 'cisplatin',\n",
              " 960: 'citrate',\n",
              " 961: 'city',\n",
              " 962: 'clamping',\n",
              " 963: 'clarified',\n",
              " 964: 'clarify',\n",
              " 965: 'class',\n",
              " 966: 'classes',\n",
              " 967: 'classic',\n",
              " 968: 'classical',\n",
              " 969: 'classified',\n",
              " 970: 'classify',\n",
              " 971: 'clavicle',\n",
              " 972: 'clear',\n",
              " 973: 'clearance',\n",
              " 974: 'clearly',\n",
              " 975: 'climbing',\n",
              " 976: 'clindamycin',\n",
              " 977: 'clinic',\n",
              " 978: 'clinical',\n",
              " 979: 'clinically',\n",
              " 980: 'clinicaltrial',\n",
              " 981: 'clinicaltrials',\n",
              " 982: 'clinicians',\n",
              " 983: 'clinicopathologically',\n",
              " 984: 'clinics',\n",
              " 985: 'cll',\n",
              " 986: 'clonality',\n",
              " 987: 'clonazepam',\n",
              " 988: 'clones',\n",
              " 989: 'clonidine',\n",
              " 990: 'close',\n",
              " 991: 'closed',\n",
              " 992: 'closely',\n",
              " 993: 'clostridium',\n",
              " 994: 'closure',\n",
              " 995: 'cloxacillin',\n",
              " 996: 'clta',\n",
              " 997: 'cm',\n",
              " 998: 'cmi',\n",
              " 999: 'cmis',\n",
              " ...}"
            ]
          },
          "metadata": {},
          "execution_count": 54
        }
      ]
    },
    {
      "cell_type": "markdown",
      "metadata": {
        "collapsed": true,
        "id": "z8h_qoJ6Y8W2"
      },
      "source": [
        "#### Function to generate sequences"
      ]
    },
    {
      "cell_type": "code",
      "metadata": {
        "id": "kjzldAOMY8W3"
      },
      "source": [
        "def decode_sequence(input_seq):\n",
        "    # Encode the input as state vectors.\n",
        "    states_value = encoder_model.predict(input_seq)\n",
        "\n",
        "    # Generate empty target sequence of length 1.\n",
        "    target_seq = np.zeros((1,1))\n",
        "\n",
        "    # Sampling loop for a batch of sequences\n",
        "    # (to simplify, here we assume a batch of size 1).\n",
        "    stop_condition = False\n",
        "    decoded_sentence = ''\n",
        "    while not stop_condition:\n",
        "        output_tokens, h, c = decoder_model.predict(\n",
        "            [target_seq] + states_value)\n",
        "\n",
        "        # Sample a token\n",
        "        sampled_token_index = np.argmax(output_tokens[0, -1, :])\n",
        "        sampled_char = reverse_target_char_index[sampled_token_index]\n",
        "        decoded_sentence += ' '+sampled_char\n",
        "\n",
        "        # Exit condition: either hit max length\n",
        "        # or find stop character.\n",
        "        if (sampled_char == '.' or\n",
        "           len(decoded_sentence) > 52):\n",
        "            stop_condition = True\n",
        "\n",
        "        # Update the target sequence (of length 1).\n",
        "        target_seq = np.zeros((1,1))\n",
        "        target_seq[0, 0] = sampled_token_index\n",
        "\n",
        "        # Update states\n",
        "        states_value = [h, c]\n",
        "\n",
        "    return decoded_sentence"
      ],
      "execution_count": 60,
      "outputs": []
    },
    {
      "cell_type": "markdown",
      "metadata": {
        "id": "DATR4KD3Y8W3"
      },
      "source": [
        "#### Look at the some sentences:"
      ]
    },
    {
      "cell_type": "code",
      "metadata": {
        "colab": {
          "base_uri": "https://localhost:8080/"
        },
        "id": "YOdudfm7rR1c",
        "outputId": "5e287201-34cd-46d1-a1d7-279c771719ad"
      },
      "source": [
        "encoder_input_data[2012: 2012+ 1]"
      ],
      "execution_count": 49,
      "outputs": [
        {
          "output_type": "execute_result",
          "data": {
            "text/plain": [
              "array([[4273., 3930., 5257., 4462.,    0.,    0.,    0.,    0.,    0.,\n",
              "           0.,    0.,    0.,    0.,    0.,    0.,    0.,    0.,    0.,\n",
              "           0.,    0.,    0.,    0.,    0.,    0.,    0.,    0.,    0.,\n",
              "           0.,    0.,    0.,    0.,    0.,    0.,    0.,    0.,    0.,\n",
              "           0.,    0.,    0.,    0.,    0.,    0.,    0.,    0.,    0.,\n",
              "           0.,    0.]], dtype=float32)"
            ]
          },
          "metadata": {},
          "execution_count": 49
        }
      ]
    },
    {
      "cell_type": "code",
      "metadata": {
        "colab": {
          "base_uri": "https://localhost:8080/"
        },
        "id": "Quq0qkuLY8W3",
        "outputId": "5c74417f-20c4-4270-ab4f-0d32dd145c21"
      },
      "source": [
        "for seq_index in [77,2012,3035,400,2056,408,590,1095,2153]:\n",
        "    input_seq = encoder_input_data[seq_index: seq_index + 1]\n",
        "    decoded_sentence = decode_sequence(input_seq)\n",
        "    print('-')\n",
        "    print('Input sentence:', lines[seq_index: seq_index + 1])\n",
        "    print('Decoded sentence:', decoded_sentence)"
      ],
      "execution_count": 61,
      "outputs": [
        {
          "output_type": "stream",
          "name": "stdout",
          "text": [
            "-\n",
            "Input sentence: ['additionally vitro assay demonstrated expression glut increased rcc cells surviving hypoxia condition via mtor pathway']\n",
            "Decoded sentence:  urealyticum urealyticum macula needed dlbcl somewhat\n",
            "-\n",
            "Input sentence: ['patients nih scores points']\n",
            "Decoded sentence:  urealyticum urealyticum macula needed dlbcl somewhat\n",
            "-\n",
            "Input sentence: ['study aimed clarify efficacy safety interferon free therapy sofosbuvir ledipasvir without ribavirin weeks japanese patients hcv genotype infection living donor liver transplantation']\n",
            "Decoded sentence:  urealyticum urealyticum threatening polymerase cfdna\n",
            "-\n",
            "Input sentence: ['myasthenia gravis foundation america postintervention status scale used assess outcomes']\n",
            "Decoded sentence:  urealyticum urealyticum macula needed dlbcl somewhat\n",
            "-\n",
            "Input sentence: ['without locally available active therapeutic option patient maintenance therapy drv mg day tdf tc patient family centered adherence reinforced']\n",
            "Decoded sentence:  urealyticum urealyticum threatening polymerase cfdna\n",
            "-\n",
            "Input sentence: ['three months rtx']\n",
            "Decoded sentence:  urealyticum urealyticum macula needed dlbcl somewhat\n",
            "-\n",
            "Input sentence: ['pfs os longer tmz bev arm though difference reach statistical significance']\n",
            "Decoded sentence:  urealyticum urealyticum macula needed dlbcl somewhat\n",
            "-\n",
            "Input sentence: ['lymphomatosis cerebri presents significant diagnostic challenge reported present parkinsonism']\n",
            "Decoded sentence:  urealyticum urealyticum macula needed dlbcl somewhat\n",
            "-\n",
            "Input sentence: ['g ivs associated alport syndrome']\n",
            "Decoded sentence:  urealyticum urealyticum macula needed dlbcl somewhat\n"
          ]
        }
      ]
    },
    {
      "cell_type": "code",
      "metadata": {
        "collapsed": true,
        "id": "4gh-4vdwY8W4"
      },
      "source": [
        ""
      ],
      "execution_count": null,
      "outputs": []
    }
  ]
}